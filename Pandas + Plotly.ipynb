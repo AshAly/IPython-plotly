{
 "metadata": {
  "name": ""
 },
 "nbformat": 3,
 "nbformat_minor": 0,
 "worksheets": [
  {
   "cells": [
    {
     "cell_type": "code",
     "collapsed": false,
     "input": [
      "import plotly"
     ],
     "language": "python",
     "metadata": {},
     "outputs": [],
     "prompt_number": 1
    },
    {
     "cell_type": "code",
     "collapsed": false,
     "input": [
      "reg = plotly.signup('pandas_and_plotly_demo', 'foo@bar.com')"
     ],
     "language": "python",
     "metadata": {},
     "outputs": [
      {
       "output_type": "stream",
       "stream": "stdout",
       "text": [
        "Thanks for signing up to plotly!\n",
        "\n",
        "Your username is: pandas_and_plotly_demo\n",
        "\n",
        "Your temporary password is: 3eowi. You use this to log into your plotly account at https://plot.ly/plot.\n",
        "\n",
        "Your API key is: e39otewkg2. You use this to access your plotly account through the API.\n",
        "\n",
        "To get started, initialize a plotly object with your username and api_key, e.g. \n",
        ">>> py = plotly.plotly('pandas_and_plotly_demo', 'e39otewkg2')\n",
        "Then, make a graph!\n",
        ">>> res = py.plot([1,2,3],[4,2,1])\n",
        "\n",
        ">>> print(res['url'])\n",
        "\n"
       ]
      }
     ],
     "prompt_number": 3
    },
    {
     "cell_type": "markdown",
     "metadata": {},
     "source": [
      "This simple example shows how easy it is to generate plot data from Pandas' `groupby` method. Using the Titanic passenger dataset, we can easily generate a boxplot of age distribution by passenger class."
     ]
    },
    {
     "cell_type": "code",
     "collapsed": false,
     "input": [
      "import pandas as pd\n",
      "\n",
      "titanic = pd.read_csv(\"http://biostat.mc.vanderbilt.edu/wiki/pub/Main/DataSets/titanic3.csv\")"
     ],
     "language": "python",
     "metadata": {},
     "outputs": [],
     "prompt_number": 4
    },
    {
     "cell_type": "code",
     "collapsed": false,
     "input": [
      "age_by_class = [{'y': data.values, \n",
      "                 'name': pclass,\n",
      "                 'type': 'box',\n",
      "                 'boxpoints': 'all', \n",
      "                 'jitter': 0.3} for pclass,data in list(titanic.groupby('pclass')['age'])]"
     ],
     "language": "python",
     "metadata": {},
     "outputs": [],
     "prompt_number": 5
    },
    {
     "cell_type": "code",
     "collapsed": false,
     "input": [
      "ply = plotly.plotly(reg['un'], reg['api_key'])\n",
      "ply.iplot(age_by_class)"
     ],
     "language": "python",
     "metadata": {},
     "outputs": [
      {
       "output_type": "stream",
       "stream": "stdout",
       "text": [
        "\n",
        "\n",
        "\n"
       ]
      },
      {
       "html": [
        "<iframe height=\"650\" id=\"igraph\" scrolling=\"no\" seamless=\"seamless\" src=\"https://plot.ly/~pandas_and_plotly_demo/1/600/600\" width=\"650\"></iframe>"
       ],
       "metadata": {},
       "output_type": "pyout",
       "prompt_number": 9,
       "text": [
        "<IPython.core.display.HTML at 0x10ed83f90>"
       ]
      }
     ],
     "prompt_number": 9
    }
   ],
   "metadata": {}
  }
 ]
}