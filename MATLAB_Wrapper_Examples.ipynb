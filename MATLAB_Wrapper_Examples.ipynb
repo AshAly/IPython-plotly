{
 "metadata": {
  "name": ""
 },
 "nbformat": 3,
 "nbformat_minor": 0,
 "worksheets": [
  {
   "cells": [
    {
     "cell_type": "markdown",
     "metadata": {},
     "source": [
      "Running [MATLAB in an IPython Notebook](https://github.com/arokem/python-matlab-bridge)\n",
      "=====================================\n",
      "\n",
      "With [Interactive MATLAB Graphing in Plotly](https://plot.ly/api/MATLAB)\n",
      "------------------------------------------------------------------------\n",
      "NOW WITH THE EASY TO USE MATLAB WRAPPER!\n",
      "\n",
      "Check out more examples interactive Plotly graphs in IPython notebooks here: [nbviewer.ipython.org/github/plotly/IPython-plotly/tree/master/](nbviewer.ipython.org/github/plotly/IPython-plotly/tree/master/)\n",
      "\n",
      "Questions? <andrey@plot.ly>, [@plotlygraphs](http://twitter.com/plotlygraphs)"
     ]
    },
    {
     "cell_type": "markdown",
     "metadata": {},
     "source": [
      "The Plotly MATLAB API allows you to leverage all the power of Plotly graphs conveniently from your scientific computing environment. You can work in MATLAB, share your graphs and data, and then edit it together online. Then it's all backed up, collaborative, and can be edited with other APIs and the GUI. No installation required; it's free, embeddable, and keeps data and graphs together.\n",
      "\n",
      "The API provides a set of functions that structure your data and send it to Plotly. All editing can be done through the API or from the online GUI. In addition, the PLOTLY WRAPPER function can take away all the hassle of learning a new graphing syntax. Just build your figures in MATLAB as usual and send them to Plotly with one call to the wrapper.\n",
      "\n",
      "This notebook goes through some usage scenarios to get MATLAB users started with the tool. Some steps are specific to making everything work in an IPython notebook, but you can always skip through those and get to the good stuff. Let's get started!\n"
     ]
    },
    {
     "cell_type": "markdown",
     "metadata": {},
     "source": [
      "First, we need to start a MATLAB server:"
     ]
    },
    {
     "cell_type": "code",
     "collapsed": false,
     "input": [
      "import pymatbridge as pymat\n",
      "ip = get_ipython()\n",
      "pymat.load_ipython_extension(ip, \n",
      "    matlab='C:\\Users\\Andrey\\matlab_shortcut.lnk')"
     ],
     "language": "python",
     "metadata": {},
     "outputs": [
      {
       "output_type": "stream",
       "stream": "stdout",
       "text": [
        "Starting MATLAB on http://localhost:60199\n",
        " visit http://localhost:60199/exit.m to shut down same\n",
        "."
       ]
      },
      {
       "output_type": "stream",
       "stream": "stdout",
       "text": [
        "."
       ]
      },
      {
       "output_type": "stream",
       "stream": "stdout",
       "text": [
        "."
       ]
      },
      {
       "output_type": "stream",
       "stream": "stdout",
       "text": [
        "."
       ]
      },
      {
       "output_type": "stream",
       "stream": "stdout",
       "text": [
        "MATLAB started and connected!\n"
       ]
      }
     ],
     "prompt_number": 1
    },
    {
     "cell_type": "markdown",
     "metadata": {},
     "source": [
      "Note to Windows users: Python doesn't like file paths with spaces! Above, a shortcut to matlab.exe was created and placed it in a path that did not contain spaces. It's a bit of a hack, there are better ways to do it I'm sure."
     ]
    },
    {
     "cell_type": "markdown",
     "metadata": {},
     "source": [
      "Now we are ready to run MATLAB! Let's set up the Plotly environment next. This needs to be done only once per session. The next few lines import the Plotly MATLAB API and sign in to your account. For these examples we are using the MATLAB-demos account. Find out more about generating your API key [here](https://plot.ly/api/MATLAB/getting-started/authentication).\n",
      "\n"
     ]
    },
    {
     "cell_type": "code",
     "collapsed": false,
     "input": [
      "%%matlab\n",
      "api_path = 'C:\\Users\\Andrey\\Dropbox\\ANDREY\\PLOTLY\\MATLAB-api\\plotly';\n",
      "addpath(genpath(api_path))\n",
      "signin('MATLAB-demos', '3qhoowzv5n');"
     ],
     "language": "python",
     "metadata": {},
     "outputs": [],
     "prompt_number": 2
    },
    {
     "cell_type": "markdown",
     "metadata": {},
     "source": [
      "We are now signed in and can convert and publish the Matlab figures in Plotly! The Plotly MATLAB API helps generate `data` and `layout` data structures that contain all the information needed to make a plot. The `plotly` command sends these to the server and the result is displayed via the `response` vairable. In it, a URL points to the generated plot online. In this notebook, we focus of the Plotly wrapper. The `fig2plotly` command at the end of the code will convert the current figure into a format that Plotly understands and publish it."
     ]
    },
    {
     "cell_type": "markdown",
     "metadata": {},
     "source": [
      "Let's make a simple plot in Matlab and publish it to Plotly:"
     ]
    },
    {
     "cell_type": "code",
     "collapsed": false,
     "input": [
      "%%matlab\n",
      "\n",
      "clear all\n",
      "close all\n",
      "\n",
      "% some ransom points\n",
      "my_random_data = rand(20,4);\n",
      "\n",
      "% a 2D scatter plot with size and color inputs\n",
      "figure\n",
      "scatter(my_random_data(:,1), my_random_data(:,2), 100*my_random_data(:,3), my_random_data(:,4), 'filled')\n",
      "\n",
      "% Work that Plotly magic!\n",
      "response = fig2plotly();"
     ],
     "language": "python",
     "metadata": {},
     "outputs": [
      {
       "metadata": {},
       "output_type": "display_data",
       "text": [
        "High five! You successfuly sent some data to your account on plotly. View your plot in your browser at https://plot.ly/~MATLAB-demos/0 or inside your plot.ly account where it is named 'untitled'"
       ]
      },
      {
       "metadata": {},
       "output_type": "display_data",
       "png": "[encoded data removed]"
      }
     ],
     "prompt_number": 3
    },
    {
     "cell_type": "markdown",
     "metadata": {},
     "source": [
      "The plot has been sent to the [MATLAB-demos account](https://plot.ly/~andreyDim) and the command returns the unique url [https://plot.ly/~MATLAB-demos/0](https://plot.ly/~MATLAB-demos/0) where anyone can view the rendered graph. By default, the plot is named \"untitled\". In the following examples, we see how the command allows the user to give a custom name, otherwise it will try to extract it from the figure title.\n",
      "\n",
      "Every plotly graph URL can be [embedded in HTML as wrapped in an IFrame](https://plot.ly/api/MATLAB/docs/iframes). Here's a quick utility function that will embed a plotly graph in IPython notebooks."
     ]
    },
    {
     "cell_type": "code",
     "collapsed": false,
     "input": [
      "from IPython.display import HTML\n",
      "\n",
      "def show_plot(url, width=700, height=500):\n",
      "    s = '<iframe height=\"%s\" id=\"igraph\" scrolling=\"no\" seamless=\"seamless\" src=\"%s\" width=\"%s\"></iframe>' %\\\n",
      "    (height+50, \"/\".join(map(str,[url, width, height])), width+50)\n",
      "    return HTML(s)\n"
     ],
     "language": "python",
     "metadata": {},
     "outputs": [],
     "prompt_number": 4
    },
    {
     "cell_type": "markdown",
     "metadata": {},
     "source": [
      "To see the resulting plot, we only need to input the fowwoling command:"
     ]
    },
    {
     "cell_type": "code",
     "collapsed": false,
     "input": [
      "show_plot('https://plot.ly/~MATLAB-demos/0')"
     ],
     "language": "python",
     "metadata": {},
     "outputs": [
      {
       "html": [
        "<iframe height=\"550\" id=\"igraph\" scrolling=\"no\" seamless=\"seamless\" src=\"https://plot.ly/~MATLAB-demos/0/700/500\" width=\"750\"></iframe>"
       ],
       "metadata": {},
       "output_type": "pyout",
       "prompt_number": 5,
       "text": [
        "<IPython.core.display.HTML at 0x5f12c88>"
       ]
      }
     ],
     "prompt_number": 5
    },
    {
     "cell_type": "markdown",
     "metadata": {},
     "source": [
      "EXAMPLE 1: The Convex Hull Property. The original example data can be found at the [Matlab Plot Gallery](http://www.mathworks.com/discovery/gallery.html)"
     ]
    },
    {
     "cell_type": "code",
     "collapsed": false,
     "input": [
      "%%matlab\n",
      "% This is an example of how to add text to a plot in MATLAB.\n",
      "% \n",
      "% Read about the <http://www.mathworks.com/help/matlab/ref/text.html |text|> function in the MATLAB documentation.\n",
      "%\n",
      "% Go to <http://www.mathworks.com/discovery/gallery.html MATLAB Plot Gallery>\n",
      "%\n",
      "% Copyright 2012 The MathWorks, Inc.\n",
      "\n",
      "clear all\n",
      "close all\n",
      "\n",
      "% Load the points for creating a spline curve\n",
      "load 'C:\\Users\\Andrey\\Dropbox\\ANDREY\\PLOTLY\\Matlab_Examples\\Add_Text_to_Plot_1\\splineData'\n",
      "\n",
      "\n",
      "% Plot the points for the spline curve\n",
      "figure;\n",
      "plot(points(:,1),points(:,2),':ok');\n",
      "hold on;\n",
      "\n",
      "% Plot the spline curve\n",
      "plot(x, y, 'LineWidth', 2);\n",
      "axis([.5 7 -.8 1.8]);\n",
      "\n",
      "% Add a title and axis labels\n",
      "title('The Convex-Hull Property');\n",
      "xlabel('x');\n",
      "ylabel('y');\n",
      "\n",
      "% Label points 3, 4, & 5 of the spline curve\n",
      "xt = points(3,1) - 0.05; yt = points(3,2) - 0.1;\n",
      "text(xt, yt, 'Point 3', 'FontSize',12);\n",
      "\n",
      "xt = points(4,1) - 0.05; yt = points(4,2) + 0.1;\n",
      "text(xt, yt, 'Point 4', 'FontSize',12);\n",
      "\n",
      "xt = points(5,1) + 0.15; yt = points(5,2) - 0.05;\n",
      "text(6.1,.5, 'Point 5', 'FontSize',12);\n",
      "\n",
      "% Work that Plotly magic!\n",
      "response = fig2plotly();\n"
     ],
     "language": "python",
     "metadata": {},
     "outputs": [
      {
       "metadata": {},
       "output_type": "display_data",
       "png": "[encoded data removed]"
      }
     ],
     "prompt_number": 6
    },
    {
     "cell_type": "markdown",
     "metadata": {},
     "source": [
      "This time, the plot was named \"The Convex Hull Property\"."
     ]
    },
    {
     "cell_type": "code",
     "collapsed": false,
     "input": [
      "show_plot('https://plot.ly/~MATLAB-demos/1')"
     ],
     "language": "python",
     "metadata": {},
     "outputs": [
      {
       "html": [
        "<iframe height=\"550\" id=\"igraph\" scrolling=\"no\" seamless=\"seamless\" src=\"https://plot.ly/~MATLAB-demos/1/700/500\" width=\"750\"></iframe>"
       ],
       "metadata": {},
       "output_type": "pyout",
       "prompt_number": 7,
       "text": [
        "<IPython.core.display.HTML at 0x6372780>"
       ]
      }
     ],
     "prompt_number": 7
    },
    {
     "cell_type": "markdown",
     "metadata": {},
     "source": [
      "Sweet! Let's keep going..."
     ]
    },
    {
     "cell_type": "markdown",
     "metadata": {},
     "source": [
      "We will reuse the same code and add some more inputs to the `fig2plotly` command. We can specify explicitly the figure object that will be published (it doesn't need to be the current one!) using the 'name' property. In addition, we add 'open' to turn off the automatic opening of a browser window with the response URL, and we 'strip' the plot of all MATLAB styling and revert to Plotly defaults. This allows users to use Plotly's styling capabilities from the API of at the online UI."
     ]
    },
    {
     "cell_type": "code",
     "collapsed": false,
     "input": [
      "%%matlab\n",
      "% This is an example of how to add text to a plot in MATLAB.\n",
      "% \n",
      "% Read about the <http://www.mathworks.com/help/matlab/ref/text.html |text|> function in the MATLAB documentation.\n",
      "%\n",
      "% Go to <http://www.mathworks.com/discovery/gallery.html MATLAB Plot Gallery>\n",
      "%\n",
      "% Copyright 2012 The MathWorks, Inc.\n",
      "\n",
      "clear all\n",
      "close all\n",
      "\n",
      "% Load the points for creating a spline curve\n",
      "load 'C:\\Users\\Andrey\\Dropbox\\ANDREY\\PLOTLY\\Matlab_Examples\\Add_Text_to_Plot_1\\splineData'\n",
      "\n",
      "\n",
      "% Plot the points for the spline curve\n",
      "figure;\n",
      "plot(points(:,1),points(:,2),':ok');\n",
      "hold on;\n",
      "\n",
      "% Plot the spline curve\n",
      "plot(x, y, 'LineWidth', 2);\n",
      "axis([.5 7 -.8 1.8]);\n",
      "\n",
      "% Add a title and axis labels\n",
      "title('The Convex-Hull Property');\n",
      "xlabel('x');\n",
      "ylabel('y');\n",
      "\n",
      "% Label points 3, 4, & 5 of the spline curve\n",
      "xt = points(3,1) - 0.05; yt = points(3,2) - 0.1;\n",
      "text(xt, yt, 'Point 3', 'FontSize',12);\n",
      "\n",
      "xt = points(4,1) - 0.05; yt = points(4,2) + 0.1;\n",
      "text(xt, yt, 'Point 4', 'FontSize',12);\n",
      "\n",
      "xt = points(5,1) + 0.15; yt = points(5,2) - 0.05;\n",
      "text(6.1,.5, 'Point 5', 'FontSize',12);\n",
      "\n",
      "% Work that Plotly magic!\n",
      "f = get(gcf); % some figure, for now we use the current.\n",
      "response = fig2plotly(f, 'strip', true, 'open', false, 'name', 'Stripped plot');\n"
     ],
     "language": "python",
     "metadata": {},
     "outputs": [
      {
       "metadata": {},
       "output_type": "display_data",
       "png": "[encoded data removed]"
      }
     ],
     "prompt_number": 8
    },
    {
     "cell_type": "code",
     "collapsed": false,
     "input": [
      "show_plot('https://plot.ly/~MATLAB-demos/2')"
     ],
     "language": "python",
     "metadata": {},
     "outputs": [
      {
       "html": [
        "<iframe height=\"550\" id=\"igraph\" scrolling=\"no\" seamless=\"seamless\" src=\"https://plot.ly/~MATLAB-demos/2/700/500\" width=\"750\"></iframe>"
       ],
       "metadata": {},
       "output_type": "pyout",
       "prompt_number": 9,
       "text": [
        "<IPython.core.display.HTML at 0x63727b8>"
       ]
      }
     ],
     "prompt_number": 9
    },
    {
     "cell_type": "markdown",
     "metadata": {},
     "source": [
      "EXAMPLE 2: Multiple Plots"
     ]
    },
    {
     "cell_type": "code",
     "collapsed": false,
     "input": [
      "%%matlab\n",
      "\n",
      "% Create data\n",
      "t = linspace(0,2*pi);\n",
      "t(1) = eps;\n",
      "y = sin(t);\n",
      "\n",
      "% Place axes at (0.1,0.1) with width and height of 0.8\n",
      "figure;\n",
      "handaxes1 = axes('position', [0.1 0.1 0.8 0.8]);\n",
      "\n",
      "% Main plot\n",
      "plot(t, y);\n",
      "xlabel('t'); ylabel('sin(t)');\n",
      "set(handaxes1, 'box', 'off');\n",
      "\n",
      "% Adjust XY label font\n",
      "handxlabel1 = get(gca, 'xlabel');\n",
      "set(handxlabel1, 'fontsize', 16, 'fontweight', 'bold');\n",
      "handylabel1 = get(gca, 'ylabel');\n",
      "set(handylabel1, 'fontsize', 16, 'fontweight', 'bold');\n",
      "\n",
      "% Place second set of axes on same plot\n",
      "handaxes2 = axes('position', [0.6 0.6 0.2 0.2]);\n",
      "fill(t, y.^2, 'g');\n",
      "set(handaxes2, 'box', 'off');\n",
      "xlabel('t'); ylabel('(sin(t))^2');\n",
      "\n",
      "% Adjust XY label font\n",
      "set(get(handaxes2, 'xlabel'), 'fontname', 'times')\n",
      "set(get(handaxes2, 'ylabel'), 'fontname', 'times')\n",
      "\n",
      "% Add another set of axes\n",
      "handaxes3 = axes('position', [0.25 0.25 0.2 0.2]);\n",
      "plot(t, y.^3);\n",
      "set(handaxes3, 'box','off');\n",
      "xlabel('t'); ylabel('(sin(t))^3');\n",
      "\n",
      "% Work that Plotly magic!\n",
      "\n",
      "% The curent figure can be found with the `gcf` command. Any figure can be stores as the double of struct form.\n",
      "% The plotly command accepts these forms as well as custom plot names\n",
      "\n",
      "response = fig2plotly(gcf, 'name', 'Multiple_Plots');"
     ],
     "language": "python",
     "metadata": {},
     "outputs": [
      {
       "metadata": {},
       "output_type": "display_data",
       "png": "[encoded data removed]"
      }
     ],
     "prompt_number": 10
    },
    {
     "cell_type": "code",
     "collapsed": false,
     "input": [
      "show_plot('https://plot.ly/~MATLAB-demos/3')"
     ],
     "language": "python",
     "metadata": {},
     "outputs": [
      {
       "html": [
        "<iframe height=\"550\" id=\"igraph\" scrolling=\"no\" seamless=\"seamless\" src=\"https://plot.ly/~MATLAB-demos/3/700/500\" width=\"750\"></iframe>"
       ],
       "metadata": {},
       "output_type": "pyout",
       "prompt_number": 11,
       "text": [
        "<IPython.core.display.HTML at 0x63721d0>"
       ]
      }
     ],
     "prompt_number": 11
    },
    {
     "cell_type": "markdown",
     "metadata": {},
     "source": [
      "Looking sharp! Currently, Plotly doesn't support the Tex formatting. That's why we don't see the exponents shown properly. However, we do support Latex and, in the next example, we see it at work. We use the intermediate command `convertFigure` to output the two Plotly data structures. This allows further editing with the API before sending it out. Features only available in Plotly (like the different hover modes) can be set at this point."
     ]
    },
    {
     "cell_type": "markdown",
     "metadata": {},
     "source": [
      "EXAMPLE 3: Gain vs Frequency"
     ]
    },
    {
     "cell_type": "code",
     "collapsed": false,
     "input": [
      "%%matlab\n",
      "\n",
      "close all\n",
      "\n",
      "% Create a set of values for the damping factor\n",
      "zeta = [0.01 .02 0.05 0.1 .2 .5 1 ];\n",
      "\n",
      "% Define a color for each damping factor\n",
      "colors = ['r' 'g' 'b' 'c' 'm' 'y' 'k'];\n",
      "\n",
      "% Create a range of frequency values equally spaced logarithmically\n",
      "w = logspace(-1, 1, 1000);\n",
      "\n",
      "% Plot the gain vs. frequency for each of the seven damping factors\n",
      "figure;\n",
      "for i = 1:7\n",
      "    a = w.^2 - 1;\n",
      "    b = 2*w*zeta(i);\n",
      "    gain = sqrt(1./(a.^2 + b.^2));\n",
      "    loglog(w, gain, 'color', colors(i), 'linewidth', 2);\n",
      "    hold on;\n",
      "end\n",
      "\n",
      "% Set the axis limits\n",
      "axis([0.1 10 0.01 100]);\n",
      "\n",
      "% Add a title and axis labels\n",
      "title('Gain vs Frequency');\n",
      "xlabel('Frequency');\n",
      "ylabel('Gain');\n",
      "\n",
      "% Turn the grid on\n",
      "grid on;\n",
      "\n",
      "% ----------------------------------------\n",
      "% Let's convert the figure to plotly structures, and set stripping to false\n",
      "[data, layout] = convertFigure(get(gcf), false);\n",
      "\n",
      "% But, before we publish, let's modify and add some features:\n",
      "% Naming the traces\n",
      "for i=1:numel(data)\n",
      "    data{i}.name =  ['$\\\\zeta = ' num2str(zeta(i)) '$']; %LATEX FORMATTING\n",
      "    data{i}.showlegend = true;\n",
      "end\n",
      "% Adding a nice the legend\n",
      "legendstyle = struct( ...\n",
      "    'x' , 0.15, ...\n",
      "    'y' , 0.9, ...\n",
      "    'bgcolor' , '#E2E2E2', ...\n",
      "    'bordercolor' , '#FFFFFF', ...\n",
      "    'borderwidth' , 2, ...\n",
      "    'traceorder' , 'normal' ...\n",
      "    );\n",
      "layout.legend = legendstyle;\n",
      "layout.showlegend = true;\n",
      "\n",
      "% Setting the hover mode\n",
      "layout.hovermode = 'closest';\n",
      "\n",
      "% Giving the plot a custom name\n",
      "plot_name = 'My_improved_plot';\n",
      "\n",
      "% Sending to Plotly\n",
      "response = plotly(data, struct('layout', layout, ...\n",
      "    'filename',plot_name, ...\n",
      "\t'fileopt', 'overwrite'));\n",
      "\n",
      "display(response.url)"
     ],
     "language": "python",
     "metadata": {},
     "outputs": [
      {
       "metadata": {},
       "output_type": "display_data",
       "text": [
        "https://plot.ly/~MATLAB-demos/4\r\n"
       ]
      },
      {
       "metadata": {},
       "output_type": "display_data",
       "png": "[encoded data removed]"
      }
     ],
     "prompt_number": 12
    },
    {
     "cell_type": "markdown",
     "metadata": {},
     "source": [
      "And the Plotly version:"
     ]
    },
    {
     "cell_type": "code",
     "collapsed": false,
     "input": [
      "show_plot('https://plot.ly/~MATLAB-demos/4')"
     ],
     "language": "python",
     "metadata": {},
     "outputs": [
      {
       "html": [
        "<iframe height=\"550\" id=\"igraph\" scrolling=\"no\" seamless=\"seamless\" src=\"https://plot.ly/~MATLAB-demos/4/700/500\" width=\"750\"></iframe>"
       ],
       "metadata": {},
       "output_type": "pyout",
       "prompt_number": 13,
       "text": [
        "<IPython.core.display.HTML at 0x6372d68>"
       ]
      }
     ],
     "prompt_number": 13
    },
    {
     "cell_type": "markdown",
     "metadata": {},
     "source": [
      "EXAMPLE 4: Just throw everything in there!"
     ]
    },
    {
     "cell_type": "code",
     "collapsed": false,
     "input": [
      "%%matlab\n",
      "\n",
      "close all\n",
      "\n",
      "% Load data\n",
      "load 'C:\\Users\\Andrey\\Dropbox\\ANDREY\\PLOTLY\\Matlab_Examples\\Publication_Quality_Graphics\\data'\n",
      "\n",
      "% Create basic plot\n",
      "figure;\n",
      "hold on;\n",
      "hFit   = line(xfit  , yfit   );\n",
      "hE     = errorbar(xdata_m, ydata_m, ydata_s);\n",
      "hData  = line(xVdata, yVdata );\n",
      "hModel = line(xmodel, ymodel );\n",
      "hCI(1) = line(xmodel, ymodelL);\n",
      "hCI(2) = line(xmodel, ymodelU);\n",
      "\n",
      "% Adjust line properties (functional)\n",
      "set(hFit                          , ...\n",
      "  'Color'           , [0 0 .5]    );\n",
      "set(hE                            , ...\n",
      "  'LineStyle'       , 'none'      , ...\n",
      "  'Marker'          , '.'         , ...\n",
      "  'Color'           , [.3 .3 .3]  );\n",
      "set(hData                         , ...\n",
      "  'LineStyle'       , 'none'      , ...\n",
      "  'Marker'          , '.'         );\n",
      "set(hModel                        , ...\n",
      "  'LineStyle'       , '--'        , ...\n",
      "  'Color'           , 'r'         );\n",
      "set(hCI(1)                        , ...\n",
      "  'LineStyle'       , '-.'        , ...\n",
      "  'Color'           , [0 .5 0]    );\n",
      "set(hCI(2)                        , ...\n",
      "  'LineStyle'       , '-.'        , ...\n",
      "  'Color'           , [0 .5 0]    );\n",
      "\n",
      "% Adjust line properties (aesthetics)\n",
      "set(hFit                          , ...\n",
      "  'LineWidth'       , 2           );\n",
      "set(hE                            , ...\n",
      "  'LineWidth'       , 1           , ...\n",
      "  'Marker'          , 'o'         , ...\n",
      "  'MarkerSize'      , 6           , ...\n",
      "  'MarkerEdgeColor' , [.2 .2 .2]  , ...\n",
      "  'MarkerFaceColor' , [.7 .7 .7]  );\n",
      "set(hData                         , ...\n",
      "  'Marker'          , 'o'         , ...\n",
      "  'MarkerSize'      , 5           , ...\n",
      "  'MarkerEdgeColor' , 'none'      , ...\n",
      "  'MarkerFaceColor' , [.75 .75 1] );\n",
      "set(hModel                        , ...\n",
      "  'LineWidth'       , 1.5         );\n",
      "set(hCI(1)                        , ...\n",
      "  'LineWidth'       , 1.5         );\n",
      "set(hCI(2)                        , ...\n",
      "  'LineWidth'       , 1.5         );\n",
      "\n",
      "% Adjust error bar width\n",
      "hE_c                   = get(hE     , 'Children'    );\n",
      "errorbarXData          = get(hE_c(2), 'XData'       );\n",
      "errorbarXData(4:9:end) = errorbarXData(1:9:end) - 0.2;\n",
      "errorbarXData(7:9:end) = errorbarXData(1:9:end) - 0.2;\n",
      "errorbarXData(5:9:end) = errorbarXData(1:9:end) + 0.2;\n",
      "errorbarXData(8:9:end) = errorbarXData(1:9:end) + 0.2;\n",
      "set(hE_c(2), 'XData', errorbarXData);\n",
      "\n",
      "% Add labels\n",
      "hTitle  = title ('My Complex Plot');\n",
      "hXLabel = xlabel('Length (m)'                     );\n",
      "hYLabel = ylabel('Mass (kg)'                      );\n",
      "\n",
      "% Add text\n",
      "hText   = text(10, 800, ...\n",
      "  sprintf('{\\\\itC = %0.1g \\\\pm %0.1g (CI)}', c, cint(2)-c));\n",
      "\n",
      "% Add legend\n",
      "hLegend = legend([hE, hFit, hData, hModel, hCI(1)], ...\n",
      "  'Data ({\\it\\mu} \\pm {\\it\\sigma})' , ...\n",
      "  'Fit (C{\\itx}^3)'      , ...\n",
      "  'Validation Data'       , ...\n",
      "  'Model (C{\\itx}^3)'    , ...\n",
      "  '95% CI'                , ...\n",
      "  'location', 'NorthWest' );\n",
      "\n",
      "% Adjust font\n",
      "set( gca                             , 'FontName'   , 'Helvetica' );\n",
      "set([hTitle, hXLabel, hYLabel, hText], 'FontName'   , 'AvantGarde');\n",
      "set([hLegend, gca]                   , 'FontSize'   , 8           );\n",
      "set([hXLabel, hYLabel, hText]        , 'FontSize'   , 10          );\n",
      "set( hTitle                          , 'FontSize'   , 12          , ...\n",
      "                                       'FontWeight' , 'bold'      );\n",
      "\n",
      "% Adjust axes properties\n",
      "set(gca, ...\n",
      "  'Box'         , 'off'     , ...\n",
      "  'TickDir'     , 'out'     , ...\n",
      "  'TickLength'  , [.02 .02] , ...\n",
      "  'XMinorTick'  , 'on'      , ...\n",
      "  'YMinorTick'  , 'on'      , ...\n",
      "  'YGrid'       , 'on'      , ...\n",
      "  'XColor'      , [.3 .3 .3], ...\n",
      "  'YColor'      , [.3 .3 .3], ...\n",
      "  'YTick'       , 0:500:2500, ...\n",
      "  'LineWidth'   , 1         );\n",
      "\n",
      "\n",
      "% Work that Plotly magic!\n",
      "\n",
      "% The curent figure can be found with the `gcf` command. Any figure can be stores as the double of struct form.\n",
      "% The plotly command accepts these forms as well as custom plot names\n",
      "\n",
      "some_figure_struct = get(gcf);\n",
      "response = fig2plotly(some_figure_struct, 'name', 'Complex_Plot', 'open', false);\n",
      "\n"
     ],
     "language": "python",
     "metadata": {},
     "outputs": [
      {
       "metadata": {},
       "output_type": "display_data",
       "png": "[encoded data removed]"
      }
     ],
     "prompt_number": 14
    },
    {
     "cell_type": "code",
     "collapsed": false,
     "input": [
      "show_plot('https://plot.ly/~MATLAB-demos/6')"
     ],
     "language": "python",
     "metadata": {},
     "outputs": [
      {
       "html": [
        "<iframe height=\"550\" id=\"igraph\" scrolling=\"no\" seamless=\"seamless\" src=\"https://plot.ly/~MATLAB-demos/6/700/500\" width=\"750\"></iframe>"
       ],
       "metadata": {},
       "output_type": "pyout",
       "prompt_number": 15,
       "text": [
        "<IPython.core.display.HTML at 0x63729b0>"
       ]
      }
     ],
     "prompt_number": 15
    },
    {
     "cell_type": "code",
     "collapsed": false,
     "input": [],
     "language": "python",
     "metadata": {},
     "outputs": []
    }
   ],
   "metadata": {}
  }
 ]
}