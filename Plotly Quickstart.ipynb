{
 "metadata": {
  "name": ""
 },
 "nbformat": 3,
 "nbformat_minor": 0,
 "worksheets": [
  {
   "cells": [
    {
     "cell_type": "markdown",
     "metadata": {},
     "source": [
      "# Quickstart with Plotly\n",
      "\n",
      "You can install `plotly` with `pip`:"
     ]
    },
    {
     "cell_type": "markdown",
     "metadata": {},
     "source": [
      "    $ pip install plotly\n",
      "\n",
      "If that didn't work, try it with `sudo`:\n",
      "\n",
      "    $ sudo pip install plotly",
      "\n"
     ]
    },
    {
     "cell_type": "code",
     "collapsed": false,
     "input": [
      "import plotly"
     ],
     "language": "python",
     "metadata": {},
     "outputs": [],
     "prompt_number": 1
    },
    {
     "cell_type": "markdown",
     "metadata": {},
     "source": [
      "Make sure that you have the latest version:"
     ]
    },
    {
     "cell_type": "code",
     "collapsed": false,
     "input": [
      "print plotly.__version__"
     ],
     "language": "python",
     "metadata": {},
     "outputs": [
      {
       "output_type": "stream",
       "stream": "stdout",
       "text": [
        "0.5.10\n"
       ]
      }
     ],
     "prompt_number": 2
    },
    {
     "cell_type": "markdown",
     "metadata": {},
     "source": [
      "Enter your plotly creds ([Sign up here](https://plot.ly/ssu) and [view your API key here](https://plot.ly/api/key))"
     ]
    },
    {
     "cell_type": "code",
     "collapsed": false,
     "input": [
      "py = plotly.plotly('IPython.Demo', '1fw3zw2o13')"
     ],
     "language": "python",
     "metadata": {},
     "outputs": [],
     "prompt_number": 3
    },
    {
     "cell_type": "markdown",
     "metadata": {},
     "source": [
      "# Let's make one of our favorite graphs: the [Hans Rosling](http://www.ted.com/talks/hans_rosling_shows_the_best_stats_you_ve_ever_seen.html) bubble chart"
     ]
    },
    {
     "cell_type": "markdown",
     "metadata": {},
     "source": [
      "### Load up the data. You can just copy 'n paste this block, all we're doing is just downloading and loading this CSV: [https://gist.github.com/chriddyp/8818473/raw/d8c73ff66a190a84eb8c6c19df4d8865673234ca/2007gapminder.csv](https://gist.github.com/chriddyp/8818473/raw/d8c73ff66a190a84eb8c6c19df4d8865673234ca/2007gapminder.csv)"
     ]
    },
    {
     "cell_type": "code",
     "collapsed": false,
     "input": [
      "import urllib2, StringIO, csv\n",
      "\n",
      "url = 'https://gist.github.com/chriddyp/8818473/raw/d8c73ff66a190a84eb8c6c19df4d8865673234ca/2007gapminder.csv'\n",
      "response = urllib2.urlopen(url).read()\n",
      "output = StringIO.StringIO(response)\n",
      "cr = csv.reader(output)\n",
      "def tryFloat(d):\n",
      "    try:\n",
      "        return float(d)\n",
      "    except ValueError:\n",
      "        return d\n",
      "\n",
      "data = [[tryFloat(dij) for dij in di] for di in cr]"
     ],
     "language": "python",
     "metadata": {},
     "outputs": [],
     "prompt_number": 4
    },
    {
     "cell_type": "markdown",
     "metadata": {},
     "source": [
      "Let's take a look at the first few rows:"
     ]
    },
    {
     "cell_type": "code",
     "collapsed": false,
     "input": [
      "for row in data[0:10]:\n",
      "    print row"
     ],
     "language": "python",
     "metadata": {},
     "outputs": [
      {
       "output_type": "stream",
       "stream": "stdout",
       "text": [
        "['Country', 'Population', 'Continent', 'lifeExp', 'gdpPercap']\n",
        "['Afghanistan', 31889923.0, 'Asia', 43.828, 974.5803384]\n",
        "['Albania', 3600523.0, 'Europe', 76.423, 5937.029526]\n",
        "['Algeria', 33333216.0, 'Africa', 72.301, 6223.367465]\n",
        "['Angola', 12420476.0, 'Africa', 42.731, 4797.231267]\n",
        "['Argentina', 40301927.0, 'Americas', 75.32, 12779.37964]\n",
        "['Australia', 20434176.0, 'Oceania', 81.235, 34435.36744]\n",
        "['Austria', 8199783.0, 'Europe', 79.829, 36126.4927]\n",
        "['Bahrain', 708573.0, 'Asia', 75.635, 29796.04834]\n",
        "['Bangladesh', 150448339.0, 'Asia', 64.062, 1391.253792]\n"
       ]
      }
     ],
     "prompt_number": 5
    },
    {
     "cell_type": "markdown",
     "metadata": {},
     "source": [
      "Plotly graphs are made by building an array of dictionaries, where each dictionary describes a `trace`, or a `series` in the plot.\n",
      "\n",
      "In this case, each `trace` will be a different continent. In this example, the dicts will have `x`, `y`, `text`, and `marker` size data."
     ]
    },
    {
     "cell_type": "code",
     "collapsed": false,
     "input": [
      "import math\n",
      "graph_data = [] # the data structure that will describe our plotly graph\n",
      "for continent in ['Asia', 'Europe', 'Africa', 'Americas', 'Oceania']:\n",
      "    graph_data.append(\n",
      "    {\n",
      "        'name': continent, # the \"name\" of this series is the Continent\n",
      "        'x': [row[4] for row in data if row[2] == continent], # \"x\" data is GDP Per Capita\n",
      "        'y': [row[3] for row in data if row[2] == continent], # \"y\" data is Life Expectancy\n",
      "        'text': [row[0] for row in data if row[2] == continent], # \"text\" data is the Country\n",
      "        \n",
      "        'type': 'scatter',\n",
      "        'mode': 'markers',\n",
      "\n",
      "        'marker': { # specify the style of the individual scatter points\n",
      "            'size': [math.sqrt(row[1])/1.e3 for row in data if row[2] == continent], # scale the \"marker\" size to each Country's population\n",
      "            'sizemode': 'area',\n",
      "            'sizeref': 0.05,\n",
      "            'opacity': 0.55\n",
      "        }\n",
      "    })"
     ],
     "language": "python",
     "metadata": {},
     "outputs": [],
     "prompt_number": 6
    },
    {
     "cell_type": "markdown",
     "metadata": {},
     "source": [
      "The rest of the graph, like the axes, title, and legend, is described by a `layout` dict"
     ]
    },
    {
     "cell_type": "code",
     "collapsed": false,
     "input": [
      "layout = {\n",
      "    'xaxis': {'title': 'GDP Per Capita'},\n",
      "    'yaxis': {'title': 'Life Expectancy'},\n",
      "    'title': 'Hans Rosling Bubble Chart<br>2007'\n",
      "}"
     ],
     "language": "python",
     "metadata": {},
     "outputs": [],
     "prompt_number": 7
    },
    {
     "cell_type": "markdown",
     "metadata": {},
     "source": [
      "### Now, let's plot it. Giddyup!"
     ]
    },
    {
     "cell_type": "code",
     "collapsed": false,
     "input": [
      "py.iplot(graph_data, layout=layout, \n",
      "         filename='My first plotly graph', fileopt='overwrite', \n",
      "         world_readable=True)"
     ],
     "language": "python",
     "metadata": {},
     "outputs": [
      {
       "html": [
        "<iframe height=\"550\" id=\"igraph\" scrolling=\"no\" seamless=\"seamless\" src=\"https://plot.ly/~IPython.Demo/1085\" width=\"100%\"></iframe>"
       ],
       "metadata": {},
       "output_type": "pyout",
       "prompt_number": 8,
       "text": [
        "<IPython.core.display.HTML at 0x1039c2b90>"
       ]
      }
     ],
     "prompt_number": 8
    },
    {
     "cell_type": "markdown",
     "metadata": {},
     "source": [
      "### Plotly graphs are interactive. Hover over the points to view the text, click-and-drag to zoom, shift-click-and-drag to pan."
     ]
    },
    {
     "cell_type": "markdown",
     "metadata": {},
     "source": [
      "`py.iplot` saves the graph in your plotly account and embeds the graph in an IFrame inside the notebook. The [plotly - data and graph \u00bb](https://plot.ly/~IPython.Demo/1085) link in the lower right corner of the plot takes you to your newly created graph at a unique URL. Here is mine:  [https://plot.ly/~IPython.Demo/1085](https://plot.ly/~IPython.Demo/1085).\n",
      "\n",
      "\n",
      "### Since your graph is online\n",
      "\n",
      "you can can share it with that [unique url](https://plot.ly/~IPython.Demo/1085), or [embed](https://plot.ly/api/python/docs/iframes) your interactive graph in a web page.\n",
      "\n",
      "### You can also edit the graph in the plotly web-app\n",
      "\n",
      "![](https://dl.dropboxusercontent.com/s/nvn5sbbv3sk1ncs/Screenshot%202014-02-10%2022.41.13.png?dl=1&token_hash=AAFHcRou2vSDh-TsRnfZhXQdvGuCLvYy5cWBnlKYrWQgpQ)\n",
      "\n",
      "I edited the graph we just made inside the plotly web-app. It's a bit more minimal and the x-axis is logarithmic. All of the options available to customize your graph in the web-app are exposed through the API.\n",
      "\n",
      "Check out my new version here: [https://plot.ly/~ChrisP/21](https://plot.ly/~ChrisP/21). Below, I embed it in our notebook:"
     ]
    },
    {
     "cell_type": "code",
     "collapsed": false,
     "input": [
      "# `display` embeds plotly graphs in IPython notebooks as IFrames\n",
      "plotly.display(\"https://plot.ly/~ChrisP/21\")"
     ],
     "language": "python",
     "metadata": {},
     "outputs": [
      {
       "html": [
        "<iframe height=\"550\" id=\"igraph\" scrolling=\"no\" seamless=\"seamless\" src=\"https://plot.ly/~ChrisP/21\" width=\"100%\"></iframe>"
       ],
       "metadata": {},
       "output_type": "pyout",
       "prompt_number": 9,
       "text": [
        "<IPython.core.display.HTML at 0x104b88ed0>"
       ]
      }
     ],
     "prompt_number": 9
    },
    {
     "cell_type": "markdown",
     "metadata": {},
     "source": [
      "### In plotly, the data and the graph are always together, you can view the underlying data in every plotly graph.\n",
      "The graph that we just made can be viewed here: [https://plot.ly/~ChrisP/21](https://plot.ly/~ChrisP/21) and that graph's data lives here: [https://plot.ly/21/~ChrisP/data](https://plot.ly/21/~ChrisP/data).\n",
      "\n",
      "\n",
      "Usage, Your Data Rights, and Private Graphs\n",
      "-------------------------------------------\n",
      "\n",
      "When you make a graph on plotly, you retain the rights to your content (see our terms [here](https://plot.ly/tou)). You also control whether your graphs are public or private. Public plotting is free; for a lot of private use, you can get a Premium or Organizational plan (see http://plot.ly/plans). It's just like GitHub.\n",
      "\n",
      "By default, anyone can view the graphs at the unique URL. To make the graphs private, so that only you can see them when your logged in, set `world_readable` to `False`:"
     ]
    },
    {
     "cell_type": "code",
     "collapsed": false,
     "input": [
      "import math\n",
      "t = [i*2*math.pi/100 for i in range(100)]\n",
      "x = [16.*math.sin(ti)**3 for ti in t]\n",
      "y = [13.*math.cos(ti)-5*math.cos(2*ti)-2*math.cos(3*ti)-math.cos(4*ti) for ti in t]\n",
      "trace0 = {'x': x, 'y': y, 'line': {'color': 'red', 'width': 6}}\n",
      "axes = {'ticks': '', 'showline': False, 'zeroline': False}\n",
      "layout = {'xaxis': axes, 'yaxis': axes}\n",
      "py.iplot([trace0], layout = layout, filename=\"public hearts\", world_readable=True)"
     ],
     "language": "python",
     "metadata": {},
     "outputs": [
      {
       "html": [
        "<iframe height=\"550\" id=\"igraph\" scrolling=\"no\" seamless=\"seamless\" src=\"https://plot.ly/~IPython.Demo/1539\" width=\"100%\"></iframe>"
       ],
       "metadata": {},
       "output_type": "pyout",
       "prompt_number": 10,
       "text": [
        "<IPython.core.display.HTML at 0x104bb98d0>"
       ]
      }
     ],
     "prompt_number": 10
    },
    {
     "cell_type": "markdown",
     "metadata": {},
     "source": [
      "And the same graph, but with a private setting:"
     ]
    },
    {
     "cell_type": "code",
     "collapsed": false,
     "input": [
      "py.iplot([trace0], layout = layout, filename=\"private hearts\", world_readable=False)"
     ],
     "language": "python",
     "metadata": {},
     "outputs": [
      {
       "html": [
        "<iframe height=\"550\" id=\"igraph\" scrolling=\"no\" seamless=\"seamless\" src=\"https://plot.ly/~IPython.Demo/1540\" width=\"100%\"></iframe>"
       ],
       "metadata": {},
       "output_type": "pyout",
       "prompt_number": 11,
       "text": [
        "<IPython.core.display.HTML at 0x104b88dd0>"
       ]
      }
     ],
     "prompt_number": 11
    },
    {
     "cell_type": "markdown",
     "metadata": {},
     "source": [
      "Preventing the graph from opening in your browser\n",
      "-------------------------------------------------\n",
      "\n",
      "If your plotting from your Python command line, using the method `py.plot`, your graphs will automatically open for you in your browser. To turn this off, run:"
     ]
    },
    {
     "cell_type": "code",
     "collapsed": false,
     "input": [
      "py.ioff() # interactive mode off"
     ],
     "language": "python",
     "metadata": {},
     "outputs": [],
     "prompt_number": 12
    },
    {
     "cell_type": "markdown",
     "metadata": {},
     "source": [
      "and back on again:"
     ]
    },
    {
     "cell_type": "code",
     "collapsed": false,
     "input": [
      "py.ion() # interactive mode on"
     ],
     "language": "python",
     "metadata": {},
     "outputs": [],
     "prompt_number": 13
    },
    {
     "cell_type": "markdown",
     "metadata": {},
     "source": [
      "Plotting with NumPy, Datetime, and $\\LaTeX$\n",
      "---------------------------------------------------"
     ]
    },
    {
     "cell_type": "code",
     "collapsed": false,
     "input": [
      "import numpy as np\n",
      "\n",
      "boxes = [{'y': np.random.randn(50), 'type': 'box', 'boxpoints': 'all', 'jitter': 0.5, 'pointpos': -1.8} for i in range(10)]\n",
      "\n",
      "layout = {'title': 'NumPy Boxes',\n",
      "          'showlegend': False, \n",
      "          'yaxis': {'zeroline': False, 'ticks': '', 'showline': False},\n",
      "          'xaxis': {'ticks': '', 'showgrid': False, 'showline': False}}\n",
      "\n",
      "py.iplot(boxes, layout = layout, filename='numpy boxes', fileopt='overwrite')"
     ],
     "language": "python",
     "metadata": {},
     "outputs": [
      {
       "html": [
        "<iframe height=\"550\" id=\"igraph\" scrolling=\"no\" seamless=\"seamless\" src=\"https://plot.ly/~IPython.Demo/1088\" width=\"100%\"></iframe>"
       ],
       "metadata": {},
       "output_type": "pyout",
       "prompt_number": 14,
       "text": [
        "<IPython.core.display.HTML at 0x104bb9c90>"
       ]
      }
     ],
     "prompt_number": 14
    },
    {
     "cell_type": "code",
     "collapsed": false,
     "input": [
      "import datetime\n",
      "import random\n",
      "\n",
      "N = 500\n",
      "now = datetime.datetime.now()\n",
      "x = [ datetime.timedelta(hours=i) + now for i in range(N) ]\n",
      "y = [ math.sin(i*5*math.pi/N)*math.exp(-2.*i/N)+random.random()/3. for i in range(N) ]\n",
      "\n",
      "layout = {'title': 'Datetime Decay', \n",
      "        'annotations': [{\n",
      "            'text':'The date-formatted x-axis will increase it\\'s time-resolution when you zoom.'+\\\n",
      "                    '<br>Click-and-drag your mouse on the plot to see how it responds!',\n",
      "            'xref': 'paper', 'yref': 'paper', 'showarrow': False, 'x':0, 'y': 0}]}\n",
      "\n",
      "py.iplot([{'x':x, 'y':y, 'mode':'markers'}], \n",
      "         layout=layout, \n",
      "         filename='Datetime Decay', \n",
      "         fileopt='overwrite')"
     ],
     "language": "python",
     "metadata": {},
     "outputs": [
      {
       "html": [
        "<iframe height=\"550\" id=\"igraph\" scrolling=\"no\" seamless=\"seamless\" src=\"https://plot.ly/~IPython.Demo/1089\" width=\"100%\"></iframe>"
       ],
       "metadata": {},
       "output_type": "pyout",
       "prompt_number": 15,
       "text": [
        "<IPython.core.display.HTML at 0x104bb7a10>"
       ]
      }
     ],
     "prompt_number": 15
    },
    {
     "cell_type": "code",
     "collapsed": false,
     "input": [
      "import numpy as np\n",
      "import math\n",
      "x = np.linspace(-7, 7, 100)\n",
      "y0 = x\n",
      "y1 = y0 - x**3/math.factorial(3)\n",
      "y2 = y1 + x**5/math.factorial(5)\n",
      "y3 = y2 - x**7/math.factorial(7)\n",
      "y4 = y3 + x**9/math.factorial(9)\n",
      "y5 = np.sin(x)\n",
      "\n",
      "linestyle = {'line': {'color': '#7FDBFF', 'dash': 'dot'}}\n",
      "\n",
      "data = [{'x': x, 'y': y0},\n",
      "        {'x': x, 'y': y1},\n",
      "        {'x': x, 'y': y2},\n",
      "        {'x': x, 'y': y3},\n",
      "        {'x': x, 'y': y4},\n",
      "        {'x': x, 'y': y5, 'line': {'color': '#0074D9'}}]\n",
      "\n",
      "layout = {'yaxis': {'range': [-4.5, 4.5], 'zeroline':False, 'ticks':'','showline':False}, \n",
      "          'xaxis': {'showgrid':False,'showline':False, 'zeroline':False, 'ticks':''}, \n",
      "          'showlegend': False,\n",
      "          'title': '$\\\\sin(x)=\\sum\\limits_{k=0}^{\\infty}\\dfrac{(-1)^k x^{1+2k}}{(1+2k)!}$'}\n",
      "\n",
      "py.iplot(data, \n",
      "         layout=layout, \n",
      "         style=linestyle, \n",
      "         traces=[0,1,2,3,4], \n",
      "         filename='LaTeX', \n",
      "         fileopt='overwrite')"
     ],
     "language": "python",
     "metadata": {},
     "outputs": [
      {
       "html": [
        "<iframe height=\"550\" id=\"igraph\" scrolling=\"no\" seamless=\"seamless\" src=\"https://plot.ly/~IPython.Demo/1091\" width=\"100%\"></iframe>"
       ],
       "metadata": {},
       "output_type": "pyout",
       "prompt_number": 16,
       "text": [
        "<IPython.core.display.HTML at 0x104bbf6d0>"
       ]
      }
     ],
     "prompt_number": 16
    },
    {
     "cell_type": "markdown",
     "metadata": {},
     "source": [
      "Flexible Axes and Subplots\n",
      "--------------------------\n",
      "\n",
      "Plotly abstracts subplots and insets as axes, so it's easy to let subplots share axes and interactivity.\n",
      "\n",
      "For example, this graph has two yaxes and two axes. Each column of plots share the same x-axis, and each row of plots share the same y-axis. Try zooming in any section of the plot (click-and-drag to zoom)!"
     ]
    },
    {
     "cell_type": "code",
     "collapsed": false,
     "input": [
      "import numpy as np\n",
      "\n",
      "x0 = np.concatenate([np.random.randn(100), np.random.randn(100)+6])\n",
      "y0 = np.random.rayleigh(size=200)\n",
      "\n",
      "histogram2d = { \"x\": x0, \"y\": y0, \"type\": \"histogram2d\"}\n",
      "\n",
      "histogramy1 = {\"y\": y0, \"type\": \"histogramy\", \"xaxis\": \"x2\", \"yaxis\": \"y\", \"bardir\": \"h\", \n",
      "                \"marker\":{\"color\":\"rgb(31, 119, 180)\"}}\n",
      "histogramy2 = {\"x\":x0, \"type\": \"histogramx\", \"xaxis\": \"x\", \"yaxis\": \"y2\",\n",
      "                \"marker\":{\"color\":\"rgb(31, 119, 180)\"}}\n",
      "\n",
      "layout = {\n",
      "    \"xaxis\":{ \"domain\":[0,0.8], \"showgrid\":False, \"showline\":False, \"zeroline\":False },\n",
      "    \"yaxis\":{ \"domain\":[0,0.8], \"showgrid\":False, \"showline\":False, \"zeroline\":False },\n",
      "    \"xaxis2\":{ \"domain\":[0.82,1.0], \"showgrid\":False, \"showline\":False, \"zeroline\":False },\n",
      "    \"yaxis2\":{ \"domain\":[0.82,1.0], \"showgrid\":False, \"showline\":False, \"zeroline\":False },\n",
      "     \"showlegend\":False,\n",
      "}\n",
      "py.iplot([histogram2d, histogramy1, histogramy2],\n",
      "         layout=layout, \n",
      "         filename='histogram subplots', \n",
      "         fileopt='overwrite')"
     ],
     "language": "python",
     "metadata": {},
     "outputs": [
      {
       "html": [
        "<iframe height=\"550\" id=\"igraph\" scrolling=\"no\" seamless=\"seamless\" src=\"https://plot.ly/~IPython.Demo/1092\" width=\"100%\"></iframe>"
       ],
       "metadata": {},
       "output_type": "pyout",
       "prompt_number": 17,
       "text": [
        "<IPython.core.display.HTML at 0x104b8cf90>"
       ]
      }
     ],
     "prompt_number": 17
    },
    {
     "cell_type": "markdown",
     "metadata": {},
     "source": [
      "### Check out more Plotly-IPython Notebooks\n",
      "- [Bubble Chart Explorer](http://nbviewer.ipython.org/github/plotly/IPython-plotly/blob/master/Bubble%20Chart%20Explorer.ipynb)\n",
      "- [Running MATLAB in IPython with Plotly Graphs](http://nbviewer.ipython.org/gist/anonymous/8868059)\n",
      "\n",
      "### More resources   \n",
      "- [Plotly Documentation](https://plot.ly/API)\n",
      "- [Plotly GitHub](https://github.com/plotly)\n",
      "- [@plotlygraphs](http://twitter.com/plotlygraphs)\n",
      "- [Plotly Facebook](https://facebook.com/plotly)\n",
      "- [The Plotly Team](https://plot.ly/team)\n",
      "- <chris@plot.ly>"
     ]
    },
    {
     "cell_type": "markdown",
     "metadata": {},
     "source": [
      "*Hearts*  \n",
      "Team Plotly  \n",
      "Montr\u00e9al | SF | Boston"
     ]
    }
   ],
   "metadata": {}
  }
 ]
}
