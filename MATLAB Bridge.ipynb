{
 "metadata": {
  "name": "MATLAB Bridge"
 },
 "nbformat": 3,
 "nbformat_minor": 0,
 "worksheets": [
  {
   "cells": [
    {
     "cell_type": "markdown",
     "metadata": {},
     "source": "Running [MATLAB in an IPython Notebook](https://github.com/arokem/python-matlab-bridge)\n=====================================\n\nWith [Interactive MATLAB Graphing in Plotly](https://plot.ly/api/MATLAB)\n------------------------------------------------------------------------\n\nCheck out more examples interactive Plotly graphs in IPython notebooks here: [nbviewer.ipython.org/github/plotly/IPython-plotly/tree/master/](nbviewer.ipython.org/github/plotly/IPython-plotly/tree/master/)\n\nQuestions? <Chris@plot.ly>, [@plotlygraphs](http://twitter.com/plotlygraphs)"
    },
    {
     "cell_type": "markdown",
     "metadata": {},
     "source": "Let's start our MATLAB server:"
    },
    {
     "cell_type": "code",
     "collapsed": false,
     "input": "import pymatbridge as pymat\nip = get_ipython()\npymat.load_ipython_extension(ip, \n    matlab='/Applications/MATLAB_R2013a.app/bin/matlab')",
     "language": "python",
     "metadata": {},
     "outputs": [
      {
       "output_type": "stream",
       "stream": "stdout",
       "text": "Starting MATLAB on http://localhost:54743\n visit http://localhost:54743/exit.m to shut down same\n"
      },
      {
       "output_type": "stream",
       "stream": "stdout",
       "text": "."
      },
      {
       "output_type": "stream",
       "stream": "stdout",
       "text": "."
      },
      {
       "output_type": "stream",
       "stream": "stdout",
       "text": "MATLAB started and connected!\n"
      }
     ],
     "prompt_number": 4
    },
    {
     "cell_type": "markdown",
     "metadata": {},
     "source": "Giddyup! Now let's make a plotly graph in MATLAB. The following MATLAB code is taken from the [MATLAB-Plotly gallery](https://plot.ly/MATLAB/script-demos/gaussian-distribution-histogram-area-example/)."
    },
    {
     "cell_type": "code",
     "collapsed": false,
     "input": "%%matlab\napi_path = '/Users/chris/plotlygithub/MATLAB-api';\naddpath(genpath(api_path));\napi_key = '1ch7o7hdu7';\nusername = 'ChrisP';\nsignin(username, api_key);\n\nlayout =  struct('autosize', false,'width', 600, 'height', 400, 'showlegend', false,...\n\t'xaxis' , struct('linecolor','rgba(0, 0, 0, 0)','ticks','',...\n\t    'showgrid',false,'zeroline',false,'showticklabels',false),...\n\t'yaxis' , struct('linecolor','rgba(0, 0, 0, 0)','ticks','',...\n\t    'showgrid',false,'zeroline',false,'showticklabels',false));\n\nr = plotly({struct('y', randn(5000,1),...\n\t\t\t'type', 'histogramy',...\n\t\t\t'histnorm','probability density',...\n\t\t\t'autobinx', false,...\n\t\t\t'xbins',struct('start', -2.5, 'end', 3, 'size', 0.5)),...\n\n\t\tstruct('x',linspace(-5,5,100),...\n\t\t\t'y', 1./sqrt(2*3.14)*exp(-linspace(-5,5,100).^2/2.),...\n\t\t\t'fill','tozeroy',...\n\t\t\t'marker',struct('color', 'rgba(111, 168, 220, 0.44)'))},...\n\t\tstruct('layout',layout, 'filename', 'matlab bridge', 'fileopt', 'overwrite'));\ndisp(r.url)",
     "language": "python",
     "metadata": {},
     "outputs": [
      {
       "metadata": {},
       "output_type": "display_data",
       "text": "https://plot.ly/~ChrisP/30\n"
      }
     ],
     "prompt_number": 9
    },
    {
     "cell_type": "markdown",
     "metadata": {},
     "source": "The `plotly` MATLAB command sends data to my [plotly account](https://plot.ly/~ChrisP) and returns the unique url [https://plot.ly/~ChrisP/30](https://plot.ly/~ChrisP/30) where anyone can view the rendered graph.\n\nEvery plotly graph URL can be [embedded in HTML as wrapped in an IFrame](https://plot.ly/api/MATLAB/docs/iframes). Here's a quick utility function that will embed a plotly graph in IPython notebooks."
    },
    {
     "cell_type": "code",
     "collapsed": false,
     "input": "from IPython.display import HTML\n\ndef show_plot(url, width=700, height=500):\n    s = '<iframe height=\"%s\" id=\"igraph\" scrolling=\"no\" seamless=\"seamless\" src=\"%s\" width=\"%s\"></iframe>' %\\\n    (height+50, \"/\".join(map(str,[url, width, height])), width+50)\n    return HTML(s)",
     "language": "python",
     "metadata": {},
     "outputs": [],
     "prompt_number": 18
    },
    {
     "cell_type": "markdown",
     "metadata": {},
     "source": "Let's take a look at the graph we generated above"
    },
    {
     "cell_type": "code",
     "collapsed": false,
     "input": "show_plot('https://plot.ly/~ChrisP/30')",
     "language": "python",
     "metadata": {},
     "outputs": [
      {
       "html": "<iframe height=\"550\" id=\"igraph\" scrolling=\"no\" seamless=\"seamless\" src=\"https://plot.ly/~ChrisP/30/700/500\" width=\"750\"></iframe>",
       "metadata": {},
       "output_type": "pyout",
       "prompt_number": 19,
       "text": "<IPython.core.display.HTML at 0x105b77150>"
      }
     ],
     "prompt_number": 19
    }
   ],
   "metadata": {}
  }
 ]
}