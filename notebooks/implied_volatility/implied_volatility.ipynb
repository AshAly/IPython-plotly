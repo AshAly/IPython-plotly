{
 "cells": [
  {
   "cell_type": "markdown",
   "metadata": {},
   "source": [
    "# Implied Volatility"
   ]
  },
  {
   "cell_type": "markdown",
   "metadata": {},
   "source": [
    "#### About the author\n",
    "\n",
    "This notebook was adapted from this [post](http://blog.nag.com/2013/10/implied-volatility-using-pythons-pandas.html). The original author is Brian Spector from NAG."
   ]
  },
  {
   "cell_type": "markdown",
   "metadata": {},
   "source": [
    "### Introduction\n",
    "\n",
    "In financial analysis, the famous [Black--Scholes formula](https://en.wikipedia.org/wiki/Black%E2%80%93Scholes_model) prices an option as a function of six variables: Underlying Price, Interest Rate, Dividends, Strike Price, Time-to-Expiration, and Volatility. For a given option contract, we can observe the Underlying Price, Interest Rate, and Dividend Rate. In addition, the options contract specifies the Strike Price and Time-to-Expiration.\n",
    "\n",
    "The one variable we have to tweak is thus the volatility. Let us ask the question: What Volatility is such that the Black--Scholes equation price equals the market price?\n",
    "\n",
    "$$\n",
    "F(\\text{Volatility}^*) = \\text{Market Option Price},\n",
    "$$"
   ]
  },
  {
   "cell_type": "markdown",
   "metadata": {},
   "source": [
    "where $\\text{Volatility}^*$ is the volatility **implied** by the market price or the [implied volatility](https://en.wikipedia.org/wiki/Implied_volatility). $F$ is a continuous function on $[0, 1]$ so we can use a root finder to get value(s) of $\\text{Volatility}^*$ which solve(s) the above equation."
   ]
  },
  {
   "cell_type": "markdown",
   "metadata": {},
   "source": [
    "### Using NAG and Python libraries\n",
    "\n",
    "We can use a few different NAG functions; [nag_zero_cont_func_brent](http://www.nag.com/numeric/CL/nagdoc_cl23/html/C05/c05ayc.html) finds the root using Brent's Algorithm, [nag_bsm_price](http://www.nag.com/numeric/CL/nagdoc_cl23/html/S/s30aac.html) calculates the theoretical option price, [nag_2d_cheb_fit_lines](http://www.nag.com/numeric/CL/nagdoc_cl23/html/E02/e02cac.html) performs a least squares Chebyshev fit to the volatility surface, and [nag_2d_cheb_eval](http://www.nag.com/numeric/CL/nagdoc_cl23/html/E02/e02cbc.html) evaluates the surface at intermediate points."
   ]
  },
  {
   "cell_type": "markdown",
   "metadata": {},
   "source": [
    "We will use the popular packages Python offers for numerical computing and data analysis: `numpy`, `scipy`, and `pandas`. The latter has fast and efficient data analysis tools to store and process large amounts of data. In addition, `pandas` comes with `numpy` and `ctypes` built into it, which allows easy integration with NAG's `nag4py` package. Visualizations will be made with `plotly`."
   ]
  },
  {
   "cell_type": "markdown",
   "metadata": {},
   "source": [
    "The code below runs on data from the Chicago Board of Options Exchange (CBOE) website. The CBOE provides options data in downloadable format [here](http://www.cboe.com/delayedquote/QuoteTableDownload.aspx). Make sure you download data during CBOE trading hours, so your graphs are not trivial."
   ]
  },
  {
   "cell_type": "markdown",
   "metadata": {},
   "source": [
    "Please get the `implied_volatility_utils` module (`implied_volatility_utils.py` file) from [here](http://www.nag.co.uk/blog_files/nag_imp_vol.zip)."
   ]
  },
  {
   "cell_type": "code",
   "execution_count": 1,
   "metadata": {
    "collapsed": false
   },
   "outputs": [],
   "source": [
    "# Load one of its functions to make sure you have it in the current working directory.\n",
    "from implied_volatility_utils import generate_data"
   ]
  },
  {
   "cell_type": "markdown",
   "metadata": {},
   "source": [
    "## Parsing the data"
   ]
  },
  {
   "cell_type": "code",
   "execution_count": 2,
   "metadata": {
    "collapsed": true
   },
   "outputs": [],
   "source": [
    "import pandas as pd"
   ]
  },
  {
   "cell_type": "markdown",
   "metadata": {},
   "source": [
    "Take a look at the `QuoteData.dat` file; it starts with 2 lines of metadata, and looks like a CSV file."
   ]
  },
  {
   "cell_type": "code",
   "execution_count": 3,
   "metadata": {
    "collapsed": true
   },
   "outputs": [],
   "source": [
    "quotedata = pd.read_csv('QuoteData.dat', header=2)"
   ]
  },
  {
   "cell_type": "code",
   "execution_count": 4,
   "metadata": {
    "collapsed": false
   },
   "outputs": [
    {
     "data": {
      "text/html": [
       "<div style=\"max-height:1000px;max-width:1500px;overflow:auto;\">\n",
       "<table border=\"1\" class=\"dataframe\">\n",
       "  <thead>\n",
       "    <tr style=\"text-align: right;\">\n",
       "      <th></th>\n",
       "      <th>Calls</th>\n",
       "      <th>Last Sale</th>\n",
       "      <th>Net</th>\n",
       "      <th>Bid</th>\n",
       "      <th>Ask</th>\n",
       "      <th>Vol</th>\n",
       "      <th>Open Int</th>\n",
       "      <th>Puts</th>\n",
       "      <th>Last Sale.1</th>\n",
       "      <th>Net.1</th>\n",
       "      <th>Bid.1</th>\n",
       "      <th>Ask.1</th>\n",
       "      <th>Vol.1</th>\n",
       "      <th>Open Int.1</th>\n",
       "      <th>Unnamed: 14</th>\n",
       "    </tr>\n",
       "  </thead>\n",
       "  <tbody>\n",
       "    <tr>\n",
       "      <th>0</th>\n",
       "      <td>   15 Jun 65.00 (AAPL1519F65)</td>\n",
       "      <td> 62.65</td>\n",
       "      <td> 0</td>\n",
       "      <td> 62.05</td>\n",
       "      <td> 62.25</td>\n",
       "      <td> 0</td>\n",
       "      <td> 206</td>\n",
       "      <td>   15 Jun 65.00 (AAPL1519R65)</td>\n",
       "      <td> 0.01</td>\n",
       "      <td> 0</td>\n",
       "      <td> 0.0</td>\n",
       "      <td> 0.01</td>\n",
       "      <td> 0</td>\n",
       "      <td> 236</td>\n",
       "      <td>NaN</td>\n",
       "    </tr>\n",
       "    <tr>\n",
       "      <th>1</th>\n",
       "      <td> 15 Jun 65.00 (AAPL1519F65-4)</td>\n",
       "      <td>  0.00</td>\n",
       "      <td> 0</td>\n",
       "      <td> 62.05</td>\n",
       "      <td> 62.25</td>\n",
       "      <td> 0</td>\n",
       "      <td> 206</td>\n",
       "      <td> 15 Jun 65.00 (AAPL1519R65-4)</td>\n",
       "      <td> 0.01</td>\n",
       "      <td> 0</td>\n",
       "      <td> 0.0</td>\n",
       "      <td> 0.01</td>\n",
       "      <td> 0</td>\n",
       "      <td> 236</td>\n",
       "      <td>NaN</td>\n",
       "    </tr>\n",
       "    <tr>\n",
       "      <th>2</th>\n",
       "      <td> 15 Jun 65.00 (AAPL1519F65-8)</td>\n",
       "      <td> 62.55</td>\n",
       "      <td> 0</td>\n",
       "      <td> 62.00</td>\n",
       "      <td> 62.25</td>\n",
       "      <td> 0</td>\n",
       "      <td> 206</td>\n",
       "      <td> 15 Jun 65.00 (AAPL1519R65-8)</td>\n",
       "      <td> 0.02</td>\n",
       "      <td> 0</td>\n",
       "      <td> 0.0</td>\n",
       "      <td> 0.01</td>\n",
       "      <td> 0</td>\n",
       "      <td> 236</td>\n",
       "      <td>NaN</td>\n",
       "    </tr>\n",
       "    <tr>\n",
       "      <th>3</th>\n",
       "      <td> 15 Jun 65.00 (AAPL1519F65-A)</td>\n",
       "      <td>  0.00</td>\n",
       "      <td> 0</td>\n",
       "      <td> 62.05</td>\n",
       "      <td> 62.25</td>\n",
       "      <td> 0</td>\n",
       "      <td> 206</td>\n",
       "      <td> 15 Jun 65.00 (AAPL1519R65-A)</td>\n",
       "      <td> 0.00</td>\n",
       "      <td> 0</td>\n",
       "      <td> 0.0</td>\n",
       "      <td> 0.01</td>\n",
       "      <td> 0</td>\n",
       "      <td> 236</td>\n",
       "      <td>NaN</td>\n",
       "    </tr>\n",
       "    <tr>\n",
       "      <th>4</th>\n",
       "      <td> 15 Jun 65.00 (AAPL1519F65-B)</td>\n",
       "      <td>  0.00</td>\n",
       "      <td> 0</td>\n",
       "      <td> 62.05</td>\n",
       "      <td> 62.25</td>\n",
       "      <td> 0</td>\n",
       "      <td> 206</td>\n",
       "      <td> 15 Jun 65.00 (AAPL1519R65-B)</td>\n",
       "      <td> 0.00</td>\n",
       "      <td> 0</td>\n",
       "      <td> 0.0</td>\n",
       "      <td> 0.01</td>\n",
       "      <td> 0</td>\n",
       "      <td> 236</td>\n",
       "      <td>NaN</td>\n",
       "    </tr>\n",
       "  </tbody>\n",
       "</table>\n",
       "</div>"
      ],
      "text/plain": [
       "                          Calls  Last Sale  Net    Bid    Ask  Vol  Open Int  \\\n",
       "0    15 Jun 65.00 (AAPL1519F65)      62.65    0  62.05  62.25    0       206   \n",
       "1  15 Jun 65.00 (AAPL1519F65-4)       0.00    0  62.05  62.25    0       206   \n",
       "2  15 Jun 65.00 (AAPL1519F65-8)      62.55    0  62.00  62.25    0       206   \n",
       "3  15 Jun 65.00 (AAPL1519F65-A)       0.00    0  62.05  62.25    0       206   \n",
       "4  15 Jun 65.00 (AAPL1519F65-B)       0.00    0  62.05  62.25    0       206   \n",
       "\n",
       "                           Puts  Last Sale.1  Net.1 Bid.1 Ask.1  Vol.1  \\\n",
       "0    15 Jun 65.00 (AAPL1519R65)         0.01      0   0.0  0.01      0   \n",
       "1  15 Jun 65.00 (AAPL1519R65-4)         0.01      0   0.0  0.01      0   \n",
       "2  15 Jun 65.00 (AAPL1519R65-8)         0.02      0   0.0  0.01      0   \n",
       "3  15 Jun 65.00 (AAPL1519R65-A)         0.00      0   0.0  0.01      0   \n",
       "4  15 Jun 65.00 (AAPL1519R65-B)         0.00      0   0.0  0.01      0   \n",
       "\n",
       "   Open Int.1  Unnamed: 14  \n",
       "0         236          NaN  \n",
       "1         236          NaN  \n",
       "2         236          NaN  \n",
       "3         236          NaN  \n",
       "4         236          NaN  "
      ]
     },
     "execution_count": 4,
     "metadata": {},
     "output_type": "execute_result"
    }
   ],
   "source": [
    "quotedata.head()"
   ]
  },
  {
   "cell_type": "code",
   "execution_count": 5,
   "metadata": {
    "collapsed": false
   },
   "outputs": [
    {
     "data": {
      "text/html": [
       "<div style=\"max-height:1000px;max-width:1500px;overflow:auto;\">\n",
       "<table border=\"1\" class=\"dataframe\">\n",
       "  <thead>\n",
       "    <tr style=\"text-align: right;\">\n",
       "      <th></th>\n",
       "      <th>Last Sale</th>\n",
       "      <th>Net</th>\n",
       "      <th>Vol</th>\n",
       "      <th>Open Int</th>\n",
       "      <th>Last Sale.1</th>\n",
       "      <th>Net.1</th>\n",
       "      <th>Vol.1</th>\n",
       "      <th>Open Int.1</th>\n",
       "      <th>Unnamed: 14</th>\n",
       "    </tr>\n",
       "  </thead>\n",
       "  <tbody>\n",
       "    <tr>\n",
       "      <th>count</th>\n",
       "      <td> 7064.000000</td>\n",
       "      <td> 7064.000000</td>\n",
       "      <td>  7064.000000</td>\n",
       "      <td>   7064.000000</td>\n",
       "      <td> 7064.000000</td>\n",
       "      <td> 7064.000000</td>\n",
       "      <td>  7064.000000</td>\n",
       "      <td>   7064.000000</td>\n",
       "      <td>  0</td>\n",
       "    </tr>\n",
       "    <tr>\n",
       "      <th>mean</th>\n",
       "      <td>   13.523344</td>\n",
       "      <td>   -0.063621</td>\n",
       "      <td>    39.737259</td>\n",
       "      <td>   7779.500142</td>\n",
       "      <td>    6.033988</td>\n",
       "      <td>    0.020449</td>\n",
       "      <td>    32.916195</td>\n",
       "      <td>   5743.854332</td>\n",
       "      <td>NaN</td>\n",
       "    </tr>\n",
       "    <tr>\n",
       "      <th>std</th>\n",
       "      <td>   20.289055</td>\n",
       "      <td>    0.235779</td>\n",
       "      <td>   421.766855</td>\n",
       "      <td>  19202.093967</td>\n",
       "      <td>   12.257830</td>\n",
       "      <td>    0.167572</td>\n",
       "      <td>   379.348601</td>\n",
       "      <td>  11874.132766</td>\n",
       "      <td>NaN</td>\n",
       "    </tr>\n",
       "    <tr>\n",
       "      <th>min</th>\n",
       "      <td>    0.000000</td>\n",
       "      <td>   -5.310000</td>\n",
       "      <td>     0.000000</td>\n",
       "      <td>      0.000000</td>\n",
       "      <td>    0.000000</td>\n",
       "      <td>   -1.950000</td>\n",
       "      <td>     0.000000</td>\n",
       "      <td>      0.000000</td>\n",
       "      <td>NaN</td>\n",
       "    </tr>\n",
       "    <tr>\n",
       "      <th>25%</th>\n",
       "      <td>    0.020000</td>\n",
       "      <td>    0.000000</td>\n",
       "      <td>     0.000000</td>\n",
       "      <td>    165.000000</td>\n",
       "      <td>    0.010000</td>\n",
       "      <td>    0.000000</td>\n",
       "      <td>     0.000000</td>\n",
       "      <td>    105.000000</td>\n",
       "      <td>NaN</td>\n",
       "    </tr>\n",
       "    <tr>\n",
       "      <th>50%</th>\n",
       "      <td>    2.900000</td>\n",
       "      <td>    0.000000</td>\n",
       "      <td>     0.000000</td>\n",
       "      <td>   1014.000000</td>\n",
       "      <td>    0.530000</td>\n",
       "      <td>    0.000000</td>\n",
       "      <td>     0.000000</td>\n",
       "      <td>   1224.000000</td>\n",
       "      <td>NaN</td>\n",
       "    </tr>\n",
       "    <tr>\n",
       "      <th>75%</th>\n",
       "      <td>   18.962500</td>\n",
       "      <td>    0.000000</td>\n",
       "      <td>     0.000000</td>\n",
       "      <td>   5759.000000</td>\n",
       "      <td>    5.350000</td>\n",
       "      <td>    0.000000</td>\n",
       "      <td>     0.000000</td>\n",
       "      <td>   5428.000000</td>\n",
       "      <td>NaN</td>\n",
       "    </tr>\n",
       "    <tr>\n",
       "      <th>max</th>\n",
       "      <td>   97.100000</td>\n",
       "      <td>    3.300000</td>\n",
       "      <td> 22162.000000</td>\n",
       "      <td> 174284.000000</td>\n",
       "      <td>   72.000000</td>\n",
       "      <td>    4.560000</td>\n",
       "      <td> 20699.000000</td>\n",
       "      <td> 125734.000000</td>\n",
       "      <td>NaN</td>\n",
       "    </tr>\n",
       "  </tbody>\n",
       "</table>\n",
       "</div>"
      ],
      "text/plain": [
       "         Last Sale          Net           Vol       Open Int  Last Sale.1  \\\n",
       "count  7064.000000  7064.000000   7064.000000    7064.000000  7064.000000   \n",
       "mean     13.523344    -0.063621     39.737259    7779.500142     6.033988   \n",
       "std      20.289055     0.235779    421.766855   19202.093967    12.257830   \n",
       "min       0.000000    -5.310000      0.000000       0.000000     0.000000   \n",
       "25%       0.020000     0.000000      0.000000     165.000000     0.010000   \n",
       "50%       2.900000     0.000000      0.000000    1014.000000     0.530000   \n",
       "75%      18.962500     0.000000      0.000000    5759.000000     5.350000   \n",
       "max      97.100000     3.300000  22162.000000  174284.000000    72.000000   \n",
       "\n",
       "             Net.1         Vol.1     Open Int.1  Unnamed: 14  \n",
       "count  7064.000000   7064.000000    7064.000000            0  \n",
       "mean      0.020449     32.916195    5743.854332          NaN  \n",
       "std       0.167572    379.348601   11874.132766          NaN  \n",
       "min      -1.950000      0.000000       0.000000          NaN  \n",
       "25%       0.000000      0.000000     105.000000          NaN  \n",
       "50%       0.000000      0.000000    1224.000000          NaN  \n",
       "75%       0.000000      0.000000    5428.000000          NaN  \n",
       "max       4.560000  20699.000000  125734.000000          NaN  "
      ]
     },
     "execution_count": 5,
     "metadata": {},
     "output_type": "execute_result"
    }
   ],
   "source": [
    "quotedata.describe()"
   ]
  },
  {
   "cell_type": "code",
   "execution_count": 6,
   "metadata": {
    "collapsed": true
   },
   "outputs": [],
   "source": [
    "# Some filtering, clean-up.\n",
    "quotedata = quotedata.fillna(0.0)\n",
    "quotedata = quotedata[(quotedata['Last Sale'] > 0) | (quotedata['Last Sale.1'] > 0)]\n",
    "quotedata = quotedata[quotedata['Calls'] > 0]"
   ]
  },
  {
   "cell_type": "code",
   "execution_count": 7,
   "metadata": {
    "collapsed": false
   },
   "outputs": [
    {
     "data": {
      "text/html": [
       "<div style=\"max-height:1000px;max-width:1500px;overflow:auto;\">\n",
       "<table border=\"1\" class=\"dataframe\">\n",
       "  <thead>\n",
       "    <tr style=\"text-align: right;\">\n",
       "      <th></th>\n",
       "      <th>Last Sale</th>\n",
       "      <th>Net</th>\n",
       "      <th>Vol</th>\n",
       "      <th>Open Int</th>\n",
       "      <th>Last Sale.1</th>\n",
       "      <th>Net.1</th>\n",
       "      <th>Vol.1</th>\n",
       "      <th>Open Int.1</th>\n",
       "      <th>Unnamed: 14</th>\n",
       "    </tr>\n",
       "  </thead>\n",
       "  <tbody>\n",
       "    <tr>\n",
       "      <th>count</th>\n",
       "      <td> 6334.000000</td>\n",
       "      <td> 6334.000000</td>\n",
       "      <td>  6334.000000</td>\n",
       "      <td>   6334.000000</td>\n",
       "      <td> 6334.000000</td>\n",
       "      <td> 6334.000000</td>\n",
       "      <td>  6334.000000</td>\n",
       "      <td>   6334.000000</td>\n",
       "      <td> 6334</td>\n",
       "    </tr>\n",
       "    <tr>\n",
       "      <th>mean</th>\n",
       "      <td>   15.081923</td>\n",
       "      <td>   -0.070954</td>\n",
       "      <td>    44.317019</td>\n",
       "      <td>   8648.153300</td>\n",
       "      <td>    6.729411</td>\n",
       "      <td>    0.022805</td>\n",
       "      <td>    36.709820</td>\n",
       "      <td>   6380.140354</td>\n",
       "      <td>    0</td>\n",
       "    </tr>\n",
       "    <tr>\n",
       "      <th>std</th>\n",
       "      <td>   20.870691</td>\n",
       "      <td>    0.247951</td>\n",
       "      <td>   445.184473</td>\n",
       "      <td>  20091.901379</td>\n",
       "      <td>   12.762977</td>\n",
       "      <td>    0.176814</td>\n",
       "      <td>   400.442175</td>\n",
       "      <td>  12380.346472</td>\n",
       "      <td>    0</td>\n",
       "    </tr>\n",
       "    <tr>\n",
       "      <th>min</th>\n",
       "      <td>    0.000000</td>\n",
       "      <td>   -5.310000</td>\n",
       "      <td>     0.000000</td>\n",
       "      <td>      0.000000</td>\n",
       "      <td>    0.000000</td>\n",
       "      <td>   -1.950000</td>\n",
       "      <td>     0.000000</td>\n",
       "      <td>      0.000000</td>\n",
       "      <td>    0</td>\n",
       "    </tr>\n",
       "    <tr>\n",
       "      <th>25%</th>\n",
       "      <td>    0.150000</td>\n",
       "      <td>    0.000000</td>\n",
       "      <td>     0.000000</td>\n",
       "      <td>    273.000000</td>\n",
       "      <td>    0.040000</td>\n",
       "      <td>    0.000000</td>\n",
       "      <td>     0.000000</td>\n",
       "      <td>    269.000000</td>\n",
       "      <td>    0</td>\n",
       "    </tr>\n",
       "    <tr>\n",
       "      <th>50%</th>\n",
       "      <td>    4.825000</td>\n",
       "      <td>    0.000000</td>\n",
       "      <td>     0.000000</td>\n",
       "      <td>   1373.000000</td>\n",
       "      <td>    0.920000</td>\n",
       "      <td>    0.000000</td>\n",
       "      <td>     0.000000</td>\n",
       "      <td>   1598.000000</td>\n",
       "      <td>    0</td>\n",
       "    </tr>\n",
       "    <tr>\n",
       "      <th>75%</th>\n",
       "      <td>   22.957500</td>\n",
       "      <td>    0.000000</td>\n",
       "      <td>     0.000000</td>\n",
       "      <td>   7013.000000</td>\n",
       "      <td>    6.400000</td>\n",
       "      <td>    0.000000</td>\n",
       "      <td>     0.000000</td>\n",
       "      <td>   6368.000000</td>\n",
       "      <td>    0</td>\n",
       "    </tr>\n",
       "    <tr>\n",
       "      <th>max</th>\n",
       "      <td>   97.100000</td>\n",
       "      <td>    3.300000</td>\n",
       "      <td> 22162.000000</td>\n",
       "      <td> 174284.000000</td>\n",
       "      <td>   72.000000</td>\n",
       "      <td>    4.560000</td>\n",
       "      <td> 20699.000000</td>\n",
       "      <td> 125734.000000</td>\n",
       "      <td>    0</td>\n",
       "    </tr>\n",
       "  </tbody>\n",
       "</table>\n",
       "</div>"
      ],
      "text/plain": [
       "         Last Sale          Net           Vol       Open Int  Last Sale.1  \\\n",
       "count  6334.000000  6334.000000   6334.000000    6334.000000  6334.000000   \n",
       "mean     15.081923    -0.070954     44.317019    8648.153300     6.729411   \n",
       "std      20.870691     0.247951    445.184473   20091.901379    12.762977   \n",
       "min       0.000000    -5.310000      0.000000       0.000000     0.000000   \n",
       "25%       0.150000     0.000000      0.000000     273.000000     0.040000   \n",
       "50%       4.825000     0.000000      0.000000    1373.000000     0.920000   \n",
       "75%      22.957500     0.000000      0.000000    7013.000000     6.400000   \n",
       "max      97.100000     3.300000  22162.000000  174284.000000    72.000000   \n",
       "\n",
       "             Net.1         Vol.1     Open Int.1  Unnamed: 14  \n",
       "count  6334.000000   6334.000000    6334.000000         6334  \n",
       "mean      0.022805     36.709820    6380.140354            0  \n",
       "std       0.176814    400.442175   12380.346472            0  \n",
       "min      -1.950000      0.000000       0.000000            0  \n",
       "25%       0.000000      0.000000     269.000000            0  \n",
       "50%       0.000000      0.000000    1598.000000            0  \n",
       "75%       0.000000      0.000000    6368.000000            0  \n",
       "max       4.560000  20699.000000  125734.000000            0  "
      ]
     },
     "execution_count": 7,
     "metadata": {},
     "output_type": "execute_result"
    }
   ],
   "source": [
    "quotedata.describe()"
   ]
  },
  {
   "cell_type": "markdown",
   "metadata": {},
   "source": [
    "Dimensions can be accessed in two possible ways:"
   ]
  },
  {
   "cell_type": "code",
   "execution_count": 8,
   "metadata": {
    "collapsed": false
   },
   "outputs": [
    {
     "data": {
      "text/plain": [
       "0       15 Jun 65.00 (AAPL1519F65)\n",
       "1     15 Jun 65.00 (AAPL1519F65-4)\n",
       "2     15 Jun 65.00 (AAPL1519F65-8)\n",
       "5     15 Jun 65.00 (AAPL1519F65-E)\n",
       "6     15 Jun 65.00 (AAPL1519F65-I)\n",
       "7     15 Jun 65.00 (AAPL1519F65-J)\n",
       "8     15 Jun 65.00 (AAPL1519F65-O)\n",
       "9     15 Jun 65.00 (AAPL1519F65-P)\n",
       "11    15 Jun 65.00 (AAPL1519F65-X)\n",
       "12    15 Jun 65.00 (AAPL1519F65-Y)\n",
       "13      15 Jun 70.00 (AAPL1519F70)\n",
       "14    15 Jun 70.00 (AAPL1519F70-4)\n",
       "15    15 Jun 70.00 (AAPL1519F70-8)\n",
       "17    15 Jun 70.00 (AAPL1519F70-B)\n",
       "18    15 Jun 70.00 (AAPL1519F70-E)\n",
       "...\n",
       "7049    17 Jan 190.00 (AAPL1720A190-X)\n",
       "7050    17 Jan 190.00 (AAPL1720A190-Y)\n",
       "7051      17 Jan 195.00 (AAPL1720A195)\n",
       "7052    17 Jan 195.00 (AAPL1720A195-4)\n",
       "7053    17 Jan 195.00 (AAPL1720A195-8)\n",
       "7054    17 Jan 195.00 (AAPL1720A195-A)\n",
       "7055    17 Jan 195.00 (AAPL1720A195-B)\n",
       "7056    17 Jan 195.00 (AAPL1720A195-E)\n",
       "7057    17 Jan 195.00 (AAPL1720A195-I)\n",
       "7058    17 Jan 195.00 (AAPL1720A195-J)\n",
       "7059    17 Jan 195.00 (AAPL1720A195-O)\n",
       "7060    17 Jan 195.00 (AAPL1720A195-P)\n",
       "7061    17 Jan 195.00 (AAPL1720A195-S)\n",
       "7062    17 Jan 195.00 (AAPL1720A195-X)\n",
       "7063    17 Jan 195.00 (AAPL1720A195-Y)\n",
       "Name: Calls, Length: 6334, dtype: object"
      ]
     },
     "execution_count": 8,
     "metadata": {},
     "output_type": "execute_result"
    }
   ],
   "source": [
    "quotedata.Calls  # or quotedata['Calls']"
   ]
  },
  {
   "cell_type": "markdown",
   "metadata": {},
   "source": [
    "Let us read the metadata now (we could have started with this)."
   ]
  },
  {
   "cell_type": "code",
   "execution_count": 9,
   "metadata": {
    "collapsed": true
   },
   "outputs": [],
   "source": [
    "qd = open('QuoteData.dat', 'r')"
   ]
  },
  {
   "cell_type": "code",
   "execution_count": 10,
   "metadata": {
    "collapsed": true
   },
   "outputs": [],
   "source": [
    "qd_head = []\n",
    "qd_head.append(qd.readline())\n",
    "qd_head.append(qd.readline())\n",
    "qd.close()"
   ]
  },
  {
   "cell_type": "code",
   "execution_count": 11,
   "metadata": {
    "collapsed": true
   },
   "outputs": [],
   "source": [
    "first_line = qd_head[0].split(',')"
   ]
  },
  {
   "cell_type": "code",
   "execution_count": 12,
   "metadata": {
    "collapsed": true
   },
   "outputs": [],
   "source": [
    "second_line = qd_head[1].split()"
   ]
  },
  {
   "cell_type": "code",
   "execution_count": 13,
   "metadata": {
    "collapsed": true
   },
   "outputs": [],
   "source": [
    "underlyingprice = float(first_line[1])"
   ]
  },
  {
   "cell_type": "code",
   "execution_count": 14,
   "metadata": {
    "collapsed": false
   },
   "outputs": [],
   "source": [
    "# Set to hold expiration dates\n",
    "cumulative_month = {'Jan': 31, 'Feb': 57, 'Mar': 90,\n",
    "                    'Apr': 120, 'May': 151, 'Jun': 181,\n",
    "                    'Jul': 212, 'Aug': 243, 'Sep': 273,\n",
    "                    'Oct': 304, 'Nov': 334, 'Dec': 365}\n",
    "\n",
    "month, day = second_line[:2]\n",
    "today = cumulative_month[month] + int(day) - 30\n",
    "current_year = int(second_line[2])"
   ]
  },
  {
   "cell_type": "code",
   "execution_count": 15,
   "metadata": {
    "collapsed": true
   },
   "outputs": [],
   "source": [
    "# Get the Options Expiration Date\n",
    "def get_expiration(x):\n",
    "    monthday = x.split()\n",
    "    adate = monthday[0] + ' ' + monthday[1]\n",
    "    return (int(monthday[0]) - (current_year % 2000)) * 365 + cumulative_month[monthday[1]]"
   ]
  },
  {
   "cell_type": "code",
   "execution_count": 16,
   "metadata": {
    "collapsed": true
   },
   "outputs": [],
   "source": [
    "expiration = quotedata['Calls'].apply(get_expiration)\n",
    "expiration.name = 'Expiration'"
   ]
  },
  {
   "cell_type": "code",
   "execution_count": 17,
   "metadata": {
    "collapsed": true
   },
   "outputs": [],
   "source": [
    "# Get the Strike Prices\n",
    "def get_strike(x):\n",
    "    monthday = x.split()\n",
    "    return float(monthday[2])"
   ]
  },
  {
   "cell_type": "code",
   "execution_count": 18,
   "metadata": {
    "collapsed": true
   },
   "outputs": [],
   "source": [
    "strike = quotedata['Calls'].apply(get_strike)\n",
    "strike.name = 'Strike'"
   ]
  },
  {
   "cell_type": "code",
   "execution_count": 19,
   "metadata": {
    "collapsed": true
   },
   "outputs": [],
   "source": [
    "quotedata = quotedata.join(expiration).join(strike)"
   ]
  },
  {
   "cell_type": "markdown",
   "metadata": {},
   "source": [
    "Take a look at a slice."
   ]
  },
  {
   "cell_type": "code",
   "execution_count": 20,
   "metadata": {
    "collapsed": false
   },
   "outputs": [
    {
     "data": {
      "text/plain": [
       "Calls          15 Jun 121.00 (AAPL1526F121-Y)\n",
       "Last Sale                               10.82\n",
       "Net                                         0\n",
       "Bid                                      6.30\n",
       "Ask                                      6.40\n",
       "Vol                                         0\n",
       "Open Int                                  434\n",
       "Puts           15 Jun 121.00 (AAPL1526R121-Y)\n",
       "Last Sale.1                              0.11\n",
       "Net.1                                       0\n",
       "Bid.1                                    0.10\n",
       "Ask.1                                    0.12\n",
       "Vol.1                                       0\n",
       "Open Int.1                               3200\n",
       "Unnamed: 14                                 0\n",
       "Expiration                                181\n",
       "Strike                                    121\n",
       "Name: 1000, dtype: object"
      ]
     },
     "execution_count": 20,
     "metadata": {},
     "output_type": "execute_result"
    }
   ],
   "source": [
    "quotedata.ix[1000, :]"
   ]
  },
  {
   "cell_type": "code",
   "execution_count": 21,
   "metadata": {
    "collapsed": true
   },
   "outputs": [],
   "source": [
    "# Call generate_data() to get option prices."
   ]
  },
  {
   "cell_type": "markdown",
   "metadata": {},
   "source": [
    "## Calculate Implied Volatility of Calls"
   ]
  },
  {
   "cell_type": "code",
   "execution_count": 22,
   "metadata": {
    "collapsed": false
   },
   "outputs": [],
   "source": [
    "impvolcall = pd.Series(pd.np.zeros(len(quotedata.index)), index=quotedata.index, name='impvolCall')"
   ]
  },
  {
   "cell_type": "markdown",
   "metadata": {},
   "source": [
    "Let us denote the time to expiration by T, the underlying price by S, the interest rate by r, and the dividend rate by q."
   ]
  },
  {
   "cell_type": "markdown",
   "metadata": {},
   "source": [
    "### SciPy method"
   ]
  },
  {
   "cell_type": "code",
   "execution_count": 23,
   "metadata": {
    "collapsed": false
   },
   "outputs": [],
   "source": [
    "from implied_volatility_utils import scipy_calcvol as calcvol"
   ]
  },
  {
   "cell_type": "markdown",
   "metadata": {},
   "source": [
    "### Nag4Py method"
   ]
  },
  {
   "cell_type": "code",
   "execution_count": 24,
   "metadata": {
    "collapsed": false
   },
   "outputs": [],
   "source": [
    "from implied_volatility_utils import (nag4py_package_check,\n",
    "                                      nag4py_calcvol as calcvol)\n",
    "nag4py_package_check()"
   ]
  }
 ],
 "metadata": {
  "kernelspec": {
   "display_name": "Python 2",
   "language": "python",
   "name": "python2"
  },
  "language_info": {
   "codemirror_mode": {
    "name": "ipython",
    "version": 2
   },
   "file_extension": ".py",
   "mimetype": "text/x-python",
   "name": "python",
   "nbconvert_exporter": "python",
   "pygments_lexer": "ipython2",
   "version": "2.7.6"
  }
 },
 "nbformat": 4,
 "nbformat_minor": 0
}
