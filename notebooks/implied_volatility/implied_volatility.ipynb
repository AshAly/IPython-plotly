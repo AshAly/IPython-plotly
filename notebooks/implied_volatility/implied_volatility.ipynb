{
 "cells": [
  {
   "cell_type": "markdown",
   "metadata": {},
   "source": [
    "# Implied Volatility"
   ]
  },
  {
   "cell_type": "markdown",
   "metadata": {},
   "source": [
    "#### About the author\n",
    "\n",
    "This notebook was adapted from this [post](http://blog.nag.com/2013/10/implied-volatility-using-pythons-pandas.html). The original author is Brian Spector from NAG."
   ]
  },
  {
   "cell_type": "markdown",
   "metadata": {},
   "source": [
    "### Introduction\n",
    "\n",
    "In financial analysis, the famous [Black--Scholes formula](https://en.wikipedia.org/wiki/Black%E2%80%93Scholes_model) prices an option as a function of six variables: Underlying Price, Interest Rate, Dividends, Strike Price, Time-to-Expiration, and Volatility. For a given option contract, we can observe the Underlying Price, Interest Rate, and Dividend Rate. In addition, the options contract specifies the Strike Price and Time-to-Expiration.\n",
    "\n",
    "The one variable we have to tweak is thus the volatility. Let us ask the question: What Volatility is such that the Black--Scholes equation price equals the market price?\n",
    "\n",
    "$$\n",
    "F(\\text{Volatility}^*) = \\text{Market Option Price},\n",
    "$$"
   ]
  },
  {
   "cell_type": "markdown",
   "metadata": {},
   "source": [
    "where $\\text{Volatility}^*$ is the volatility **implied** by the market price or the [implied volatility](https://en.wikipedia.org/wiki/Implied_volatility). $F$ is a continuous function on $[0, 1]$ so we can use a root finder to get value(s) of $\\text{Volatility}^*$ which solve(s) the above equation."
   ]
  },
  {
   "cell_type": "markdown",
   "metadata": {},
   "source": [
    "### Using NAG and Python libraries\n",
    "\n",
    "We can use a few different NAG functions; [nag_zero_cont_func_brent](http://www.nag.com/numeric/CL/nagdoc_cl23/html/C05/c05ayc.html) finds the root using Brent's Algorithm, [nag_bsm_price](http://www.nag.com/numeric/CL/nagdoc_cl23/html/S/s30aac.html) calculates the theoretical option price, [nag_2d_cheb_fit_lines](http://www.nag.com/numeric/CL/nagdoc_cl23/html/E02/e02cac.html) performs a least squares Chebyshev fit to the volatility surface, and [nag_2d_cheb_eval](http://www.nag.com/numeric/CL/nagdoc_cl23/html/E02/e02cbc.html) evaluates the surface at intermediate points."
   ]
  },
  {
   "cell_type": "markdown",
   "metadata": {},
   "source": [
    "We will use the popular packages Python offers for numerical computing and data analysis: `numpy`, `scipy`, and `pandas`. The latter has fast and efficient data analysis tools to store and process large amounts of data. In addition, `pandas` comes with `numpy` and `ctypes` built into it, which allows easy integration with NAG's `nag4py` package. Visualizations will be made with `plotly`."
   ]
  },
  {
   "cell_type": "markdown",
   "metadata": {},
   "source": [
    "The code below runs on data from the Chicago Board of Options Exchange (CBOE) website. The CBOE provides options data in downloadable format [here](http://www.cboe.com/delayedquote/QuoteTableDownload.aspx). Make sure you download data during CBOE trading hours, so your graphs are not trivial."
   ]
  },
  {
   "cell_type": "markdown",
   "metadata": {},
   "source": [
    "Please get the `implied_volatility_utils` module (`implied_volatility_utils.py` file) from [here](http://www.nag.co.uk/blog_files/nag_imp_vol.zip)."
   ]
  },
  {
   "cell_type": "code",
   "execution_count": 1,
   "metadata": {
    "collapsed": false
   },
   "outputs": [],
   "source": [
    "from implied_volatility_utils import generate_data"
   ]
  }
 ],
 "metadata": {
  "kernelspec": {
   "display_name": "Python 2",
   "language": "python",
   "name": "python2"
  },
  "language_info": {
   "codemirror_mode": {
    "name": "ipython",
    "version": 2
   },
   "file_extension": ".py",
   "mimetype": "text/x-python",
   "name": "python",
   "nbconvert_exporter": "python",
   "pygments_lexer": "ipython2",
   "version": "2.7.6"
  }
 },
 "nbformat": 4,
 "nbformat_minor": 0
}
