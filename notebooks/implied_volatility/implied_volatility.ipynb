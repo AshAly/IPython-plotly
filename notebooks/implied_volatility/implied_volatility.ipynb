{
 "cells": [
  {
   "cell_type": "markdown",
   "metadata": {},
   "source": [
    "# Implied Volatility"
   ]
  },
  {
   "cell_type": "markdown",
   "metadata": {},
   "source": [
    "#### About the author\n",
    "\n",
    "This notebook was adapted from this [post](http://blog.nag.com/2013/10/implied-volatility-using-pythons-pandas.html). The original author is Brian Spector from NAG."
   ]
  },
  {
   "cell_type": "markdown",
   "metadata": {},
   "source": [
    "### Introduction\n",
    "\n",
    "In financial analysis, the famous [Black--Scholes formula](https://en.wikipedia.org/wiki/Black%E2%80%93Scholes_model) prices an option as a function of six variables: Underlying Price, Interest Rate, Dividends, Strike Price, Time-to-Expiration, and Volatility. For a given option contract, we can observe the Underlying Price, Interest Rate, and Dividend Rate. In addition, the options' contract specifies the Strike Price and Time-to-Expiration.\n",
    "\n",
    "The one variable we have to tweak is thus the volatility. Let us ask the question: What Volatility is such that the Black--Scholes formula price equals the market price?\n",
    "\n",
    "$$\n",
    "F(\\text{Volatility}^*) = \\text{Market Option Price},\n",
    "$$"
   ]
  },
  {
   "cell_type": "markdown",
   "metadata": {},
   "source": [
    "where $\\text{Volatility}^*$ is the volatility **implied** by the market price or the [implied volatility](https://en.wikipedia.org/wiki/Implied_volatility). $F$ is a continuous function on $[0, 1]$ so we can use a root finder to get value(s) of $\\text{Volatility}^*$ which solve(s) the above equation."
   ]
  },
  {
   "cell_type": "markdown",
   "metadata": {},
   "source": [
    "### NAG and Python libraries\n",
    "\n",
    "We can use a few different NAG functions; [nag_zero_cont_func_brent](http://www.nag.com/numeric/CL/nagdoc_cl23/html/C05/c05ayc.html) finds the root using Brent's Algorithm, [nag_bsm_price](http://www.nag.com/numeric/CL/nagdoc_cl23/html/S/s30aac.html) calculates the theoretical option price, [nag_2d_cheb_fit_lines](http://www.nag.com/numeric/CL/nagdoc_cl23/html/E02/e02cac.html) performs a least squares Chebyshev fit to the volatility surface, and [nag_2d_cheb_eval](http://www.nag.com/numeric/CL/nagdoc_cl23/html/E02/e02cbc.html) evaluates the surface at intermediate points."
   ]
  },
  {
   "cell_type": "markdown",
   "metadata": {},
   "source": [
    "We will use the popular packages Python offers for numerical computing and data analysis: `numpy`, `scipy`, and `pandas`. The latter has fast and efficient data analysis tools to store and process large amounts of data. In addition, `pandas` comes with `numpy` and `ctypes` built into it, which allows easy integration with NAG's `nag4py` package. Visualizations will be made with `plotly`."
   ]
  },
  {
   "cell_type": "markdown",
   "metadata": {},
   "source": [
    "The code below runs on data from the Chicago Board of Options Exchange (CBOE) website. The CBOE provides options data in downloadable format [here](http://www.cboe.com/delayedquote/QuoteTableDownload.aspx). Make sure you download data during CBOE trading hours, so your graphs are not trivial."
   ]
  },
  {
   "cell_type": "markdown",
   "metadata": {},
   "source": [
    "Please get the `implied_volatility_utils` module (`implied_volatility_utils.py` file) from [here](http://www.nag.co.uk/blog_files/nag_imp_vol.zip)."
   ]
  },
  {
   "cell_type": "code",
   "execution_count": 1,
   "metadata": {
    "collapsed": false
   },
   "outputs": [],
   "source": [
    "# Load one of its functions to make sure you have it in the current working directory.\n",
    "from implied_volatility_utils import generate_data"
   ]
  },
  {
   "cell_type": "markdown",
   "metadata": {},
   "source": [
    "## Parse the data"
   ]
  },
  {
   "cell_type": "code",
   "execution_count": 2,
   "metadata": {
    "collapsed": true
   },
   "outputs": [],
   "source": [
    "import pandas as pd"
   ]
  },
  {
   "cell_type": "code",
   "execution_count": 3,
   "metadata": {
    "collapsed": false
   },
   "outputs": [
    {
     "data": {
      "text/plain": [
       "'0.16.2'"
      ]
     },
     "execution_count": 3,
     "metadata": {},
     "output_type": "execute_result"
    }
   ],
   "source": [
    "pd.__version__"
   ]
  },
  {
   "cell_type": "markdown",
   "metadata": {},
   "source": [
    "Take a look at the `QuoteData.dat` file; it starts with 2 lines of metadata, and looks like a CSV file."
   ]
  },
  {
   "cell_type": "code",
   "execution_count": 4,
   "metadata": {
    "collapsed": true
   },
   "outputs": [],
   "source": [
    "quotedata = pd.read_csv('QuoteData.dat', header=2)"
   ]
  },
  {
   "cell_type": "code",
   "execution_count": 5,
   "metadata": {
    "collapsed": false
   },
   "outputs": [
    {
     "data": {
      "text/html": [
       "<div>\n",
       "<table border=\"1\" class=\"dataframe\">\n",
       "  <thead>\n",
       "    <tr style=\"text-align: right;\">\n",
       "      <th></th>\n",
       "      <th>Calls</th>\n",
       "      <th>Last Sale</th>\n",
       "      <th>Net</th>\n",
       "      <th>Bid</th>\n",
       "      <th>Ask</th>\n",
       "      <th>Vol</th>\n",
       "      <th>Open Int</th>\n",
       "      <th>Puts</th>\n",
       "      <th>Last Sale.1</th>\n",
       "      <th>Net.1</th>\n",
       "      <th>Bid.1</th>\n",
       "      <th>Ask.1</th>\n",
       "      <th>Vol.1</th>\n",
       "      <th>Open Int.1</th>\n",
       "      <th>Unnamed: 14</th>\n",
       "    </tr>\n",
       "  </thead>\n",
       "  <tbody>\n",
       "    <tr>\n",
       "      <th>0</th>\n",
       "      <td>15 Jun 65.00 (AAPL1519F65)</td>\n",
       "      <td>62.65</td>\n",
       "      <td>0</td>\n",
       "      <td>62.05</td>\n",
       "      <td>62.25</td>\n",
       "      <td>0</td>\n",
       "      <td>206</td>\n",
       "      <td>15 Jun 65.00 (AAPL1519R65)</td>\n",
       "      <td>0.01</td>\n",
       "      <td>0</td>\n",
       "      <td>0.0</td>\n",
       "      <td>0.01</td>\n",
       "      <td>0</td>\n",
       "      <td>236</td>\n",
       "      <td>NaN</td>\n",
       "    </tr>\n",
       "    <tr>\n",
       "      <th>1</th>\n",
       "      <td>15 Jun 65.00 (AAPL1519F65-4)</td>\n",
       "      <td>0.00</td>\n",
       "      <td>0</td>\n",
       "      <td>62.05</td>\n",
       "      <td>62.25</td>\n",
       "      <td>0</td>\n",
       "      <td>206</td>\n",
       "      <td>15 Jun 65.00 (AAPL1519R65-4)</td>\n",
       "      <td>0.01</td>\n",
       "      <td>0</td>\n",
       "      <td>0.0</td>\n",
       "      <td>0.01</td>\n",
       "      <td>0</td>\n",
       "      <td>236</td>\n",
       "      <td>NaN</td>\n",
       "    </tr>\n",
       "    <tr>\n",
       "      <th>2</th>\n",
       "      <td>15 Jun 65.00 (AAPL1519F65-8)</td>\n",
       "      <td>62.55</td>\n",
       "      <td>0</td>\n",
       "      <td>62.00</td>\n",
       "      <td>62.25</td>\n",
       "      <td>0</td>\n",
       "      <td>206</td>\n",
       "      <td>15 Jun 65.00 (AAPL1519R65-8)</td>\n",
       "      <td>0.02</td>\n",
       "      <td>0</td>\n",
       "      <td>0.0</td>\n",
       "      <td>0.01</td>\n",
       "      <td>0</td>\n",
       "      <td>236</td>\n",
       "      <td>NaN</td>\n",
       "    </tr>\n",
       "    <tr>\n",
       "      <th>3</th>\n",
       "      <td>15 Jun 65.00 (AAPL1519F65-A)</td>\n",
       "      <td>0.00</td>\n",
       "      <td>0</td>\n",
       "      <td>62.05</td>\n",
       "      <td>62.25</td>\n",
       "      <td>0</td>\n",
       "      <td>206</td>\n",
       "      <td>15 Jun 65.00 (AAPL1519R65-A)</td>\n",
       "      <td>0.00</td>\n",
       "      <td>0</td>\n",
       "      <td>0.0</td>\n",
       "      <td>0.01</td>\n",
       "      <td>0</td>\n",
       "      <td>236</td>\n",
       "      <td>NaN</td>\n",
       "    </tr>\n",
       "    <tr>\n",
       "      <th>4</th>\n",
       "      <td>15 Jun 65.00 (AAPL1519F65-B)</td>\n",
       "      <td>0.00</td>\n",
       "      <td>0</td>\n",
       "      <td>62.05</td>\n",
       "      <td>62.25</td>\n",
       "      <td>0</td>\n",
       "      <td>206</td>\n",
       "      <td>15 Jun 65.00 (AAPL1519R65-B)</td>\n",
       "      <td>0.00</td>\n",
       "      <td>0</td>\n",
       "      <td>0.0</td>\n",
       "      <td>0.01</td>\n",
       "      <td>0</td>\n",
       "      <td>236</td>\n",
       "      <td>NaN</td>\n",
       "    </tr>\n",
       "  </tbody>\n",
       "</table>\n",
       "</div>"
      ],
      "text/plain": [
       "                          Calls  Last Sale  Net    Bid    Ask  Vol  Open Int  \\\n",
       "0    15 Jun 65.00 (AAPL1519F65)      62.65    0  62.05  62.25    0       206   \n",
       "1  15 Jun 65.00 (AAPL1519F65-4)       0.00    0  62.05  62.25    0       206   \n",
       "2  15 Jun 65.00 (AAPL1519F65-8)      62.55    0  62.00  62.25    0       206   \n",
       "3  15 Jun 65.00 (AAPL1519F65-A)       0.00    0  62.05  62.25    0       206   \n",
       "4  15 Jun 65.00 (AAPL1519F65-B)       0.00    0  62.05  62.25    0       206   \n",
       "\n",
       "                           Puts  Last Sale.1  Net.1 Bid.1 Ask.1  Vol.1  \\\n",
       "0    15 Jun 65.00 (AAPL1519R65)         0.01      0   0.0  0.01      0   \n",
       "1  15 Jun 65.00 (AAPL1519R65-4)         0.01      0   0.0  0.01      0   \n",
       "2  15 Jun 65.00 (AAPL1519R65-8)         0.02      0   0.0  0.01      0   \n",
       "3  15 Jun 65.00 (AAPL1519R65-A)         0.00      0   0.0  0.01      0   \n",
       "4  15 Jun 65.00 (AAPL1519R65-B)         0.00      0   0.0  0.01      0   \n",
       "\n",
       "   Open Int.1  Unnamed: 14  \n",
       "0         236          NaN  \n",
       "1         236          NaN  \n",
       "2         236          NaN  \n",
       "3         236          NaN  \n",
       "4         236          NaN  "
      ]
     },
     "execution_count": 5,
     "metadata": {},
     "output_type": "execute_result"
    }
   ],
   "source": [
    "quotedata.head()"
   ]
  },
  {
   "cell_type": "code",
   "execution_count": 6,
   "metadata": {
    "collapsed": false
   },
   "outputs": [
    {
     "data": {
      "text/html": [
       "<div>\n",
       "<table border=\"1\" class=\"dataframe\">\n",
       "  <thead>\n",
       "    <tr style=\"text-align: right;\">\n",
       "      <th></th>\n",
       "      <th>Last Sale</th>\n",
       "      <th>Net</th>\n",
       "      <th>Vol</th>\n",
       "      <th>Open Int</th>\n",
       "      <th>Last Sale.1</th>\n",
       "      <th>Net.1</th>\n",
       "      <th>Vol.1</th>\n",
       "      <th>Open Int.1</th>\n",
       "      <th>Unnamed: 14</th>\n",
       "    </tr>\n",
       "  </thead>\n",
       "  <tbody>\n",
       "    <tr>\n",
       "      <th>count</th>\n",
       "      <td>7064.000000</td>\n",
       "      <td>7064.000000</td>\n",
       "      <td>7064.000000</td>\n",
       "      <td>7064.000000</td>\n",
       "      <td>7064.000000</td>\n",
       "      <td>7064.000000</td>\n",
       "      <td>7064.000000</td>\n",
       "      <td>7064.000000</td>\n",
       "      <td>0</td>\n",
       "    </tr>\n",
       "    <tr>\n",
       "      <th>mean</th>\n",
       "      <td>13.523344</td>\n",
       "      <td>-0.063621</td>\n",
       "      <td>39.737259</td>\n",
       "      <td>7779.500142</td>\n",
       "      <td>6.033988</td>\n",
       "      <td>0.020449</td>\n",
       "      <td>32.916195</td>\n",
       "      <td>5743.854332</td>\n",
       "      <td>NaN</td>\n",
       "    </tr>\n",
       "    <tr>\n",
       "      <th>std</th>\n",
       "      <td>20.289055</td>\n",
       "      <td>0.235779</td>\n",
       "      <td>421.766855</td>\n",
       "      <td>19202.093967</td>\n",
       "      <td>12.257830</td>\n",
       "      <td>0.167572</td>\n",
       "      <td>379.348601</td>\n",
       "      <td>11874.132766</td>\n",
       "      <td>NaN</td>\n",
       "    </tr>\n",
       "    <tr>\n",
       "      <th>min</th>\n",
       "      <td>0.000000</td>\n",
       "      <td>-5.310000</td>\n",
       "      <td>0.000000</td>\n",
       "      <td>0.000000</td>\n",
       "      <td>0.000000</td>\n",
       "      <td>-1.950000</td>\n",
       "      <td>0.000000</td>\n",
       "      <td>0.000000</td>\n",
       "      <td>NaN</td>\n",
       "    </tr>\n",
       "    <tr>\n",
       "      <th>25%</th>\n",
       "      <td>0.020000</td>\n",
       "      <td>0.000000</td>\n",
       "      <td>0.000000</td>\n",
       "      <td>165.000000</td>\n",
       "      <td>0.010000</td>\n",
       "      <td>0.000000</td>\n",
       "      <td>0.000000</td>\n",
       "      <td>105.000000</td>\n",
       "      <td>NaN</td>\n",
       "    </tr>\n",
       "    <tr>\n",
       "      <th>50%</th>\n",
       "      <td>2.900000</td>\n",
       "      <td>0.000000</td>\n",
       "      <td>0.000000</td>\n",
       "      <td>1014.000000</td>\n",
       "      <td>0.530000</td>\n",
       "      <td>0.000000</td>\n",
       "      <td>0.000000</td>\n",
       "      <td>1224.000000</td>\n",
       "      <td>NaN</td>\n",
       "    </tr>\n",
       "    <tr>\n",
       "      <th>75%</th>\n",
       "      <td>18.962500</td>\n",
       "      <td>0.000000</td>\n",
       "      <td>0.000000</td>\n",
       "      <td>5759.000000</td>\n",
       "      <td>5.350000</td>\n",
       "      <td>0.000000</td>\n",
       "      <td>0.000000</td>\n",
       "      <td>5428.000000</td>\n",
       "      <td>NaN</td>\n",
       "    </tr>\n",
       "    <tr>\n",
       "      <th>max</th>\n",
       "      <td>97.100000</td>\n",
       "      <td>3.300000</td>\n",
       "      <td>22162.000000</td>\n",
       "      <td>174284.000000</td>\n",
       "      <td>72.000000</td>\n",
       "      <td>4.560000</td>\n",
       "      <td>20699.000000</td>\n",
       "      <td>125734.000000</td>\n",
       "      <td>NaN</td>\n",
       "    </tr>\n",
       "  </tbody>\n",
       "</table>\n",
       "</div>"
      ],
      "text/plain": [
       "         Last Sale          Net           Vol       Open Int  Last Sale.1  \\\n",
       "count  7064.000000  7064.000000   7064.000000    7064.000000  7064.000000   \n",
       "mean     13.523344    -0.063621     39.737259    7779.500142     6.033988   \n",
       "std      20.289055     0.235779    421.766855   19202.093967    12.257830   \n",
       "min       0.000000    -5.310000      0.000000       0.000000     0.000000   \n",
       "25%       0.020000     0.000000      0.000000     165.000000     0.010000   \n",
       "50%       2.900000     0.000000      0.000000    1014.000000     0.530000   \n",
       "75%      18.962500     0.000000      0.000000    5759.000000     5.350000   \n",
       "max      97.100000     3.300000  22162.000000  174284.000000    72.000000   \n",
       "\n",
       "             Net.1         Vol.1     Open Int.1  Unnamed: 14  \n",
       "count  7064.000000   7064.000000    7064.000000            0  \n",
       "mean      0.020449     32.916195    5743.854332          NaN  \n",
       "std       0.167572    379.348601   11874.132766          NaN  \n",
       "min      -1.950000      0.000000       0.000000          NaN  \n",
       "25%       0.000000      0.000000     105.000000          NaN  \n",
       "50%       0.000000      0.000000    1224.000000          NaN  \n",
       "75%       0.000000      0.000000    5428.000000          NaN  \n",
       "max       4.560000  20699.000000  125734.000000          NaN  "
      ]
     },
     "execution_count": 6,
     "metadata": {},
     "output_type": "execute_result"
    }
   ],
   "source": [
    "quotedata.describe()"
   ]
  },
  {
   "cell_type": "code",
   "execution_count": 7,
   "metadata": {
    "collapsed": true
   },
   "outputs": [],
   "source": [
    "# Some filtering, clean-up.\n",
    "quotedata = quotedata.fillna(0.0)\n",
    "quotedata = quotedata[(quotedata['Last Sale'] > 0) | (quotedata['Last Sale.1'] > 0)]\n",
    "quotedata = quotedata[quotedata['Calls'] > 0]\n",
    "quotedata = quotedata.drop('Unnamed: 14', 1)"
   ]
  },
  {
   "cell_type": "code",
   "execution_count": 8,
   "metadata": {
    "collapsed": false
   },
   "outputs": [
    {
     "data": {
      "text/html": [
       "<div>\n",
       "<table border=\"1\" class=\"dataframe\">\n",
       "  <thead>\n",
       "    <tr style=\"text-align: right;\">\n",
       "      <th></th>\n",
       "      <th>Last Sale</th>\n",
       "      <th>Net</th>\n",
       "      <th>Vol</th>\n",
       "      <th>Open Int</th>\n",
       "      <th>Last Sale.1</th>\n",
       "      <th>Net.1</th>\n",
       "      <th>Vol.1</th>\n",
       "      <th>Open Int.1</th>\n",
       "    </tr>\n",
       "  </thead>\n",
       "  <tbody>\n",
       "    <tr>\n",
       "      <th>count</th>\n",
       "      <td>6334.000000</td>\n",
       "      <td>6334.000000</td>\n",
       "      <td>6334.000000</td>\n",
       "      <td>6334.000000</td>\n",
       "      <td>6334.000000</td>\n",
       "      <td>6334.000000</td>\n",
       "      <td>6334.000000</td>\n",
       "      <td>6334.000000</td>\n",
       "    </tr>\n",
       "    <tr>\n",
       "      <th>mean</th>\n",
       "      <td>15.081923</td>\n",
       "      <td>-0.070954</td>\n",
       "      <td>44.317019</td>\n",
       "      <td>8648.153300</td>\n",
       "      <td>6.729411</td>\n",
       "      <td>0.022805</td>\n",
       "      <td>36.709820</td>\n",
       "      <td>6380.140354</td>\n",
       "    </tr>\n",
       "    <tr>\n",
       "      <th>std</th>\n",
       "      <td>20.870691</td>\n",
       "      <td>0.247951</td>\n",
       "      <td>445.184473</td>\n",
       "      <td>20091.901379</td>\n",
       "      <td>12.762977</td>\n",
       "      <td>0.176814</td>\n",
       "      <td>400.442175</td>\n",
       "      <td>12380.346472</td>\n",
       "    </tr>\n",
       "    <tr>\n",
       "      <th>min</th>\n",
       "      <td>0.000000</td>\n",
       "      <td>-5.310000</td>\n",
       "      <td>0.000000</td>\n",
       "      <td>0.000000</td>\n",
       "      <td>0.000000</td>\n",
       "      <td>-1.950000</td>\n",
       "      <td>0.000000</td>\n",
       "      <td>0.000000</td>\n",
       "    </tr>\n",
       "    <tr>\n",
       "      <th>25%</th>\n",
       "      <td>0.150000</td>\n",
       "      <td>0.000000</td>\n",
       "      <td>0.000000</td>\n",
       "      <td>273.000000</td>\n",
       "      <td>0.040000</td>\n",
       "      <td>0.000000</td>\n",
       "      <td>0.000000</td>\n",
       "      <td>269.000000</td>\n",
       "    </tr>\n",
       "    <tr>\n",
       "      <th>50%</th>\n",
       "      <td>4.825000</td>\n",
       "      <td>0.000000</td>\n",
       "      <td>0.000000</td>\n",
       "      <td>1373.000000</td>\n",
       "      <td>0.920000</td>\n",
       "      <td>0.000000</td>\n",
       "      <td>0.000000</td>\n",
       "      <td>1598.000000</td>\n",
       "    </tr>\n",
       "    <tr>\n",
       "      <th>75%</th>\n",
       "      <td>22.957500</td>\n",
       "      <td>0.000000</td>\n",
       "      <td>0.000000</td>\n",
       "      <td>7013.000000</td>\n",
       "      <td>6.400000</td>\n",
       "      <td>0.000000</td>\n",
       "      <td>0.000000</td>\n",
       "      <td>6368.000000</td>\n",
       "    </tr>\n",
       "    <tr>\n",
       "      <th>max</th>\n",
       "      <td>97.100000</td>\n",
       "      <td>3.300000</td>\n",
       "      <td>22162.000000</td>\n",
       "      <td>174284.000000</td>\n",
       "      <td>72.000000</td>\n",
       "      <td>4.560000</td>\n",
       "      <td>20699.000000</td>\n",
       "      <td>125734.000000</td>\n",
       "    </tr>\n",
       "  </tbody>\n",
       "</table>\n",
       "</div>"
      ],
      "text/plain": [
       "         Last Sale          Net           Vol       Open Int  Last Sale.1  \\\n",
       "count  6334.000000  6334.000000   6334.000000    6334.000000  6334.000000   \n",
       "mean     15.081923    -0.070954     44.317019    8648.153300     6.729411   \n",
       "std      20.870691     0.247951    445.184473   20091.901379    12.762977   \n",
       "min       0.000000    -5.310000      0.000000       0.000000     0.000000   \n",
       "25%       0.150000     0.000000      0.000000     273.000000     0.040000   \n",
       "50%       4.825000     0.000000      0.000000    1373.000000     0.920000   \n",
       "75%      22.957500     0.000000      0.000000    7013.000000     6.400000   \n",
       "max      97.100000     3.300000  22162.000000  174284.000000    72.000000   \n",
       "\n",
       "             Net.1         Vol.1     Open Int.1  \n",
       "count  6334.000000   6334.000000    6334.000000  \n",
       "mean      0.022805     36.709820    6380.140354  \n",
       "std       0.176814    400.442175   12380.346472  \n",
       "min      -1.950000      0.000000       0.000000  \n",
       "25%       0.000000      0.000000     269.000000  \n",
       "50%       0.000000      0.000000    1598.000000  \n",
       "75%       0.000000      0.000000    6368.000000  \n",
       "max       4.560000  20699.000000  125734.000000  "
      ]
     },
     "execution_count": 8,
     "metadata": {},
     "output_type": "execute_result"
    }
   ],
   "source": [
    "quotedata.describe()"
   ]
  },
  {
   "cell_type": "markdown",
   "metadata": {},
   "source": [
    "Dimensions can be accessed in two possible ways:"
   ]
  },
  {
   "cell_type": "code",
   "execution_count": 9,
   "metadata": {
    "collapsed": false
   },
   "outputs": [
    {
     "data": {
      "text/plain": [
       "0           15 Jun 65.00 (AAPL1519F65)\n",
       "1         15 Jun 65.00 (AAPL1519F65-4)\n",
       "2         15 Jun 65.00 (AAPL1519F65-8)\n",
       "5         15 Jun 65.00 (AAPL1519F65-E)\n",
       "6         15 Jun 65.00 (AAPL1519F65-I)\n",
       "7         15 Jun 65.00 (AAPL1519F65-J)\n",
       "8         15 Jun 65.00 (AAPL1519F65-O)\n",
       "9         15 Jun 65.00 (AAPL1519F65-P)\n",
       "11        15 Jun 65.00 (AAPL1519F65-X)\n",
       "12        15 Jun 65.00 (AAPL1519F65-Y)\n",
       "13          15 Jun 70.00 (AAPL1519F70)\n",
       "14        15 Jun 70.00 (AAPL1519F70-4)\n",
       "15        15 Jun 70.00 (AAPL1519F70-8)\n",
       "17        15 Jun 70.00 (AAPL1519F70-B)\n",
       "18        15 Jun 70.00 (AAPL1519F70-E)\n",
       "19        15 Jun 70.00 (AAPL1519F70-I)\n",
       "20        15 Jun 70.00 (AAPL1519F70-J)\n",
       "21        15 Jun 70.00 (AAPL1519F70-O)\n",
       "22        15 Jun 70.00 (AAPL1519F70-P)\n",
       "24        15 Jun 70.00 (AAPL1519F70-X)\n",
       "25        15 Jun 70.00 (AAPL1519F70-Y)\n",
       "26          15 Jun 75.00 (AAPL1519F75)\n",
       "27        15 Jun 75.00 (AAPL1519F75-4)\n",
       "28        15 Jun 75.00 (AAPL1519F75-8)\n",
       "29        15 Jun 75.00 (AAPL1519F75-A)\n",
       "31        15 Jun 75.00 (AAPL1519F75-E)\n",
       "32        15 Jun 75.00 (AAPL1519F75-I)\n",
       "34        15 Jun 75.00 (AAPL1519F75-O)\n",
       "35        15 Jun 75.00 (AAPL1519F75-P)\n",
       "38        15 Jun 75.00 (AAPL1519F75-Y)\n",
       "                     ...              \n",
       "7034    17 Jan 185.00 (AAPL1720A185-P)\n",
       "7035    17 Jan 185.00 (AAPL1720A185-S)\n",
       "7036    17 Jan 185.00 (AAPL1720A185-X)\n",
       "7037    17 Jan 185.00 (AAPL1720A185-Y)\n",
       "7038      17 Jan 190.00 (AAPL1720A190)\n",
       "7039    17 Jan 190.00 (AAPL1720A190-4)\n",
       "7040    17 Jan 190.00 (AAPL1720A190-8)\n",
       "7041    17 Jan 190.00 (AAPL1720A190-A)\n",
       "7042    17 Jan 190.00 (AAPL1720A190-B)\n",
       "7043    17 Jan 190.00 (AAPL1720A190-E)\n",
       "7044    17 Jan 190.00 (AAPL1720A190-I)\n",
       "7045    17 Jan 190.00 (AAPL1720A190-J)\n",
       "7046    17 Jan 190.00 (AAPL1720A190-O)\n",
       "7047    17 Jan 190.00 (AAPL1720A190-P)\n",
       "7048    17 Jan 190.00 (AAPL1720A190-S)\n",
       "7049    17 Jan 190.00 (AAPL1720A190-X)\n",
       "7050    17 Jan 190.00 (AAPL1720A190-Y)\n",
       "7051      17 Jan 195.00 (AAPL1720A195)\n",
       "7052    17 Jan 195.00 (AAPL1720A195-4)\n",
       "7053    17 Jan 195.00 (AAPL1720A195-8)\n",
       "7054    17 Jan 195.00 (AAPL1720A195-A)\n",
       "7055    17 Jan 195.00 (AAPL1720A195-B)\n",
       "7056    17 Jan 195.00 (AAPL1720A195-E)\n",
       "7057    17 Jan 195.00 (AAPL1720A195-I)\n",
       "7058    17 Jan 195.00 (AAPL1720A195-J)\n",
       "7059    17 Jan 195.00 (AAPL1720A195-O)\n",
       "7060    17 Jan 195.00 (AAPL1720A195-P)\n",
       "7061    17 Jan 195.00 (AAPL1720A195-S)\n",
       "7062    17 Jan 195.00 (AAPL1720A195-X)\n",
       "7063    17 Jan 195.00 (AAPL1720A195-Y)\n",
       "Name: Calls, dtype: object"
      ]
     },
     "execution_count": 9,
     "metadata": {},
     "output_type": "execute_result"
    }
   ],
   "source": [
    "quotedata.Calls  # or quotedata['Calls']"
   ]
  },
  {
   "cell_type": "markdown",
   "metadata": {},
   "source": [
    "Let us read the metadata now (we could have started with this)."
   ]
  },
  {
   "cell_type": "code",
   "execution_count": 10,
   "metadata": {
    "collapsed": true
   },
   "outputs": [],
   "source": [
    "qd = open('QuoteData.dat', 'r')"
   ]
  },
  {
   "cell_type": "code",
   "execution_count": 11,
   "metadata": {
    "collapsed": true
   },
   "outputs": [],
   "source": [
    "qd_head = []\n",
    "qd_head.append(qd.readline())\n",
    "qd_head.append(qd.readline())\n",
    "qd.close()"
   ]
  },
  {
   "cell_type": "code",
   "execution_count": 12,
   "metadata": {
    "collapsed": true
   },
   "outputs": [],
   "source": [
    "first_line = qd_head[0].split(',')"
   ]
  },
  {
   "cell_type": "code",
   "execution_count": 13,
   "metadata": {
    "collapsed": true
   },
   "outputs": [],
   "source": [
    "second_line = qd_head[1].split()"
   ]
  },
  {
   "cell_type": "code",
   "execution_count": 14,
   "metadata": {
    "collapsed": true
   },
   "outputs": [],
   "source": [
    "underlyingprice = float(first_line[1])"
   ]
  },
  {
   "cell_type": "code",
   "execution_count": 15,
   "metadata": {
    "collapsed": false
   },
   "outputs": [],
   "source": [
    "# Set to hold expiration dates\n",
    "cumulative_month = {'Jan': 31, 'Feb': 57, 'Mar': 90,\n",
    "                    'Apr': 120, 'May': 151, 'Jun': 181,\n",
    "                    'Jul': 212, 'Aug': 243, 'Sep': 273,\n",
    "                    'Oct': 304, 'Nov': 334, 'Dec': 365}\n",
    "\n",
    "month, day = second_line[:2]\n",
    "today = cumulative_month[month] + int(day) - 30\n",
    "current_year = int(second_line[2])"
   ]
  },
  {
   "cell_type": "markdown",
   "metadata": {},
   "source": [
    "### Get the Options' Expiration Date"
   ]
  },
  {
   "cell_type": "code",
   "execution_count": 16,
   "metadata": {
    "collapsed": true
   },
   "outputs": [],
   "source": [
    "def get_expiration(x):\n",
    "    monthday = x.split()\n",
    "    adate = monthday[0] + ' ' + monthday[1]\n",
    "    return (int(monthday[0]) - (current_year % 2000)) * 365 + cumulative_month[monthday[1]]"
   ]
  },
  {
   "cell_type": "code",
   "execution_count": 17,
   "metadata": {
    "collapsed": true
   },
   "outputs": [],
   "source": [
    "expiration = quotedata['Calls'].apply(get_expiration)\n",
    "expiration.name = 'Expiration'"
   ]
  },
  {
   "cell_type": "markdown",
   "metadata": {},
   "source": [
    "### Get the Strike Prices"
   ]
  },
  {
   "cell_type": "code",
   "execution_count": 18,
   "metadata": {
    "collapsed": true
   },
   "outputs": [],
   "source": [
    "def get_strike(x):\n",
    "    monthday = x.split()\n",
    "    return float(monthday[2])"
   ]
  },
  {
   "cell_type": "code",
   "execution_count": 19,
   "metadata": {
    "collapsed": true
   },
   "outputs": [],
   "source": [
    "strike = quotedata['Calls'].apply(get_strike)\n",
    "strike.name = 'Strike'"
   ]
  },
  {
   "cell_type": "code",
   "execution_count": 20,
   "metadata": {
    "collapsed": true
   },
   "outputs": [],
   "source": [
    "quotedata = quotedata.join(expiration).join(strike)"
   ]
  },
  {
   "cell_type": "markdown",
   "metadata": {},
   "source": [
    "Take a look at a piece of data."
   ]
  },
  {
   "cell_type": "code",
   "execution_count": 21,
   "metadata": {
    "collapsed": false
   },
   "outputs": [
    {
     "data": {
      "text/plain": [
       "Calls          15 Jun 121.00 (AAPL1526F121-Y)\n",
       "Last Sale                               10.82\n",
       "Net                                         0\n",
       "Bid                                      6.30\n",
       "Ask                                      6.40\n",
       "Vol                                         0\n",
       "Open Int                                  434\n",
       "Puts           15 Jun 121.00 (AAPL1526R121-Y)\n",
       "Last Sale.1                              0.11\n",
       "Net.1                                       0\n",
       "Bid.1                                    0.10\n",
       "Ask.1                                    0.12\n",
       "Vol.1                                       0\n",
       "Open Int.1                               3200\n",
       "Expiration                                181\n",
       "Strike                                    121\n",
       "Name: 1000, dtype: object"
      ]
     },
     "execution_count": 21,
     "metadata": {},
     "output_type": "execute_result"
    }
   ],
   "source": [
    "quotedata.ix[1000, :]"
   ]
  },
  {
   "cell_type": "markdown",
   "metadata": {},
   "source": [
    "## Calculate Implied Volatility of Calls"
   ]
  },
  {
   "cell_type": "markdown",
   "metadata": {},
   "source": [
    "Let us denote the underlying price by S, the interest rate by r, and the dividend rate by q."
   ]
  },
  {
   "cell_type": "code",
   "execution_count": 22,
   "metadata": {
    "collapsed": false
   },
   "outputs": [],
   "source": [
    "S = 100.0\n",
    "r = 0.025\n",
    "q = 0.025"
   ]
  },
  {
   "cell_type": "markdown",
   "metadata": {},
   "source": [
    "We will consider a small sample of our data to keep computing times under a few minutes."
   ]
  },
  {
   "cell_type": "code",
   "execution_count": 81,
   "metadata": {
    "collapsed": true
   },
   "outputs": [],
   "source": [
    "n = 200  # Feel free to increase!"
   ]
  },
  {
   "cell_type": "code",
   "execution_count": 82,
   "metadata": {
    "collapsed": true
   },
   "outputs": [],
   "source": [
    "sampledata = quotedata.sample(n)"
   ]
  },
  {
   "cell_type": "code",
   "execution_count": 83,
   "metadata": {
    "collapsed": false
   },
   "outputs": [
    {
     "data": {
      "text/html": [
       "<div>\n",
       "<table border=\"1\" class=\"dataframe\">\n",
       "  <thead>\n",
       "    <tr style=\"text-align: right;\">\n",
       "      <th></th>\n",
       "      <th>Calls</th>\n",
       "      <th>Last Sale</th>\n",
       "      <th>Net</th>\n",
       "      <th>Bid</th>\n",
       "      <th>Ask</th>\n",
       "      <th>Vol</th>\n",
       "      <th>Open Int</th>\n",
       "      <th>Puts</th>\n",
       "      <th>Last Sale.1</th>\n",
       "      <th>Net.1</th>\n",
       "      <th>Bid.1</th>\n",
       "      <th>Ask.1</th>\n",
       "      <th>Vol.1</th>\n",
       "      <th>Open Int.1</th>\n",
       "      <th>Expiration</th>\n",
       "      <th>Strike</th>\n",
       "    </tr>\n",
       "  </thead>\n",
       "  <tbody>\n",
       "    <tr>\n",
       "      <th>2870</th>\n",
       "      <td>15 Jul 175.00 (AAPL1517G175-O)</td>\n",
       "      <td>0.01</td>\n",
       "      <td>0.00</td>\n",
       "      <td>0.0</td>\n",
       "      <td>0.01</td>\n",
       "      <td>0</td>\n",
       "      <td>5958</td>\n",
       "      <td>15 Jul 175.00 (AAPL1517S175-O)</td>\n",
       "      <td>49.25</td>\n",
       "      <td>0.00</td>\n",
       "      <td>46.90</td>\n",
       "      <td>48.30</td>\n",
       "      <td>0</td>\n",
       "      <td>1019</td>\n",
       "      <td>212</td>\n",
       "      <td>175.00</td>\n",
       "    </tr>\n",
       "    <tr>\n",
       "      <th>11</th>\n",
       "      <td>15 Jun 65.00 (AAPL1519F65-X)</td>\n",
       "      <td>62.05</td>\n",
       "      <td>0.00</td>\n",
       "      <td>62.05</td>\n",
       "      <td>62.25</td>\n",
       "      <td>0</td>\n",
       "      <td>206</td>\n",
       "      <td>15 Jun 65.00 (AAPL1519R65-X)</td>\n",
       "      <td>0.04</td>\n",
       "      <td>0.00</td>\n",
       "      <td>0.0</td>\n",
       "      <td>0.01</td>\n",
       "      <td>0</td>\n",
       "      <td>236</td>\n",
       "      <td>181</td>\n",
       "      <td>65.00</td>\n",
       "    </tr>\n",
       "    <tr>\n",
       "      <th>5918</th>\n",
       "      <td>16 Jan 125.71 (AAPL1615A125.71-4)</td>\n",
       "      <td>9.86</td>\n",
       "      <td>-0.14</td>\n",
       "      <td>9.60</td>\n",
       "      <td>9.70</td>\n",
       "      <td>1</td>\n",
       "      <td>26779</td>\n",
       "      <td>16 Jan 125.71 (AAPL1615M125.71-4)</td>\n",
       "      <td>8.25</td>\n",
       "      <td>0.00</td>\n",
       "      <td>8.50</td>\n",
       "      <td>8.60</td>\n",
       "      <td>0</td>\n",
       "      <td>15160</td>\n",
       "      <td>396</td>\n",
       "      <td>125.71</td>\n",
       "    </tr>\n",
       "    <tr>\n",
       "      <th>5569</th>\n",
       "      <td>16 Jan 102.14 (AAPL1615A102.14-X)</td>\n",
       "      <td>29.71</td>\n",
       "      <td>0.00</td>\n",
       "      <td>26.30</td>\n",
       "      <td>26.50</td>\n",
       "      <td>0</td>\n",
       "      <td>2630</td>\n",
       "      <td>16 Jan 102.14 (AAPL1615M102.14-X)</td>\n",
       "      <td>1.59</td>\n",
       "      <td>0.00</td>\n",
       "      <td>1.63</td>\n",
       "      <td>1.67</td>\n",
       "      <td>0</td>\n",
       "      <td>4717</td>\n",
       "      <td>396</td>\n",
       "      <td>102.14</td>\n",
       "    </tr>\n",
       "    <tr>\n",
       "      <th>873</th>\n",
       "      <td>15 Jun 112.00 (AAPL1526F112-8)</td>\n",
       "      <td>0.00</td>\n",
       "      <td>0.00</td>\n",
       "      <td>15.20</td>\n",
       "      <td>15.35</td>\n",
       "      <td>0</td>\n",
       "      <td>176</td>\n",
       "      <td>15 Jun 112.00 (AAPL1526R112-8)</td>\n",
       "      <td>0.05</td>\n",
       "      <td>-0.01</td>\n",
       "      <td>0.04</td>\n",
       "      <td>0.06</td>\n",
       "      <td>5</td>\n",
       "      <td>1225</td>\n",
       "      <td>181</td>\n",
       "      <td>112.00</td>\n",
       "    </tr>\n",
       "  </tbody>\n",
       "</table>\n",
       "</div>"
      ],
      "text/plain": [
       "                                  Calls  Last Sale   Net    Bid    Ask  Vol  \\\n",
       "2870     15 Jul 175.00 (AAPL1517G175-O)       0.01  0.00    0.0   0.01    0   \n",
       "11         15 Jun 65.00 (AAPL1519F65-X)      62.05  0.00  62.05  62.25    0   \n",
       "5918  16 Jan 125.71 (AAPL1615A125.71-4)       9.86 -0.14   9.60   9.70    1   \n",
       "5569  16 Jan 102.14 (AAPL1615A102.14-X)      29.71  0.00  26.30  26.50    0   \n",
       "873      15 Jun 112.00 (AAPL1526F112-8)       0.00  0.00  15.20  15.35    0   \n",
       "\n",
       "      Open Int                               Puts  Last Sale.1  Net.1  Bid.1  \\\n",
       "2870      5958     15 Jul 175.00 (AAPL1517S175-O)        49.25   0.00  46.90   \n",
       "11         206       15 Jun 65.00 (AAPL1519R65-X)         0.04   0.00    0.0   \n",
       "5918     26779  16 Jan 125.71 (AAPL1615M125.71-4)         8.25   0.00   8.50   \n",
       "5569      2630  16 Jan 102.14 (AAPL1615M102.14-X)         1.59   0.00   1.63   \n",
       "873        176     15 Jun 112.00 (AAPL1526R112-8)         0.05  -0.01   0.04   \n",
       "\n",
       "      Ask.1  Vol.1  Open Int.1  Expiration  Strike  \n",
       "2870  48.30      0        1019         212  175.00  \n",
       "11     0.01      0         236         181   65.00  \n",
       "5918   8.60      0       15160         396  125.71  \n",
       "5569   1.67      0        4717         396  102.14  \n",
       "873    0.06      5        1225         181  112.00  "
      ]
     },
     "execution_count": 83,
     "metadata": {},
     "output_type": "execute_result"
    }
   ],
   "source": [
    "sampledata.head()"
   ]
  },
  {
   "cell_type": "code",
   "execution_count": 58,
   "metadata": {
    "collapsed": false
   },
   "outputs": [
    {
     "data": {
      "text/html": [
       "<div>\n",
       "<table border=\"1\" class=\"dataframe\">\n",
       "  <thead>\n",
       "    <tr style=\"text-align: right;\">\n",
       "      <th></th>\n",
       "      <th>Calls</th>\n",
       "      <th>Last Sale</th>\n",
       "      <th>Net</th>\n",
       "      <th>Bid</th>\n",
       "      <th>Ask</th>\n",
       "      <th>Vol</th>\n",
       "      <th>Open Int</th>\n",
       "      <th>Puts</th>\n",
       "      <th>Last Sale.1</th>\n",
       "      <th>Net.1</th>\n",
       "      <th>Bid.1</th>\n",
       "      <th>Ask.1</th>\n",
       "      <th>Vol.1</th>\n",
       "      <th>Open Int.1</th>\n",
       "      <th>Expiration</th>\n",
       "      <th>Strike</th>\n",
       "    </tr>\n",
       "  </thead>\n",
       "  <tbody>\n",
       "    <tr>\n",
       "      <th>6146</th>\n",
       "      <td>16 Jan 165.00 (AAPL1615A165-Y)</td>\n",
       "      <td>0.70</td>\n",
       "      <td>0.0</td>\n",
       "      <td>0.62</td>\n",
       "      <td>0.66</td>\n",
       "      <td>0</td>\n",
       "      <td>7855</td>\n",
       "      <td>16 Jan 165.00 (AAPL1615M165-Y)</td>\n",
       "      <td>0.00</td>\n",
       "      <td>0</td>\n",
       "      <td>38.80</td>\n",
       "      <td>39.10</td>\n",
       "      <td>0</td>\n",
       "      <td>663</td>\n",
       "      <td>396</td>\n",
       "      <td>165</td>\n",
       "    </tr>\n",
       "    <tr>\n",
       "      <th>1255</th>\n",
       "      <td>15 Jun 141.00 (AAPL1526F141-J)</td>\n",
       "      <td>0.05</td>\n",
       "      <td>0.0</td>\n",
       "      <td>0.0</td>\n",
       "      <td>0.01</td>\n",
       "      <td>0</td>\n",
       "      <td>1149</td>\n",
       "      <td>15 Jun 141.00 (AAPL1526R141-J)</td>\n",
       "      <td>0.00</td>\n",
       "      <td>0</td>\n",
       "      <td>13.70</td>\n",
       "      <td>13.85</td>\n",
       "      <td>0</td>\n",
       "      <td>20</td>\n",
       "      <td>181</td>\n",
       "      <td>141</td>\n",
       "    </tr>\n",
       "    <tr>\n",
       "      <th>5877</th>\n",
       "      <td>16 Jan 120.00 (AAPL1615A120-P)</td>\n",
       "      <td>12.90</td>\n",
       "      <td>-0.4</td>\n",
       "      <td>12.80</td>\n",
       "      <td>12.95</td>\n",
       "      <td>9</td>\n",
       "      <td>93154</td>\n",
       "      <td>16 Jan 120.00 (AAPL1615M120-P)</td>\n",
       "      <td>5.85</td>\n",
       "      <td>0</td>\n",
       "      <td>6.00</td>\n",
       "      <td>6.10</td>\n",
       "      <td>0</td>\n",
       "      <td>50689</td>\n",
       "      <td>396</td>\n",
       "      <td>120</td>\n",
       "    </tr>\n",
       "    <tr>\n",
       "      <th>6165</th>\n",
       "      <td>16 Jan 170.00 (AAPL71615A170)</td>\n",
       "      <td>0.61</td>\n",
       "      <td>0.0</td>\n",
       "      <td></td>\n",
       "      <td></td>\n",
       "      <td>0</td>\n",
       "      <td>310</td>\n",
       "      <td>16 Jan 170.00 (AAPL71615M170)</td>\n",
       "      <td>0.00</td>\n",
       "      <td>0</td>\n",
       "      <td></td>\n",
       "      <td></td>\n",
       "      <td>0</td>\n",
       "      <td>0</td>\n",
       "      <td>396</td>\n",
       "      <td>170</td>\n",
       "    </tr>\n",
       "    <tr>\n",
       "      <th>2519</th>\n",
       "      <td>15 Jul 85.00 (AAPL1517G85-S)</td>\n",
       "      <td>42.95</td>\n",
       "      <td>0.0</td>\n",
       "      <td>41.85</td>\n",
       "      <td>43.75</td>\n",
       "      <td>0</td>\n",
       "      <td>924</td>\n",
       "      <td>15 Jul 85.00 (AAPL1517S85-S)</td>\n",
       "      <td>0.01</td>\n",
       "      <td>0</td>\n",
       "      <td>0.0</td>\n",
       "      <td>0.02</td>\n",
       "      <td>0</td>\n",
       "      <td>26381</td>\n",
       "      <td>212</td>\n",
       "      <td>85</td>\n",
       "    </tr>\n",
       "  </tbody>\n",
       "</table>\n",
       "</div>"
      ],
      "text/plain": [
       "                               Calls  Last Sale  Net    Bid    Ask  Vol  \\\n",
       "6146  16 Jan 165.00 (AAPL1615A165-Y)       0.70  0.0   0.62   0.66    0   \n",
       "1255  15 Jun 141.00 (AAPL1526F141-J)       0.05  0.0    0.0   0.01    0   \n",
       "5877  16 Jan 120.00 (AAPL1615A120-P)      12.90 -0.4  12.80  12.95    9   \n",
       "6165   16 Jan 170.00 (AAPL71615A170)       0.61  0.0                  0   \n",
       "2519    15 Jul 85.00 (AAPL1517G85-S)      42.95  0.0  41.85  43.75    0   \n",
       "\n",
       "      Open Int                            Puts  Last Sale.1  Net.1  Bid.1  \\\n",
       "6146      7855  16 Jan 165.00 (AAPL1615M165-Y)         0.00      0  38.80   \n",
       "1255      1149  15 Jun 141.00 (AAPL1526R141-J)         0.00      0  13.70   \n",
       "5877     93154  16 Jan 120.00 (AAPL1615M120-P)         5.85      0   6.00   \n",
       "6165       310   16 Jan 170.00 (AAPL71615M170)         0.00      0          \n",
       "2519       924    15 Jul 85.00 (AAPL1517S85-S)         0.01      0    0.0   \n",
       "\n",
       "      Ask.1  Vol.1  Open Int.1  Expiration  Strike  \n",
       "6146  39.10      0         663         396     165  \n",
       "1255  13.85      0          20         181     141  \n",
       "5877   6.10      0       50689         396     120  \n",
       "6165             0           0         396     170  \n",
       "2519   0.02      0       26381         212      85  "
      ]
     },
     "execution_count": 58,
     "metadata": {},
     "output_type": "execute_result"
    }
   ],
   "source": [
    "sampledata.head()"
   ]
  },
  {
   "cell_type": "markdown",
   "metadata": {},
   "source": [
    "Let us generate option prices as given by the Black--Scholes formula, using test volatility curves. These functions were written for `numpy` objects, not `pandas` objects, hence the conversions on our data structures."
   ]
  },
  {
   "cell_type": "code",
   "execution_count": 84,
   "metadata": {
    "collapsed": false
   },
   "outputs": [],
   "source": [
    "option_prices = generate_data(sampledata.Strike.as_matrix(), S, sampledata.Expiration.as_matrix(), r, q)"
   ]
  },
  {
   "cell_type": "code",
   "execution_count": 26,
   "metadata": {
    "collapsed": false
   },
   "outputs": [
    {
     "data": {
      "text/plain": [
       "['put', 'call']"
      ]
     },
     "execution_count": 26,
     "metadata": {},
     "output_type": "execute_result"
    }
   ],
   "source": [
    "option_prices.keys()"
   ]
  },
  {
   "cell_type": "markdown",
   "metadata": {},
   "source": [
    "We will compare computing times when using solvers from `scipy` vs NAG bindings for Python."
   ]
  },
  {
   "cell_type": "code",
   "execution_count": 27,
   "metadata": {
    "collapsed": true
   },
   "outputs": [],
   "source": [
    "import time"
   ]
  },
  {
   "cell_type": "markdown",
   "metadata": {},
   "source": [
    "### SciPy method"
   ]
  },
  {
   "cell_type": "code",
   "execution_count": 105,
   "metadata": {
    "collapsed": false
   },
   "outputs": [],
   "source": [
    "from implied_volatility_utils import scipy_calcvol as calcvol"
   ]
  },
  {
   "cell_type": "code",
   "execution_count": 106,
   "metadata": {
    "collapsed": true
   },
   "outputs": [],
   "source": [
    "start_time = time.clock()\n",
    "imp_vol = calcvol(sampledata.Strike.as_matrix(), S, sampledata.Expiration.tolist(), r, q, option_prices)\n",
    "elapsed_time = time.clock() - start_time"
   ]
  },
  {
   "cell_type": "code",
   "execution_count": 107,
   "metadata": {
    "collapsed": false
   },
   "outputs": [
    {
     "data": {
      "text/plain": [
       "758.209914"
      ]
     },
     "execution_count": 107,
     "metadata": {},
     "output_type": "execute_result"
    }
   ],
   "source": [
    "elapsed_time"
   ]
  },
  {
   "cell_type": "markdown",
   "metadata": {},
   "source": [
    "### Nag4Py method"
   ]
  },
  {
   "cell_type": "code",
   "execution_count": 31,
   "metadata": {
    "collapsed": false
   },
   "outputs": [],
   "source": [
    "from implied_volatility_utils import (nag4py_package_check,\n",
    "                                      nag4py_calcvol as calcvol)\n",
    "nag4py_package_check()"
   ]
  },
  {
   "cell_type": "code",
   "execution_count": 85,
   "metadata": {
    "collapsed": false
   },
   "outputs": [],
   "source": [
    "start_time = time.clock()\n",
    "imp_vol = calcvol(sampledata.Strike.as_matrix(), S, sampledata.Expiration.tolist(), r, q, option_prices)\n",
    "elapsed_time = time.clock() - start_time"
   ]
  },
  {
   "cell_type": "code",
   "execution_count": 86,
   "metadata": {
    "collapsed": false
   },
   "outputs": [
    {
     "data": {
      "text/plain": [
       "46.92882899999998"
      ]
     },
     "execution_count": 86,
     "metadata": {},
     "output_type": "execute_result"
    }
   ],
   "source": [
    "elapsed_time"
   ]
  },
  {
   "cell_type": "markdown",
   "metadata": {},
   "source": [
    "The computing time is faster by an order of magnitude."
   ]
  },
  {
   "cell_type": "markdown",
   "metadata": {},
   "source": [
    "## Visualize!"
   ]
  },
  {
   "cell_type": "code",
   "execution_count": 34,
   "metadata": {
    "collapsed": false
   },
   "outputs": [],
   "source": [
    "import plotly.plotly as py\n",
    "import plotly.graph_objs as pgo"
   ]
  },
  {
   "cell_type": "code",
   "execution_count": 35,
   "metadata": {
    "collapsed": false
   },
   "outputs": [
    {
     "data": {
      "text/plain": [
       "['put', 'call']"
      ]
     },
     "execution_count": 35,
     "metadata": {},
     "output_type": "execute_result"
    }
   ],
   "source": [
    "imp_vol.keys()"
   ]
  },
  {
   "cell_type": "code",
   "execution_count": 87,
   "metadata": {
    "collapsed": false
   },
   "outputs": [],
   "source": [
    "data = pgo.Data([\n",
    "        pgo.Scatter(\n",
    "            x=sampledata.Strike,\n",
    "            y=imp_vol['call'],\n",
    "            name='call',\n",
    "            mode='markers',\n",
    "            marker=pgo.Marker(color='red')\n",
    "        ),\n",
    "        pgo.Scatter(\n",
    "            x=sampledata.Strike,\n",
    "            y=imp_vol['put'],\n",
    "            name='put',\n",
    "            mode='markers',\n",
    "            marker=pgo.Marker(color='blue')\n",
    "        )\n",
    "])"
   ]
  },
  {
   "cell_type": "code",
   "execution_count": 88,
   "metadata": {
    "collapsed": true
   },
   "outputs": [],
   "source": [
    "layout = pgo.Layout(\n",
    "    title='Implied Volatility Curve',\n",
    "    xaxis=pgo.XAxis(title='Strike Price'),\n",
    "    yaxis=pgo.YAxis(title='Implied Volatility'),\n",
    "    hovermode='closest'\n",
    ")"
   ]
  },
  {
   "cell_type": "code",
   "execution_count": 89,
   "metadata": {
    "collapsed": false
   },
   "outputs": [],
   "source": [
    "fig = pgo.Figure(data=data, layout=layout)"
   ]
  },
  {
   "cell_type": "code",
   "execution_count": 90,
   "metadata": {
    "collapsed": false
   },
   "outputs": [
    {
     "name": "stdout",
     "output_type": "stream",
     "text": [
      "The draw time for this plot will be slow for all clients.\n"
     ]
    },
    {
     "name": "stderr",
     "output_type": "stream",
     "text": [
      "/usr/local/lib/python2.7/dist-packages/plotly/plotly/plotly.py:1261: UserWarning:\n",
      "\n",
      "Estimated Draw Time Too Long\n",
      "\n"
     ]
    },
    {
     "data": {
      "text/html": [
       "<iframe id=\"igraph\" scrolling=\"no\" style=\"border:none;\"seamless=\"seamless\" src=\"https://plot.ly/~marianne2/2073.embed\" height=\"525\" width=\"100%\"></iframe>"
      ],
      "text/plain": [
       "<plotly.tools.PlotlyDisplay object>"
      ]
     },
     "execution_count": 90,
     "metadata": {},
     "output_type": "execute_result"
    }
   ],
   "source": [
    "py.iplot(fig, filename='implied-volatility-nag4py-2d')"
   ]
  },
  {
   "cell_type": "markdown",
   "metadata": {
    "collapsed": true
   },
   "source": [
    "Let us plot implied volatility vs both Strike and Expiration."
   ]
  },
  {
   "cell_type": "markdown",
   "metadata": {},
   "source": [
    "First, we need to massage the `imp_vol` dictionary into an array so we can do a surface plot."
   ]
  },
  {
   "cell_type": "code",
   "execution_count": 91,
   "metadata": {
    "collapsed": false
   },
   "outputs": [],
   "source": [
    "df = pd.DataFrame({'strike': sampledata.Strike.tolist() * n,\n",
    "                   'expiration': sampledata.Expiration.repeat(n),\n",
    "                   'call': imp_vol['call']})"
   ]
  },
  {
   "cell_type": "code",
   "execution_count": 92,
   "metadata": {
    "collapsed": false
   },
   "outputs": [
    {
     "data": {
      "text/html": [
       "<div>\n",
       "<table border=\"1\" class=\"dataframe\">\n",
       "  <thead>\n",
       "    <tr style=\"text-align: right;\">\n",
       "      <th></th>\n",
       "      <th>call</th>\n",
       "      <th>expiration</th>\n",
       "      <th>strike</th>\n",
       "    </tr>\n",
       "  </thead>\n",
       "  <tbody>\n",
       "    <tr>\n",
       "      <th>2870</th>\n",
       "      <td>0.412557</td>\n",
       "      <td>212</td>\n",
       "      <td>175.00</td>\n",
       "    </tr>\n",
       "    <tr>\n",
       "      <th>2870</th>\n",
       "      <td>0.324475</td>\n",
       "      <td>212</td>\n",
       "      <td>65.00</td>\n",
       "    </tr>\n",
       "    <tr>\n",
       "      <th>2870</th>\n",
       "      <td>0.313221</td>\n",
       "      <td>212</td>\n",
       "      <td>125.71</td>\n",
       "    </tr>\n",
       "    <tr>\n",
       "      <th>2870</th>\n",
       "      <td>0.300091</td>\n",
       "      <td>212</td>\n",
       "      <td>102.14</td>\n",
       "    </tr>\n",
       "    <tr>\n",
       "      <th>2870</th>\n",
       "      <td>0.302880</td>\n",
       "      <td>212</td>\n",
       "      <td>112.00</td>\n",
       "    </tr>\n",
       "  </tbody>\n",
       "</table>\n",
       "</div>"
      ],
      "text/plain": [
       "          call  expiration  strike\n",
       "2870  0.412557         212  175.00\n",
       "2870  0.324475         212   65.00\n",
       "2870  0.313221         212  125.71\n",
       "2870  0.300091         212  102.14\n",
       "2870  0.302880         212  112.00"
      ]
     },
     "execution_count": 92,
     "metadata": {},
     "output_type": "execute_result"
    }
   ],
   "source": [
    "df.head()"
   ]
  },
  {
   "cell_type": "code",
   "execution_count": 93,
   "metadata": {
    "collapsed": false
   },
   "outputs": [],
   "source": [
    "df = df.drop_duplicates(['expiration', 'strike'])"
   ]
  },
  {
   "cell_type": "code",
   "execution_count": 94,
   "metadata": {
    "collapsed": false
   },
   "outputs": [],
   "source": [
    "pivot_df = df.reset_index().pivot('expiration', 'strike', 'call')"
   ]
  },
  {
   "cell_type": "code",
   "execution_count": 95,
   "metadata": {
    "collapsed": false
   },
   "outputs": [
    {
     "data": {
      "text/html": [
       "<div>\n",
       "<table border=\"1\" class=\"dataframe\">\n",
       "  <thead>\n",
       "    <tr style=\"text-align: right;\">\n",
       "      <th>strike</th>\n",
       "      <th>34.29</th>\n",
       "      <th>37.14</th>\n",
       "      <th>40.0</th>\n",
       "      <th>44.29</th>\n",
       "      <th>51.43</th>\n",
       "      <th>54.29</th>\n",
       "      <th>57.14</th>\n",
       "      <th>58.57</th>\n",
       "      <th>60.0</th>\n",
       "      <th>65.0</th>\n",
       "      <th>...</th>\n",
       "      <th>148.0</th>\n",
       "      <th>150.0</th>\n",
       "      <th>155.0</th>\n",
       "      <th>160.0</th>\n",
       "      <th>165.0</th>\n",
       "      <th>170.0</th>\n",
       "      <th>175.0</th>\n",
       "      <th>180.0</th>\n",
       "      <th>185.0</th>\n",
       "      <th>190.0</th>\n",
       "    </tr>\n",
       "    <tr>\n",
       "      <th>expiration</th>\n",
       "      <th></th>\n",
       "      <th></th>\n",
       "      <th></th>\n",
       "      <th></th>\n",
       "      <th></th>\n",
       "      <th></th>\n",
       "      <th></th>\n",
       "      <th></th>\n",
       "      <th></th>\n",
       "      <th></th>\n",
       "      <th></th>\n",
       "      <th></th>\n",
       "      <th></th>\n",
       "      <th></th>\n",
       "      <th></th>\n",
       "      <th></th>\n",
       "      <th></th>\n",
       "      <th></th>\n",
       "      <th></th>\n",
       "      <th></th>\n",
       "      <th></th>\n",
       "    </tr>\n",
       "  </thead>\n",
       "  <tbody>\n",
       "    <tr>\n",
       "      <th>181</th>\n",
       "      <td>0.000000</td>\n",
       "      <td>0.000000</td>\n",
       "      <td>0.000000</td>\n",
       "      <td>0.000000</td>\n",
       "      <td>0.000000</td>\n",
       "      <td>0.000000</td>\n",
       "      <td>0.038440</td>\n",
       "      <td>0.042907</td>\n",
       "      <td>0.046567</td>\n",
       "      <td>0.056202</td>\n",
       "      <td>...</td>\n",
       "      <td>0.110959</td>\n",
       "      <td>0.111707</td>\n",
       "      <td>0.113512</td>\n",
       "      <td>0.115224</td>\n",
       "      <td>0.116841</td>\n",
       "      <td>0.118378</td>\n",
       "      <td>0.119820</td>\n",
       "      <td>0.121183</td>\n",
       "      <td>0.122474</td>\n",
       "      <td>0.123700</td>\n",
       "    </tr>\n",
       "    <tr>\n",
       "      <th>212</th>\n",
       "      <td>0.386388</td>\n",
       "      <td>0.378836</td>\n",
       "      <td>0.371948</td>\n",
       "      <td>0.362095</td>\n",
       "      <td>0.347272</td>\n",
       "      <td>0.341787</td>\n",
       "      <td>0.336734</td>\n",
       "      <td>0.334321</td>\n",
       "      <td>0.331989</td>\n",
       "      <td>0.324475</td>\n",
       "      <td>...</td>\n",
       "      <td>0.346080</td>\n",
       "      <td>0.350045</td>\n",
       "      <td>0.360508</td>\n",
       "      <td>0.372000</td>\n",
       "      <td>0.384520</td>\n",
       "      <td>0.397952</td>\n",
       "      <td>0.412557</td>\n",
       "      <td>0.427996</td>\n",
       "      <td>0.444557</td>\n",
       "      <td>0.462278</td>\n",
       "    </tr>\n",
       "    <tr>\n",
       "      <th>243</th>\n",
       "      <td>0.000000</td>\n",
       "      <td>0.000000</td>\n",
       "      <td>0.000000</td>\n",
       "      <td>0.000000</td>\n",
       "      <td>0.000000</td>\n",
       "      <td>0.000000</td>\n",
       "      <td>0.000000</td>\n",
       "      <td>0.000000</td>\n",
       "      <td>0.000000</td>\n",
       "      <td>0.000000</td>\n",
       "      <td>...</td>\n",
       "      <td>0.000000</td>\n",
       "      <td>0.000000</td>\n",
       "      <td>0.000000</td>\n",
       "      <td>0.000000</td>\n",
       "      <td>0.000000</td>\n",
       "      <td>0.000000</td>\n",
       "      <td>0.000000</td>\n",
       "      <td>0.000000</td>\n",
       "      <td>0.000000</td>\n",
       "      <td>0.000000</td>\n",
       "    </tr>\n",
       "    <tr>\n",
       "      <th>304</th>\n",
       "      <td>0.000000</td>\n",
       "      <td>0.000000</td>\n",
       "      <td>0.000000</td>\n",
       "      <td>0.000000</td>\n",
       "      <td>0.000000</td>\n",
       "      <td>0.000000</td>\n",
       "      <td>0.000000</td>\n",
       "      <td>0.000000</td>\n",
       "      <td>0.000000</td>\n",
       "      <td>0.000000</td>\n",
       "      <td>...</td>\n",
       "      <td>0.000000</td>\n",
       "      <td>0.000000</td>\n",
       "      <td>0.000000</td>\n",
       "      <td>0.000000</td>\n",
       "      <td>0.000000</td>\n",
       "      <td>0.000000</td>\n",
       "      <td>0.000000</td>\n",
       "      <td>0.000000</td>\n",
       "      <td>0.000000</td>\n",
       "      <td>0.000000</td>\n",
       "    </tr>\n",
       "    <tr>\n",
       "      <th>365</th>\n",
       "      <td>0.000000</td>\n",
       "      <td>0.000000</td>\n",
       "      <td>0.000000</td>\n",
       "      <td>0.000000</td>\n",
       "      <td>0.000000</td>\n",
       "      <td>0.000000</td>\n",
       "      <td>0.000000</td>\n",
       "      <td>0.000000</td>\n",
       "      <td>0.000000</td>\n",
       "      <td>0.000000</td>\n",
       "      <td>...</td>\n",
       "      <td>0.000000</td>\n",
       "      <td>0.000000</td>\n",
       "      <td>0.000000</td>\n",
       "      <td>0.000000</td>\n",
       "      <td>0.000000</td>\n",
       "      <td>0.000000</td>\n",
       "      <td>0.000000</td>\n",
       "      <td>0.000000</td>\n",
       "      <td>0.000000</td>\n",
       "      <td>0.000000</td>\n",
       "    </tr>\n",
       "    <tr>\n",
       "      <th>396</th>\n",
       "      <td>0.000000</td>\n",
       "      <td>0.000000</td>\n",
       "      <td>0.000000</td>\n",
       "      <td>0.000000</td>\n",
       "      <td>0.000000</td>\n",
       "      <td>0.000000</td>\n",
       "      <td>0.000000</td>\n",
       "      <td>0.000000</td>\n",
       "      <td>0.000000</td>\n",
       "      <td>0.000000</td>\n",
       "      <td>...</td>\n",
       "      <td>0.000000</td>\n",
       "      <td>0.000000</td>\n",
       "      <td>0.000000</td>\n",
       "      <td>0.000000</td>\n",
       "      <td>0.000000</td>\n",
       "      <td>0.000000</td>\n",
       "      <td>0.000000</td>\n",
       "      <td>0.000000</td>\n",
       "      <td>0.000000</td>\n",
       "      <td>0.000000</td>\n",
       "    </tr>\n",
       "    <tr>\n",
       "      <th>546</th>\n",
       "      <td>0.000000</td>\n",
       "      <td>0.000000</td>\n",
       "      <td>0.000000</td>\n",
       "      <td>0.000000</td>\n",
       "      <td>0.000000</td>\n",
       "      <td>0.000000</td>\n",
       "      <td>0.000000</td>\n",
       "      <td>0.000000</td>\n",
       "      <td>0.000000</td>\n",
       "      <td>0.000000</td>\n",
       "      <td>...</td>\n",
       "      <td>0.000000</td>\n",
       "      <td>0.000000</td>\n",
       "      <td>0.000000</td>\n",
       "      <td>0.000000</td>\n",
       "      <td>0.000000</td>\n",
       "      <td>0.000000</td>\n",
       "      <td>0.000000</td>\n",
       "      <td>0.000000</td>\n",
       "      <td>0.000000</td>\n",
       "      <td>0.000000</td>\n",
       "    </tr>\n",
       "    <tr>\n",
       "      <th>761</th>\n",
       "      <td>0.000000</td>\n",
       "      <td>0.000000</td>\n",
       "      <td>0.000000</td>\n",
       "      <td>0.000000</td>\n",
       "      <td>0.000000</td>\n",
       "      <td>0.000000</td>\n",
       "      <td>0.000000</td>\n",
       "      <td>0.000000</td>\n",
       "      <td>0.000000</td>\n",
       "      <td>0.000000</td>\n",
       "      <td>...</td>\n",
       "      <td>0.000000</td>\n",
       "      <td>0.000000</td>\n",
       "      <td>0.000000</td>\n",
       "      <td>0.000000</td>\n",
       "      <td>0.000000</td>\n",
       "      <td>0.000000</td>\n",
       "      <td>0.000000</td>\n",
       "      <td>0.000000</td>\n",
       "      <td>0.000000</td>\n",
       "      <td>0.000000</td>\n",
       "    </tr>\n",
       "  </tbody>\n",
       "</table>\n",
       "<p>8 rows × 83 columns</p>\n",
       "</div>"
      ],
      "text/plain": [
       "strike        34.29     37.14     40.00     44.29     51.43     54.29   \\\n",
       "expiration                                                               \n",
       "181         0.000000  0.000000  0.000000  0.000000  0.000000  0.000000   \n",
       "212         0.386388  0.378836  0.371948  0.362095  0.347272  0.341787   \n",
       "243         0.000000  0.000000  0.000000  0.000000  0.000000  0.000000   \n",
       "304         0.000000  0.000000  0.000000  0.000000  0.000000  0.000000   \n",
       "365         0.000000  0.000000  0.000000  0.000000  0.000000  0.000000   \n",
       "396         0.000000  0.000000  0.000000  0.000000  0.000000  0.000000   \n",
       "546         0.000000  0.000000  0.000000  0.000000  0.000000  0.000000   \n",
       "761         0.000000  0.000000  0.000000  0.000000  0.000000  0.000000   \n",
       "\n",
       "strike        57.14     58.57     60.00     65.00     ...       148.00  \\\n",
       "expiration                                            ...                \n",
       "181         0.038440  0.042907  0.046567  0.056202    ...     0.110959   \n",
       "212         0.336734  0.334321  0.331989  0.324475    ...     0.346080   \n",
       "243         0.000000  0.000000  0.000000  0.000000    ...     0.000000   \n",
       "304         0.000000  0.000000  0.000000  0.000000    ...     0.000000   \n",
       "365         0.000000  0.000000  0.000000  0.000000    ...     0.000000   \n",
       "396         0.000000  0.000000  0.000000  0.000000    ...     0.000000   \n",
       "546         0.000000  0.000000  0.000000  0.000000    ...     0.000000   \n",
       "761         0.000000  0.000000  0.000000  0.000000    ...     0.000000   \n",
       "\n",
       "strike        150.00    155.00    160.00    165.00    170.00    175.00  \\\n",
       "expiration                                                               \n",
       "181         0.111707  0.113512  0.115224  0.116841  0.118378  0.119820   \n",
       "212         0.350045  0.360508  0.372000  0.384520  0.397952  0.412557   \n",
       "243         0.000000  0.000000  0.000000  0.000000  0.000000  0.000000   \n",
       "304         0.000000  0.000000  0.000000  0.000000  0.000000  0.000000   \n",
       "365         0.000000  0.000000  0.000000  0.000000  0.000000  0.000000   \n",
       "396         0.000000  0.000000  0.000000  0.000000  0.000000  0.000000   \n",
       "546         0.000000  0.000000  0.000000  0.000000  0.000000  0.000000   \n",
       "761         0.000000  0.000000  0.000000  0.000000  0.000000  0.000000   \n",
       "\n",
       "strike        180.00    185.00    190.00  \n",
       "expiration                                \n",
       "181         0.121183  0.122474  0.123700  \n",
       "212         0.427996  0.444557  0.462278  \n",
       "243         0.000000  0.000000  0.000000  \n",
       "304         0.000000  0.000000  0.000000  \n",
       "365         0.000000  0.000000  0.000000  \n",
       "396         0.000000  0.000000  0.000000  \n",
       "546         0.000000  0.000000  0.000000  \n",
       "761         0.000000  0.000000  0.000000  \n",
       "\n",
       "[8 rows x 83 columns]"
      ]
     },
     "execution_count": 95,
     "metadata": {},
     "output_type": "execute_result"
    }
   ],
   "source": [
    "pivot_df"
   ]
  },
  {
   "cell_type": "code",
   "execution_count": 96,
   "metadata": {
    "collapsed": false
   },
   "outputs": [],
   "source": [
    "trace = pgo.Surface(\n",
    "    x=sampledata.Strike,\n",
    "    y=sampledata.Expiration,\n",
    "    z=pivot_df.as_matrix()\n",
    ")"
   ]
  },
  {
   "cell_type": "code",
   "execution_count": 97,
   "metadata": {
    "collapsed": true
   },
   "outputs": [],
   "source": [
    "data1 = pgo.Data([trace])"
   ]
  },
  {
   "cell_type": "code",
   "execution_count": 101,
   "metadata": {
    "collapsed": true
   },
   "outputs": [],
   "source": [
    "pivot_df.to_csv('call.csv')"
   ]
  },
  {
   "cell_type": "code",
   "execution_count": 98,
   "metadata": {
    "collapsed": false
   },
   "outputs": [],
   "source": [
    "layout1 = pgo.Layout(\n",
    "    title='Implied Volatility',\n",
    "    scene=pgo.Scene(\n",
    "        xaxis=pgo.XAxis(title='Strike Price'),\n",
    "        yaxis=pgo.YAxis(title='Time to Expiration')\n",
    "    )\n",
    ")"
   ]
  },
  {
   "cell_type": "code",
   "execution_count": 99,
   "metadata": {
    "collapsed": true
   },
   "outputs": [],
   "source": [
    "fig1 = pgo.Figure(data=data1, layout=layout1)"
   ]
  },
  {
   "cell_type": "code",
   "execution_count": 100,
   "metadata": {
    "collapsed": false
   },
   "outputs": [
    {
     "data": {
      "text/html": [
       "<iframe id=\"igraph\" scrolling=\"no\" style=\"border:none;\"seamless=\"seamless\" src=\"https://plot.ly/~marianne2/2075.embed\" height=\"525\" width=\"100%\"></iframe>"
      ],
      "text/plain": [
       "<plotly.tools.PlotlyDisplay object>"
      ]
     },
     "execution_count": 100,
     "metadata": {},
     "output_type": "execute_result"
    }
   ],
   "source": [
    "py.iplot(fig1, filename='implied-volatility-nag4py-3d')"
   ]
  }
 ],
 "metadata": {
  "kernelspec": {
   "display_name": "Python 2",
   "language": "python",
   "name": "python2"
  },
  "language_info": {
   "codemirror_mode": {
    "name": "ipython",
    "version": 2
   },
   "file_extension": ".py",
   "mimetype": "text/x-python",
   "name": "python",
   "nbconvert_exporter": "python",
   "pygments_lexer": "ipython2",
   "version": "2.7.6"
  }
 },
 "nbformat": 4,
 "nbformat_minor": 0
}
