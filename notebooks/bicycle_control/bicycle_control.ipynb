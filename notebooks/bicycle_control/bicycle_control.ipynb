{
 "cells": [
  {
   "cell_type": "markdown",
   "metadata": {},
   "source": [
    "# Introduction\n",
    "\n",
    "In this notebook we are going to develop a simple dual-loop feedback control system to balance and direct a bicycle. Bicycles have several interesting properties from a dynamics and control perspective and I will highlight those features throughout the notebook. In general, a bicycle requires control to both balance and direct the vehicle and the steering is the primary input with the most control authority.\n",
    "\n",
    "To balance a bicycle one must steer into the fall. This means that if the bicycle is falling (rolling) to the left, the steering must ultimately be directed towards the left to keep the bicycle upright. To direct the bicycle we use this fact and effectively execute \"controlled falls\" to change the direction of travel."
   ]
  },
  {
   "cell_type": "markdown",
   "metadata": {},
   "source": [
    "# Open Loop Bicycle Model\n",
    "\n",
    "To come up with a suitable controller we first need a model that describes the open loop dynamics of the system, i.e. a plant model. The model I will use is pretty much the simplest model of a bicycle that will allow one to study the steer into the fall mechanism. The assumptions that the model is founded on are as follows:\n",
    "\n",
    "- The bicycle and rider mass and inertia are all lumped into a single rigid body.\n",
    "- The front assembly (handlebars, fork, and wheel) are massless and thus no effort is required to change the direction of the steering angle.\n",
    "- There is no gyroscopic effects from the spinning wheels (they are treated more like skates or skis).\n",
    "\n",
    "The following diagram describes the essential components and variables in the model:\n",
    "\n",
    "![](model-diagram.svg)\n",
    "\n",
    "With these variable definitions:\n",
    "\n",
    "- $m$: Combined mass of the bicycle and the rider\n",
    "- $h$: Heght of the center of mass\n",
    "- $a$: Distance from rear wheel coddnter of mass\n",
    "- $b$: Wheelbase\n",
    "- $v_r$: Speed at rear wheel\n",
    "- $g$: Acceleration due to gravity\n",
    "- $I_1,I_2,I_3$: Principal moments of inertia of the combined bicycle and rider\n",
    "- $\\delta(t)$: Steering angle\n",
    "- $\\theta(t)$: Roll angle\n",
    "- $\\dot{\\psi}(t)$: Heading angular rate\n",
    "\n",
    "The non-linear equation of motion of this model can be written as so:\n",
    "\n",
    "$$\n",
    "(I_x + mh^2) \\ddot{\\theta} +\n",
    "(I_3 - I_2 - mh^2)\\left(\\frac{v_r \\tan\\delta}{b}\\right)^2 \\sin\\theta\\cos\\theta\n",
    "-mgh\\sin\\theta\n",
    "=-mh\\cos\\theta \\left(\\frac{av_r}{b\\cos^2\\delta}\\dot{\\delta}+\\frac{v_r^2}{b}\\tan{\\delta}\\right)\n",
    "$$\n",
    "\n",
    "The left hand side describes the natural roll dynamics and the right hand side gives the roll torque produced by steering.\n",
    "\n",
    "Additionally, the heading can described by this differential equation:\n",
    "\n",
    "$$ \\dot{\\psi} = \\frac{v_r}{b}\\tan{\\delta} $$"
   ]
  },
  {
   "cell_type": "markdown",
   "metadata": {},
   "source": [
    "# Linearize the Model\n",
    "\n",
    "The non-linear model presented above can be linearized about the upright equilibrium configuration ($\\theta=\\delta=0$). The simplest method to put these equations into a linear form is to assume that all of the angles are small. This means that $\\sin\\theta=\\theta$, $\\cos\\theta=1$, $\\cos\\delta=1$, $\\tan\\delta=\\delta$, and $\\tan^2(\\delta)=0$. With that assumption and defining $I=I_1$ and $v=v_r$the linear equation of motion can now be written as:\n",
    "\n",
    "$$ (I + mh^2) \\ddot{\\theta} - mgh\\theta = -\\frac{mh}{b}\\left(av\\dot{\\delta}+v^2\\delta\\right) $$\n",
    "\n",
    "With $\\theta$ as the output variable and $\\delta$ as the input variable a transfer function can be created by transforming the above equation into the frequency domain.\n",
    "\n",
    "$$ \\frac{\\theta(s)}{\\delta(s)} = \n",
    "-\\frac{mhv}{b} \\frac{as + v}{(I + mh^2)s^2 - mgh}$$\n",
    "\n",
    "The same can be done for the heading differential equation:\n",
    "\n",
    "$$\\dot{\\psi}=\\frac{v}{b}\\delta$$\n",
    "\n",
    "$$\\frac{\\psi(s)}{\\delta(s)}= \\frac{v}{bs}$$"
   ]
  },
  {
   "cell_type": "markdown",
   "metadata": {},
   "source": [
    "# Dependency Installation\n",
    "\n",
    "Before we begin designing the controller we will need to install some dependencies. The simplest way to get everything is to use conda and setup an environment with just the necessary packages:\n",
    "\n",
    "```\n",
    "$ conda create -n bicycle-control pip numpy scipy ipython-notebook\n",
    "$ source activate bicycle-control\n",
    "(bicycle-control)$ conda install -c https://conda.binstar.org/cwrowley slycot control\n",
    "(bicycle-control)$ pip install plotly # Plotly needs a conda package!\n",
    "```"
   ]
  },
  {
   "cell_type": "code",
   "execution_count": 1,
   "metadata": {
    "collapsed": true
   },
   "outputs": [],
   "source": [
    "import numpy as np\n",
    "import control as cn\n",
    "import plotly.plotly as pl\n",
    "import plotly.graph_objs as gr"
   ]
  },
  {
   "cell_type": "markdown",
   "metadata": {},
   "source": [
    "# Controller Design\n",
    "\n",
    "At this point we can us the linear model as a foundation for a controller design. First, some reasonble numerical values for each of the model constants are specified."
   ]
  },
  {
   "cell_type": "code",
   "execution_count": 2,
   "metadata": {
    "collapsed": true
   },
   "outputs": [],
   "source": [
    "g = 9.81  # m/s^2\n",
    "m = 87.0  # kg\n",
    "I = 3.28  # kg m^2\n",
    "h = 1.0  # m\n",
    "a = 0.5  # m\n",
    "b = 1.0  # m\n",
    "v = 5.0  # m/s"
   ]
  },
  {
   "cell_type": "markdown",
   "metadata": {},
   "source": [
    "The Python Control package has a transfer function object that I will use to specify all of the transfer functions we will need in the control design. The first transfer function to specify is the plant, $\\frac{\\theta(s)}{\\delta(s)}$. This transfer function provides a second order linear relationship relating the roll angle of the bicycle, $\\theta$, to the steering angle, $\\delta$."
   ]
  },
  {
   "cell_type": "code",
   "execution_count": 3,
   "metadata": {
    "collapsed": false
   },
   "outputs": [
    {
     "data": {
      "text/plain": [
       "\n",
       " -217.5 s - 2175\n",
       "-----------------\n",
       "90.28 s^2 - 853.5"
      ]
     },
     "execution_count": 3,
     "metadata": {},
     "output_type": "execute_result"
    }
   ],
   "source": [
    "num = -m * h * v / b * np.array([a, v])\n",
    "den = np.array([(I + m * h**2), 0.0, -m * g * h])\n",
    "theta_delta = cn.TransferFunction(num, den)\n",
    "theta_delta"
   ]
  },
  {
   "cell_type": "markdown",
   "metadata": {},
   "source": [
    "The first thing we may ask is whether or not the system is stable? It is fairly obvious from the denominator of the transfer function (i.e. the characteristic equation), but we can use the `.pole()` method of a transfer function to compute the roots of the characteristic equation. If any of the poles have positive real parts, then we know the system is unstable."
   ]
  },
  {
   "cell_type": "code",
   "execution_count": 4,
   "metadata": {
    "collapsed": false
   },
   "outputs": [
    {
     "data": {
      "text/plain": [
       "array([-3.0746689,  3.0746689])"
      ]
     },
     "execution_count": 4,
     "metadata": {},
     "output_type": "execute_result"
    }
   ],
   "source": [
    "theta_delta.pole()"
   ]
  },
  {
   "cell_type": "markdown",
   "metadata": {},
   "source": [
    "Now we see clearly that we have a pair of real poles, where one is positive, indicating that our system is unstable. This is identical to the behavior of a simple inverted pendulum.\n",
    "\n",
    "The next thing that may be of interest is the step response of the system. We know that the system is unstable but the step response can possibly reveal other information. I will use the `forced_response` function so that we can control the magnitude of the step input."
   ]
  },
  {
   "cell_type": "code",
   "execution_count": 5,
   "metadata": {
    "collapsed": true
   },
   "outputs": [],
   "source": [
    "time = np.linspace(0.0, 5.0, num=1001)"
   ]
  },
  {
   "cell_type": "code",
   "execution_count": 6,
   "metadata": {
    "collapsed": true
   },
   "outputs": [],
   "source": [
    "delta = np.deg2rad(2.0) * np.ones_like(time)"
   ]
  },
  {
   "cell_type": "code",
   "execution_count": 7,
   "metadata": {
    "collapsed": false
   },
   "outputs": [],
   "source": [
    "time, theta, state = cn.forced_response(theta_delta, T=time, U=delta)"
   ]
  },
  {
   "cell_type": "markdown",
   "metadata": {},
   "source": [
    "Now I'll create a reusable function for plotting a SISO input/output time history."
   ]
  },
  {
   "cell_type": "code",
   "execution_count": 8,
   "metadata": {
    "collapsed": true
   },
   "outputs": [],
   "source": [
    "def plot_siso_response(time, input, output, title='Time Response',\n",
    "                       x_lab='Time [s]', x_lim=None,\n",
    "                       input_y_lab='Input', input_y_lim=None,\n",
    "                       output_y_lab='Output', output_y_lim=None):\n",
    "    \"\"\"Plots a time history of the input and output of a SISO system.\"\"\"\n",
    "    \n",
    "    input_trace = gr.Scatter(x=time, y=input)\n",
    "    output_trace = gr.Scatter(x=time, y=output, yaxis='y2')\n",
    "    \n",
    "    xaxis = gr.XAxis(title=x_lab, range=x_lim)\n",
    "    yaxis = gr.YAxis(title=input_y_lab, range=input_y_lim, domain=[0.0, 0.49])\n",
    "    yaxis2 = gr.YAxis(title=output_y_lab, range=output_y_lim, domain=[0.51, 1.0])\n",
    "   \n",
    "    layout = gr.Layout(title=title, xaxis=xaxis,\n",
    "                       yaxis=yaxis, yaxis2=yaxis2)\n",
    "    \n",
    "    data = gr.Data([input_trace, output_trace])\n",
    "    \n",
    "    fig = gr.Figure(data=data, layout=layout)\n",
    "    \n",
    "    return fig"
   ]
  },
  {
   "cell_type": "markdown",
   "metadata": {},
   "source": [
    "Now we can plot the first simulatio of the system's response to a positive step input of 2 degrees. This plot shows that if you apply a positive steer angle the roll angle expontentially grows in the negative direction. So forcing the steering to the right will make you fall to the left. This opposite what one finds in most vehicles. Typically steering to the right causes you to go to the right. This will influence our controller design."
   ]
  },
  {
   "cell_type": "code",
   "execution_count": 9,
   "metadata": {
    "collapsed": false
   },
   "outputs": [
    {
     "data": {
      "text/html": [
       "<iframe id=\"igraph\" scrolling=\"no\" style=\"border:none;\"seamless=\"seamless\" src=\"https://plot.ly/~JasonMoore/403.embed\" height=\"525\" width=\"100%\"></iframe>"
      ],
      "text/plain": [
       "<plotly.tools.PlotlyDisplay object>"
      ]
     },
     "execution_count": 9,
     "metadata": {},
     "output_type": "execute_result"
    }
   ],
   "source": [
    "pl.iplot(plot_siso_response(time, np.rad2deg(delta),np.rad2deg(theta), title='Step Response',\n",
    "                            output_y_lab='Roll Angle [deg]', input_y_lab='Steer Angle [deg]'))"
   ]
  },
  {
   "cell_type": "markdown",
   "metadata": {},
   "source": [
    "Now it may be interesting to see if a simple proportional controller can stablize this model and what kind of gain value is needed to do so. One way to do this is to compute the root locus of the closed loop system with a varying gain. A root locus is most informative if plotted so here we define a function that will plot the roots as a function of the gains on the imaginary plane."
   ]
  },
  {
   "cell_type": "code",
   "execution_count": 10,
   "metadata": {
    "collapsed": false
   },
   "outputs": [],
   "source": [
    "def plot_root_locus(gains, roots):\n",
    "    \n",
    "    real_vals = np.real(roots)\n",
    "    imag_vals = np.imag(roots)\n",
    "    \n",
    "    #omega_n = np.sqrt(real_vals**2 + imag_vals**2)\n",
    "    #damping = real_vals / omega_n\n",
    "    \n",
    "    xaxis = gr.XAxis(title='Re')\n",
    "    yaxis = gr.YAxis(title='Im')\n",
    "    layout = gr.Layout(title='Root Locus', xaxis=xaxis, yaxis=yaxis)\n",
    "    \n",
    "    # plots an x for the first roots\n",
    "    open_loop_poles = gr.Scatter(x=real_vals[0, :],\n",
    "                                 y=imag_vals[0, :],\n",
    "                                 marker=gr.Marker(symbol='x', color='blue'),\n",
    "                                 mode='markers')\n",
    "    \n",
    "    # plots an x for the first roots\n",
    "    last_poles = gr.Scatter(x=real_vals[-1, :],\n",
    "                            y=imag_vals[-1, :],\n",
    "                            marker=gr.Marker(symbol='o', color='blue'),\n",
    "                            mode='markers')\n",
    "    data = []\n",
    "    \n",
    "    # TODO : Would be cool to add the damping ratio and frequency of the root.\n",
    "    gain_text = ['k = {:1.2f}'.format(k) for k in gains]\n",
    "    \n",
    "    for r, i in zip(real_vals.T, imag_vals.T):\n",
    "        data.append(gr.Scatter(x=r, y=i, text=gain_text,\n",
    "                               marker=gr.Marker(color='black'), mode=\"markers\"))\n",
    "                \n",
    "    data.append(open_loop_poles)\n",
    "    data.append(last_poles)\n",
    "    \n",
    "    return gr.Figure(data=gr.Data(data), layout=layout)"
   ]
  },
  {
   "cell_type": "markdown",
   "metadata": {},
   "source": [
    "The root locus can be computed with Python Control's `root_locus` function. Let's see if various negative feedback gains will stablize the system."
   ]
  },
  {
   "cell_type": "code",
   "execution_count": 11,
   "metadata": {
    "collapsed": false
   },
   "outputs": [],
   "source": [
    "neg_feedback_roots, neg_feedback_gains = cn.root_locus(theta_delta,\n",
    "    kvect=np.linspace(0.0, 10.0, num=500))"
   ]
  },
  {
   "cell_type": "markdown",
   "metadata": {},
   "source": [
    "The root locus shows that for increasing negative feedback gains we simply cause the bicycle to fall over even faster. (Use the \"Show closest data on hover\" option in the Plotly graph and hover over the traces to see the value of the gain.) We already knew that the a right steer makes you fall to the left. So if we are falling to the left we have a positive error causing steering to the right! Which of course makes us fall over even faster. So what if we used positive feedback instead?"
   ]
  },
  {
   "cell_type": "code",
   "execution_count": 12,
   "metadata": {
    "collapsed": false
   },
   "outputs": [
    {
     "data": {
      "text/html": [
       "<iframe id=\"igraph\" scrolling=\"no\" style=\"border:none;\"seamless=\"seamless\" src=\"https://plot.ly/~JasonMoore/405.embed\" height=\"525\" width=\"100%\"></iframe>"
      ],
      "text/plain": [
       "<plotly.tools.PlotlyDisplay object>"
      ]
     },
     "execution_count": 12,
     "metadata": {},
     "output_type": "execute_result"
    }
   ],
   "source": [
    "pl.iplot(plot_root_locus(neg_feedback_gains, neg_feedback_roots))"
   ]
  },
  {
   "cell_type": "markdown",
   "metadata": {},
   "source": [
    "Now this is much better. It seems that if we apply positive feedback that the system can indeed be stablized by the controller. So if we command a roll angle we must steer in the same direction to obtain that roll angle. This proves that we must steer into the fall in order to balance a bicycle."
   ]
  },
  {
   "cell_type": "code",
   "execution_count": 13,
   "metadata": {
    "collapsed": false,
    "scrolled": true
   },
   "outputs": [
    {
     "data": {
      "text/html": [
       "<iframe id=\"igraph\" scrolling=\"no\" style=\"border:none;\"seamless=\"seamless\" src=\"https://plot.ly/~JasonMoore/407.embed\" height=\"525\" width=\"100%\"></iframe>"
      ],
      "text/plain": [
       "<plotly.tools.PlotlyDisplay object>"
      ]
     },
     "execution_count": 13,
     "metadata": {},
     "output_type": "execute_result"
    }
   ],
   "source": [
    "pos_feedback_roots, pos_feedback_gains = cn.root_locus(theta_delta,\n",
    "    kvect=np.linspace(0.0, -20.0, num=500))\n",
    "pl.iplot(plot_root_locus(pos_feedback_gains, pos_feedback_roots))"
   ]
  },
  {
   "cell_type": "code",
   "execution_count": 14,
   "metadata": {
    "collapsed": false
   },
   "outputs": [],
   "source": [
    "re = np.real(pos_feedback_roots)\n",
    "w_d = np.imag(pos_feedback_roots)\n",
    "f_d = w_d / 2.0 / np.pi\n",
    "w_n = np.sqrt(re**2 + w_d**2)\n",
    "f_n = w_n / 2.0 / np.pi\n",
    "zeta = np.abs(re) / w_n"
   ]
  },
  {
   "cell_type": "code",
   "execution_count": 15,
   "metadata": {
    "collapsed": false
   },
   "outputs": [
    {
     "data": {
      "text/plain": [
       "[<matplotlib.lines.Line2D at 0x7fbd90ec6a10>,\n",
       " <matplotlib.lines.Line2D at 0x7fbd90ec6c90>]"
      ]
     },
     "execution_count": 15,
     "metadata": {},
     "output_type": "execute_result"
    },
    {
     "data": {
      "image/png": "[encoded data removed]",
      "text/plain": [
       "<matplotlib.figure.Figure at 0x7fbd90fd3150>"
      ]
     },
     "metadata": {},
     "output_type": "display_data"
    }
   ],
   "source": [
    "import matplotlib.pyplot as plt\n",
    "%matplotlib inline\n",
    "plt.plot(pos_feedback_gains, zeta)"
   ]
  },
  {
   "cell_type": "code",
   "execution_count": 16,
   "metadata": {
    "collapsed": false
   },
   "outputs": [
    {
     "data": {
      "text/plain": [
       "[<matplotlib.lines.Line2D at 0x7fbd90e1c550>,\n",
       " <matplotlib.lines.Line2D at 0x7fbd90e1c7d0>]"
      ]
     },
     "execution_count": 16,
     "metadata": {},
     "output_type": "execute_result"
    },
    {
     "data": {
      "image/png": "[encoded data removed]",
      "text/plain": [
       "<matplotlib.figure.Figure at 0x7fbd9101ba50>"
      ]
     },
     "metadata": {},
     "output_type": "display_data"
    }
   ],
   "source": [
    "plt.plot(pos_feedback_gains, f_d)"
   ]
  },
  {
   "cell_type": "markdown",
   "metadata": {},
   "source": [
    "Now that we know we can stablize the system with positive feedback based on the roll angle error, we can choose a suitable controller that will allow us to command a roll angle. The ability to command a roll angle is the first step to commanding a direction, i.e. heading. To head in the right direction the bicycle must eventually be steered and rolled to the right. So if we can command a rightward roll we are one step away from commanding a rightward turn.\n",
    "\n",
    "Our system is a Type 0 system, thus a simple proportional feedback system will stablize the system but there will be some steady state error. One way to rememdy this is to introduce an additive integral control term to remove the steady state error. For this I'll create a function that generates a PID controller transfer function."
   ]
  },
  {
   "cell_type": "code",
   "execution_count": 17,
   "metadata": {
    "collapsed": true
   },
   "outputs": [],
   "source": [
    "def pid(kp, ki, kd):\n",
    "    \"\"\"Returns a PID controller given the three gains.\"\"\"\n",
    "    return (cn.TransferFunction(kp, [1.0]) +\n",
    "            cn.TransferFunction(ki, [1.0, 0.0]) +\n",
    "            cn.TransferFunction([kd, 0.0], [1.0]))"
   ]
  },
  {
   "cell_type": "code",
   "execution_count": 18,
   "metadata": {
    "collapsed": false
   },
   "outputs": [],
   "source": [
    "kp = -7.0\n",
    "ki = -1.0\n",
    "kd = -0.0"
   ]
  },
  {
   "cell_type": "code",
   "execution_count": 19,
   "metadata": {
    "collapsed": false
   },
   "outputs": [
    {
     "data": {
      "text/plain": [
       "\n",
       "-7 s - 1\n",
       "--------\n",
       "    s"
      ]
     },
     "execution_count": 19,
     "metadata": {},
     "output_type": "execute_result"
    }
   ],
   "source": [
    "roll_controller = pid(kp, ki, kd)\n",
    "roll_controller"
   ]
  },
  {
   "cell_type": "code",
   "execution_count": 20,
   "metadata": {
    "collapsed": true
   },
   "outputs": [],
   "source": [
    "def feedback(plant, controller):\n",
    "    feedforward = controller * plant\n",
    "    return (feedforward / (1 + feedforward)).minreal()"
   ]
  },
  {
   "cell_type": "code",
   "execution_count": 21,
   "metadata": {
    "collapsed": false
   },
   "outputs": [
    {
     "data": {
      "text/plain": [
       "\n",
       "   16.86 s^2 + 171.1 s + 24.09\n",
       "---------------------------------\n",
       "s^3 + 16.86 s^2 + 161.6 s + 24.09"
      ]
     },
     "execution_count": 21,
     "metadata": {},
     "output_type": "execute_result"
    }
   ],
   "source": [
    "theta_thetac = feedback(theta_delta, roll_controller)\n",
    "theta_thetac"
   ]
  },
  {
   "cell_type": "code",
   "execution_count": 22,
   "metadata": {
    "collapsed": false
   },
   "outputs": [
    {
     "data": {
      "text/plain": [
       "array([-10.        ,  -0.14285714])"
      ]
     },
     "execution_count": 22,
     "metadata": {},
     "output_type": "execute_result"
    }
   ],
   "source": [
    "theta_thetac.zero()"
   ]
  },
  {
   "cell_type": "code",
   "execution_count": 23,
   "metadata": {
    "collapsed": false
   },
   "outputs": [
    {
     "data": {
      "text/plain": [
       "array([-8.35637161+9.44655366j, -8.35637161-9.44655366j, -0.15145704+0.j        ])"
      ]
     },
     "execution_count": 23,
     "metadata": {},
     "output_type": "execute_result"
    }
   ],
   "source": [
    "theta_thetac.pole()"
   ]
  },
  {
   "cell_type": "code",
   "execution_count": 24,
   "metadata": {
    "collapsed": false
   },
   "outputs": [
    {
     "data": {
      "text/plain": [
       "0.17453292519943295"
      ]
     },
     "execution_count": 24,
     "metadata": {},
     "output_type": "execute_result"
    }
   ],
   "source": [
    "np.deg2rad(10.0)"
   ]
  },
  {
   "cell_type": "code",
   "execution_count": 25,
   "metadata": {
    "collapsed": false
   },
   "outputs": [],
   "source": [
    "thetac = np.deg2rad(3.0) * np.ones_like(time)\n",
    "time, theta, state = cn.forced_response(theta_thetac, T=time, U=thetac)"
   ]
  },
  {
   "cell_type": "code",
   "execution_count": 26,
   "metadata": {
    "collapsed": false
   },
   "outputs": [
    {
     "data": {
      "text/html": [
       "<iframe id=\"igraph\" scrolling=\"no\" style=\"border:none;\"seamless=\"seamless\" src=\"https://plot.ly/~JasonMoore/409.embed\" height=\"525\" width=\"100%\"></iframe>"
      ],
      "text/plain": [
       "<plotly.tools.PlotlyDisplay object>"
      ]
     },
     "execution_count": 26,
     "metadata": {},
     "output_type": "execute_result"
    }
   ],
   "source": [
    "pl.iplot(plot_siso_response(time, np.rad2deg(thetac), np.rad2deg(theta),\n",
    "                            input_y_lab='Commanded Roll Angle [deg]',\n",
    "                            output_y_lab='Roll Angle [deg]'))"
   ]
  },
  {
   "cell_type": "code",
   "execution_count": 27,
   "metadata": {
    "collapsed": false
   },
   "outputs": [],
   "source": [
    "thetae = thetac - theta"
   ]
  },
  {
   "cell_type": "code",
   "execution_count": 28,
   "metadata": {
    "collapsed": false
   },
   "outputs": [],
   "source": [
    "time, steer, state = cn.forced_response(roll_controller, T=time, U=thetae)"
   ]
  },
  {
   "cell_type": "code",
   "execution_count": 29,
   "metadata": {
    "collapsed": false
   },
   "outputs": [
    {
     "data": {
      "text/html": [
       "<iframe id=\"igraph\" scrolling=\"no\" style=\"border:none;\"seamless=\"seamless\" src=\"https://plot.ly/~JasonMoore/411.embed\" height=\"525\" width=\"100%\"></iframe>"
      ],
      "text/plain": [
       "<plotly.tools.PlotlyDisplay object>"
      ]
     },
     "execution_count": 29,
     "metadata": {},
     "output_type": "execute_result"
    }
   ],
   "source": [
    "pl.iplot(plot_siso_response(time, np.rad2deg(thetae), np.rad2deg(steer),\n",
    "                           input_y_lab='Roll Error [deg]',\n",
    "                           output_y_lab='Steer Angle [deg]'))"
   ]
  },
  {
   "cell_type": "code",
   "execution_count": 30,
   "metadata": {
    "collapsed": false
   },
   "outputs": [
    {
     "data": {
      "text/plain": [
       "\n",
       "90.28 s^2 - 853.5\n",
       "-----------------\n",
       " -217.5 s - 2175"
      ]
     },
     "execution_count": 30,
     "metadata": {},
     "output_type": "execute_result"
    }
   ],
   "source": [
    "delta_theta = cn.TransferFunction(theta_delta.den, theta_delta.num)\n",
    "delta_theta"
   ]
  },
  {
   "cell_type": "code",
   "execution_count": 31,
   "metadata": {
    "collapsed": false
   },
   "outputs": [
    {
     "data": {
      "text/plain": [
       "\n",
       "5\n",
       "-\n",
       "s"
      ]
     },
     "execution_count": 31,
     "metadata": {},
     "output_type": "execute_result"
    }
   ],
   "source": [
    "psi_delta = cn.TransferFunction([v], [b, 0])\n",
    "psi_delta"
   ]
  },
  {
   "cell_type": "code",
   "execution_count": 32,
   "metadata": {
    "collapsed": false
   },
   "outputs": [
    {
     "data": {
      "text/plain": [
       "\n",
       "  -35 s^3 - 5 s^2 + 330.9 s + 47.27\n",
       "-------------------------------------\n",
       "s^4 + 16.86 s^3 + 161.6 s^2 + 24.09 s"
      ]
     },
     "execution_count": 32,
     "metadata": {},
     "output_type": "execute_result"
    }
   ],
   "source": [
    "psi_thetac = (theta_thetac * delta_theta * psi_delta).minreal()\n",
    "psi_thetac"
   ]
  },
  {
   "cell_type": "code",
   "execution_count": 33,
   "metadata": {
    "collapsed": false
   },
   "outputs": [
    {
     "data": {
      "text/plain": [
       "array([-8.35637161+9.44655366j, -8.35637161-9.44655366j,\n",
       "       -0.15145704+0.j        ,  0.00000000+0.j        ])"
      ]
     },
     "execution_count": 33,
     "metadata": {},
     "output_type": "execute_result"
    }
   ],
   "source": [
    "psi_thetac.pole()"
   ]
  },
  {
   "cell_type": "code",
   "execution_count": 34,
   "metadata": {
    "collapsed": false
   },
   "outputs": [
    {
     "data": {
      "text/plain": [
       "array([ 3.0746689 , -3.0746689 , -0.14285714])"
      ]
     },
     "execution_count": 34,
     "metadata": {},
     "output_type": "execute_result"
    }
   ],
   "source": [
    "psi_thetac.zero()"
   ]
  },
  {
   "cell_type": "code",
   "execution_count": 35,
   "metadata": {
    "collapsed": false
   },
   "outputs": [],
   "source": [
    "time, psi, state = cn.forced_response(psi_thetac, T=time, U=thetac)"
   ]
  },
  {
   "cell_type": "code",
   "execution_count": 36,
   "metadata": {
    "collapsed": false
   },
   "outputs": [
    {
     "data": {
      "text/html": [
       "<iframe id=\"igraph\" scrolling=\"no\" style=\"border:none;\"seamless=\"seamless\" src=\"https://plot.ly/~JasonMoore/413.embed\" height=\"525\" width=\"100%\"></iframe>"
      ],
      "text/plain": [
       "<plotly.tools.PlotlyDisplay object>"
      ]
     },
     "execution_count": 36,
     "metadata": {},
     "output_type": "execute_result"
    }
   ],
   "source": [
    "pl.iplot(plot_siso_response(time, np.rad2deg(thetac), np.rad2deg(psi)))"
   ]
  },
  {
   "cell_type": "code",
   "execution_count": 37,
   "metadata": {
    "collapsed": false
   },
   "outputs": [
    {
     "data": {
      "image/png": "[encoded data removed]",
      "text/plain": [
       "<matplotlib.figure.Figure at 0x7fbd90ec2d90>"
      ]
     },
     "metadata": {},
     "output_type": "display_data"
    }
   ],
   "source": [
    "roots, gains = cn.root_locus(psi_thetac, kvect=np.linspace(-1.0, 2.0, num=1001))"
   ]
  },
  {
   "cell_type": "code",
   "execution_count": 38,
   "metadata": {
    "collapsed": false
   },
   "outputs": [
    {
     "data": {
      "text/html": [
       "<iframe id=\"igraph\" scrolling=\"no\" style=\"border:none;\"seamless=\"seamless\" src=\"https://plot.ly/~JasonMoore/415.embed\" height=\"525\" width=\"100%\"></iframe>"
      ],
      "text/plain": [
       "<plotly.tools.PlotlyDisplay object>"
      ]
     },
     "execution_count": 38,
     "metadata": {},
     "output_type": "execute_result"
    }
   ],
   "source": [
    "pl.iplot(plot_root_locus(gains, roots))"
   ]
  },
  {
   "cell_type": "code",
   "execution_count": 46,
   "metadata": {
    "collapsed": false
   },
   "outputs": [
    {
     "data": {
      "text/plain": [
       "\n",
       "     -3.5 s^3 - 0.5 s^2 + 33.09 s + 4.727\n",
       "---------------------------------------------\n",
       "s^4 + 13.36 s^3 + 161.1 s^2 + 57.18 s + 4.727"
      ]
     },
     "execution_count": 46,
     "metadata": {},
     "output_type": "execute_result"
    }
   ],
   "source": [
    "psi_psic = feedback(psi_thetac, pid(0.1, 0.0, 0.0))\n",
    "psi_psic.minreal()"
   ]
  },
  {
   "cell_type": "code",
   "execution_count": 47,
   "metadata": {
    "collapsed": false
   },
   "outputs": [
    {
     "data": {
      "text/plain": [
       "array([-6.50049496+10.68123698j, -6.50049496-10.68123698j,\n",
       "       -0.23402070 +0.j        , -0.12918965 +0.j        ])"
      ]
     },
     "execution_count": 47,
     "metadata": {},
     "output_type": "execute_result"
    }
   ],
   "source": [
    "psi_psic.pole()"
   ]
  },
  {
   "cell_type": "code",
   "execution_count": 48,
   "metadata": {
    "collapsed": false
   },
   "outputs": [],
   "source": [
    "psic = np.deg2rad(10.0) * np.ones_like(time)\n",
    "time, heading, state = cn.forced_response(psi_psic, T=time, U=psic)"
   ]
  },
  {
   "cell_type": "code",
   "execution_count": 49,
   "metadata": {
    "collapsed": false
   },
   "outputs": [
    {
     "data": {
      "text/html": [
       "<iframe id=\"igraph\" scrolling=\"no\" style=\"border:none;\"seamless=\"seamless\" src=\"https://plot.ly/~JasonMoore/419.embed\" height=\"525\" width=\"100%\"></iframe>"
      ],
      "text/plain": [
       "<plotly.tools.PlotlyDisplay object>"
      ]
     },
     "execution_count": 49,
     "metadata": {},
     "output_type": "execute_result"
    }
   ],
   "source": [
    "pl.iplot(plot_siso_response(time, np.rad2deg(psic), np.rad2deg(heading)))"
   ]
  }
 ],
 "metadata": {
  "kernelspec": {
   "display_name": "Python 2",
   "language": "python",
   "name": "python2"
  },
  "language_info": {
   "codemirror_mode": {
    "name": "ipython",
    "version": 2
   },
   "file_extension": ".py",
   "mimetype": "text/x-python",
   "name": "python",
   "nbconvert_exporter": "python",
   "pygments_lexer": "ipython2",
   "version": "2.7.10"
  }
 },
 "nbformat": 4,
 "nbformat_minor": 0
}
