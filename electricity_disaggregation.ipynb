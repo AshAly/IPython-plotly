{
 "metadata": {
  "name": "Building_Data"
 },
 "nbformat": 3,
 "nbformat_minor": 0,
 "worksheets": [
  {
   "cells": [
    {
     "cell_type": "heading",
     "level": 5,
     "metadata": {},
     "source": "iAWE Demo"
    },
    {
     "cell_type": "heading",
     "level": 3,
     "metadata": {},
     "source": "How can we conserve electricity being CS people?"
    },
    {
     "cell_type": "markdown",
     "metadata": {},
     "source": "With renewable resources of electricity depleting at a fast pace, we do need to come up with measures to reduce consumption. One such way to do so is by informing the end users about their electricity usage.\n\nReports suggest that merely by giving the appliance specific feedback can save upto 12% electricity. So how can CS and ICT help. Let us explore below.\n\nInstrumenting each appliance with an appliance sensor is not **cost** effective. So, we can't give the feedback to end users in such a way. Instead, we use something known as Non Intrusive Load Monitoring or NILM in short. We measure the power **only** at the smart meter level and using machine learning try to disaggregate into different appliances.\n"
    },
    {
     "cell_type": "heading",
     "level": 3,
     "metadata": {},
     "source": "Where to attack?"
    },
    {
     "cell_type": "markdown",
     "metadata": {},
     "source": "Clearly, we would like feedback about appliances which consume the most power and which we can control. In the Indian context, from where we collected this data, we found that Air conditioners can account upto 50-60% of the total electricity consumption. Clearly, huge! So, in this small tutorial, we would try to disaggregate the Air conditioner consumption."
    },
    {
     "cell_type": "heading",
     "level": 4,
     "metadata": {},
     "source": "Customary imports"
    },
    {
     "cell_type": "code",
     "collapsed": false,
     "input": "import pandas as pd\nimport plotly\nfrom IPython.display import HTML\nimport numpy as np\nimport getpass\nimport requests\nfrom sklearn.cluster import KMeans\nimport datetime",
     "language": "python",
     "metadata": {},
     "outputs": [],
     "prompt_number": 132
    },
    {
     "cell_type": "heading",
     "level": 4,
     "metadata": {},
     "source": "Let us style up this doc! (Credit to [Cam Davidson Pilon](http://camdp.com/))"
    },
    {
     "cell_type": "code",
     "collapsed": false,
     "input": "styles = requests.get(\"https://raw.github.com/CamDavidsonPilon/Probabilistic-Programming-and-Bayesian-Methods-for-Hackers/master/styles/custom.css\")\nHTML(styles.text)",
     "language": "python",
     "metadata": {},
     "outputs": [
      {
       "html": "<style>\n    @font-face {\n        font-family: \"Computer Modern\";\n        src: url('http://mirrors.ctan.org/fonts/cm-unicode/fonts/otf/cmunss.otf');\n    }\n    div.cell{\n        width:800px;\n        margin-left:16% !important;\n        margin-right:auto;\n    }\n    h1 {\n        font-family: Helvetica, serif;\n    }\n    h4{\n        margin-top:12px;\n        margin-bottom: 3px;\n       }\n    div.text_cell_render{\n        font-family: Computer Modern, \"Helvetica Neue\", Arial, Helvetica, Geneva, sans-serif;\n        line-height: 145%;\n        font-size: 130%;\n        width:800px;\n        margin-left:auto;\n        margin-right:auto;\n    }\n    .CodeMirror{\n            font-family: \"Source Code Pro\", source-code-pro,Consolas, monospace;\n    }\n    .prompt{\n        display: None;\n    }\n    .text_cell_render h5 {\n        font-weight: 300;\n        font-size: 22pt;\n        color: #4057A1;\n        font-style: italic;\n        margin-bottom: .5em;\n        margin-top: 0.5em;\n        display: block;\n    }\n    \n    .warning{\n        color: rgb( 240, 20, 20 )\n        }  \n</style>\n<script>\n    MathJax.Hub.Config({\n                        TeX: {\n                           extensions: [\"AMSmath.js\"]\n                           },\n                tex2jax: {\n                    inlineMath: [ ['$','$'], [\"\\\\(\",\"\\\\)\"] ],\n                    displayMath: [ ['$$','$$'], [\"\\\\[\",\"\\\\]\"] ]\n                },\n                displayAlign: 'center', // Change this to 'center' to center equations.\n                \"HTML-CSS\": {\n                    styles: {'.MathJax_Display': {\"margin\": 4}}\n                }\n        });\n</script>",
       "metadata": {},
       "output_type": "pyout",
       "prompt_number": 133,
       "text": "<IPython.core.display.HTML at 0x5a38150>"
      }
     ],
     "prompt_number": 133
    },
    {
     "cell_type": "markdown",
     "metadata": {},
     "source": "Entering plot.ly username and key. **NB**: Key is to be entered into console."
    },
    {
     "cell_type": "code",
     "collapsed": false,
     "input": "UN=raw_input('Enter username')",
     "language": "python",
     "metadata": {},
     "outputs": [
      {
       "name": "stdout",
       "output_type": "stream",
       "stream": "stdout",
       "text": "Enter usernamenipun.batra.1\n"
      }
     ],
     "prompt_number": 134
    },
    {
     "cell_type": "code",
     "collapsed": false,
     "input": "KEY=getpass.getpass()",
     "language": "python",
     "metadata": {},
     "outputs": [],
     "prompt_number": 135
    },
    {
     "cell_type": "markdown",
     "metadata": {},
     "source": "Let us instantiate using this username and password."
    },
    {
     "cell_type": "code",
     "collapsed": false,
     "input": "p = plotly.plotly(UN, KEY)",
     "language": "python",
     "metadata": {},
     "outputs": [],
     "prompt_number": 136
    },
    {
     "cell_type": "heading",
     "level": 4,
     "metadata": {},
     "source": "Ok..Here's the algo- short and sweet."
    },
    {
     "cell_type": "markdown",
     "metadata": {},
     "source": "The basic approach we use here is to find the *delta* in power signal, i.e. $P_t - P_{t-1}$. Next, we know that Air conditioners typically use more than 1300 W. So, we cluster all the *deltas*, whose absolute value is greater than 1300 W. So, what we are effectively doing is to find the power change which happens when the AC compressor turns **ON** and **OFF**. Next, we iterate over the power time series. If we happen to see a step change of +1300 W (within some variance), and the AC compressor was calcuated **OFF**, we predict it to be **ON**. We do similarly for the case, when the we see a step change of -1300 W (within some variance)."
    },
    {
     "cell_type": "code",
     "collapsed": false,
     "input": "r=requests.get(\"http://192.168.1.40:9102/backend/api/data/uuid/dfc62222-1928-5a5a-974b-5bf1aeaa68e9?starttime=1380566940000&endtime=1381142940000\t\")\nread=np.array(r.json()[0]['Readings'])\ntime=read[:,0]\npower=read[:,1]\nt2=time/1000\n\nt=np.array([datetime.datetime.fromtimestamp(x) for x in t2])\ndf=pd.DataFrame({'Power':power},index=t)\ndf_res=df.resample('30s',how='mean')\n\ndf_res=df_res.dropna()\npo=df_res.values\n#Clustering step changes now\n\nstate=0\non_index=[]\noff_index=[]\npo=po.flatten()\nk=5\npower_step_variance=300\ndiff_array=np.array([po[i+k]-po[i] for i in range(po.size-k-1)])\ndiff_array=diff_array[np.fabs(diff_array)>1300]\nkmeans = KMeans(init='k-means++', n_clusters=2)\nlen_diff_array=diff_array.size\nkmeans.fit(diff_array.reshape(len_diff_array,1))\npower_step_mean=np.fabs(kmeans.cluster_centers_.flatten()).mean()\n\nfor i in range(po.size-k-1):\n\tif (po[i+k]-po[i])>power_step_mean-power_step_variance and (po[i+k]-po[i])<power_step_mean+power_step_variance:\n\t\tif state==0:\n\t\t\tstate=1\n\t\t\ton_index.append(i+k)\n\telif power_step_mean-power_step_variance<(po[i]-po[i+k]) and (po[i]-po[i+k])<power_step_mean+power_step_variance:\n\t\tif state==1:\n\t\t\tstate=0\n\t\t\toff_index.append(i+k)\n",
     "language": "python",
     "metadata": {},
     "outputs": [],
     "prompt_number": 137
    },
    {
     "cell_type": "heading",
     "level": 4,
     "metadata": {},
     "source": "Now let us mark the AC power."
    },
    {
     "cell_type": "code",
     "collapsed": false,
     "input": "ac_series=np.zeros(len(po))\nfor i in range(len(on_index)):\n    for j in range(on_index[i],off_index[i]+1):\n        ac_series[j]=power_step_mean",
     "language": "python",
     "metadata": {},
     "outputs": [],
     "prompt_number": 138
    },
    {
     "cell_type": "heading",
     "level": 4,
     "metadata": {},
     "source": "Creating the data to be understood by plot.ly"
    },
    {
     "cell_type": "code",
     "collapsed": false,
     "input": "raw_power={'x':range(len(po)),'y':po.tolist(),'name':'Raw'}\nac={'x':data['x'],'y':ac_series.tolist(), 'fill': 'tozeroy','name':'AC'}\nlayout = {\n  'title': 'Power',\n  }",
     "language": "python",
     "metadata": {},
     "outputs": [],
     "prompt_number": 139
    },
    {
     "cell_type": "heading",
     "level": 4,
     "metadata": {},
     "source": "Plotting the data in plot.ly"
    },
    {
     "cell_type": "code",
     "collapsed": false,
     "input": "res = p.plot([data,ac],layout=layout,filename='test3',fileopt='overwrite')",
     "language": "python",
     "metadata": {},
     "outputs": [
      {
       "output_type": "stream",
       "stream": "stdout",
       "text": "\n\nHigh five! You successfuly sent some data to your account on plotly. View your plot in your browser at https://plot.ly/~nipun.batra.1/7 or inside your plot.ly account where it is named 'test3'\n"
      }
     ],
     "prompt_number": 140
    },
    {
     "cell_type": "heading",
     "level": 4,
     "metadata": {},
     "source": "Creating the iframe"
    },
    {
     "cell_type": "code",
     "collapsed": false,
     "input": "s = '<iframe height=\"650\" id=\"igraph\" scrolling=\"no\" seamless=\"seamless\" src=\"'+res['url']+'/900/600\" width=\"900\"></iframe>'\n",
     "language": "python",
     "metadata": {},
     "outputs": [],
     "prompt_number": 141
    },
    {
     "cell_type": "code",
     "collapsed": false,
     "input": "h = HTML(s); h\n",
     "language": "python",
     "metadata": {},
     "outputs": [
      {
       "html": "<iframe height=\"650\" id=\"igraph\" scrolling=\"no\" seamless=\"seamless\" src=\"https://plot.ly/~nipun.batra.1/7/900/600\" width=\"900\"></iframe>",
       "metadata": {},
       "output_type": "pyout",
       "prompt_number": 142,
       "text": "<IPython.core.display.HTML at 0x65babd0>"
      }
     ],
     "prompt_number": 142
    },
    {
     "cell_type": "markdown",
     "metadata": {},
     "source": "And we are done! You can zoom and pan into the above plot to see how the AC power was disaggregated. Clearly, it does consume a major chunk of overall power."
    },
    {
     "cell_type": "heading",
     "level": 4,
     "metadata": {},
     "source": "Want to read more?"
    },
    {
     "cell_type": "markdown",
     "metadata": {},
     "source": "Most of this stuff comes from prior work in the field of Non Intrusive Load Monitoring. The data comes from our [recent work](http://energy.iiitd.edu.in:5000/) presented at [Buildsys 2013](http://www.buildsys.org/2013/); the idea of simplifying disggagregation comes from our [ICMLA work](http://www.iiitd.edu.in/~amarjeet/Research/indic.html)."
    },
    {
     "cell_type": "markdown",
     "metadata": {},
     "source": "**About**: I am Nipun Batra. Currently I am a 2nd year Computer Science PhD student studying at IIIT Delhi. I work  in Machine Learning, systems, Smart Building and ofcourse anything Python!\n    \n**Contact**: \n[Webpage](http://nipunbatra.wordpress.com/)\n[Twitter](https://twitter.com/nipun_batra)\n[Email](nipunb@iiitd.ac.in)\n\nFeel free to get in touch! These days, along with friends from UK ([Jack](http://jack-kelly.com/) and [Oliver](http://blog.oliverparson.co.uk/)), I am upto buidling a framework for Non Intrusive Load Monitoring. It is hosted on Github [here](https://github.com/nilmtk/nilmtk)."
    },
    {
     "cell_type": "markdown",
     "metadata": {},
     "source": "**NB**: I will add all proper citations in some time. Also, for Plotly users, you don't need to go through the process of rendering HTML iframes yourself. use the latest version of the API which has inherent IPython support."
    }
   ],
   "metadata": {}
  }
 ]
}
