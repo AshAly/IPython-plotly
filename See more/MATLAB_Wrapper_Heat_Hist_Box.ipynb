{
 "metadata": {
  "name": ""
 },
 "nbformat": 3,
 "nbformat_minor": 0,
 "worksheets": [
  {
   "cells": [
    {
     "cell_type": "markdown",
     "metadata": {},
     "source": [
      "Running [MATLAB in an IPython Notebook](https://github.com/arokem/python-matlab-bridge)\n",
      "=====================================\n",
      "\n",
      "With [Interactive MATLAB Graphing in Plotly](https://plot.ly/api/MATLAB)\n",
      "------------------------------------------------------------------------\n",
      "NOW WITH THE EASY TO USE MATLAB WRAPPER!\n",
      "\n",
      "Check out more examples interactive Plotly graphs in IPython notebooks here: [nbviewer.ipython.org/github/plotly/IPython-plotly/tree/master/](nbviewer.ipython.org/github/plotly/IPython-plotly/tree/master/)\n",
      "\n",
      "Questions? <andrey@plot.ly>, [@plotlygraphs](http://twitter.com/plotlygraphs)"
     ]
    },
    {
     "cell_type": "markdown",
     "metadata": {},
     "source": [
      "The Plotly MATLAB API allows you to leverage all the power of Plotly graphs conveniently from your scientific computing environment. You can work in MATLAB, share your graphs and data, and then edit it together online. Then it's all backed up, collaborative, and can be edited with other APIs and the GUI. No installation required; it's free, embeddable, and keeps data and graphs together.\n",
      "\n",
      "The API provides a set of functions that structure your data and send it to Plotly. All editing can be done through the API or from the online GUI. In addition, the PLOTLY WRAPPER function can take away all the hassle of learning a new graphing syntax. Just build your figures in MATLAB as usual and send them to Plotly with one call to the wrapper.\n",
      "\n",
      "This notebook goes through some usage scenarios to get MATLAB users started with the tool. Some steps are specific to making everything work in an IPython notebook, but you can always skip through those and get to the good stuff. Let's get started!\n"
     ]
    },
    {
     "cell_type": "markdown",
     "metadata": {},
     "source": [
      "First, we need to start a MATLAB server:"
     ]
    },
    {
     "cell_type": "code",
     "collapsed": false,
     "input": [
      "import pymatbridge as pymat\n",
      "ip = get_ipython()\n",
      "pymat.load_ipython_extension(ip, \n",
      "    matlab='C:\\Users\\Andrey\\matlab_shortcut.lnk')"
     ],
     "language": "python",
     "metadata": {},
     "outputs": [
      {
       "output_type": "stream",
       "stream": "stdout",
       "text": [
        "Starting MATLAB on http://localhost:59927\n",
        " visit http://localhost:59927/exit.m to shut down same\n",
        "."
       ]
      },
      {
       "output_type": "stream",
       "stream": "stdout",
       "text": [
        "."
       ]
      },
      {
       "output_type": "stream",
       "stream": "stdout",
       "text": [
        "."
       ]
      },
      {
       "output_type": "stream",
       "stream": "stdout",
       "text": [
        "."
       ]
      },
      {
       "output_type": "stream",
       "stream": "stdout",
       "text": [
        "."
       ]
      },
      {
       "output_type": "stream",
       "stream": "stdout",
       "text": [
        "."
       ]
      },
      {
       "output_type": "stream",
       "stream": "stdout",
       "text": [
        "MATLAB started and connected!\n"
       ]
      }
     ],
     "prompt_number": 1
    },
    {
     "cell_type": "markdown",
     "metadata": {},
     "source": [
      "Note to Windows users: Python doesn't like file paths with spaces! Above, a shortcut to matlab.exe was created and placed it in a path that did not contain spaces. It's a bit of a hack, there are better ways to do it I'm sure."
     ]
    },
    {
     "cell_type": "markdown",
     "metadata": {},
     "source": [
      "Now we are ready to run MATLAB! Let's set up the Plotly environment next. This needs to be done only once per session. The next few lines import the Plotly MATLAB API and sign in to your account. For these examples we are using the MATLAB-demos account. Find out more about generating your API key [here](https://plot.ly/api/MATLAB/getting-started/authentication).\n",
      "\n"
     ]
    },
    {
     "cell_type": "code",
     "collapsed": false,
     "input": [
      "%%matlab\n",
      "api_path = 'C:\\Users\\Andrey\\Dropbox\\ANDREY\\PLOTLY\\MATLAB-api\\plotly';\n",
      "addpath(genpath(api_path))\n",
      "signin('MATLAB-demos', '3qhoowzv5n');"
     ],
     "language": "python",
     "metadata": {},
     "outputs": [],
     "prompt_number": 2
    },
    {
     "cell_type": "markdown",
     "metadata": {},
     "source": [
      "BOX PLOT: simple syntax (with wrapper)"
     ]
    },
    {
     "cell_type": "code",
     "collapsed": false,
     "input": [
      "%%matlab\n",
      "\n",
      "clear all\n",
      "close all\n",
      "\n",
      "% some random points\n",
      "data1 = normrnd(5,1,100,1);\n",
      "data2 = normrnd(6,1,100,1);\n",
      "\n",
      "% a simple box plot with two boxes\n",
      "figure;\n",
      "boxplot([data1,data2])\n",
      "\n",
      "% Work that Plotly magic!\n",
      "response = fig2plotly(get(gcf), 'name', 'Two Box Plot');"
     ],
     "language": "python",
     "metadata": {},
     "outputs": [
      {
       "metadata": {},
       "output_type": "display_data",
       "png": "[encoded data removed]"
      }
     ],
     "prompt_number": 11
    },
    {
     "cell_type": "markdown",
     "metadata": {},
     "source": [
      "The plot has been sent to the [MATLAB-demos account](https://plot.ly/~andreyDim) and the command returns the unique url [https://plot.ly/~MATLAB-demos/0](https://plot.ly/~MATLAB-demos/0) where anyone can view the rendered graph. By default, the plot is named \"untitled\". In the following examples, we see how the command allows the user to give a custom name, otherwise it will try to extract it from the figure title.\n",
      "\n",
      "Every plotly graph URL can be [embedded in HTML as wrapped in an IFrame](https://plot.ly/api/MATLAB/docs/iframes). Here's a quick utility function that will embed a plotly graph in IPython notebooks."
     ]
    },
    {
     "cell_type": "code",
     "collapsed": false,
     "input": [
      "from IPython.display import HTML\n",
      "\n",
      "def show_plot(url, width=700, height=500):\n",
      "    s = '<iframe height=\"%s\" id=\"igraph\" scrolling=\"no\" seamless=\"seamless\" src=\"%s\" width=\"%s\"></iframe>' %\\\n",
      "    (height+50, \"/\".join(map(str,[url, width, height])), width+50)\n",
      "    return HTML(s)\n"
     ],
     "language": "python",
     "metadata": {},
     "outputs": [],
     "prompt_number": 4
    },
    {
     "cell_type": "markdown",
     "metadata": {},
     "source": [
      "To see the resulting plot, we only need to input the fowwoling command:"
     ]
    },
    {
     "cell_type": "code",
     "collapsed": false,
     "input": [
      "show_plot('https://plot.ly/~MATLAB-demos/10')"
     ],
     "language": "python",
     "metadata": {},
     "outputs": [
      {
       "html": [
        "<iframe height=\"550\" id=\"igraph\" scrolling=\"no\" seamless=\"seamless\" src=\"https://plot.ly/~MATLAB-demos/10/700/500\" width=\"750\"></iframe>"
       ],
       "metadata": {},
       "output_type": "pyout",
       "prompt_number": 12,
       "text": [
        "<IPython.core.display.HTML at 0x646eeb8>"
       ]
      }
     ],
     "prompt_number": 12
    },
    {
     "cell_type": "markdown",
     "metadata": {},
     "source": [
      "BOX PLOT: full syntax (with API)"
     ]
    },
    {
     "cell_type": "code",
     "collapsed": false,
     "input": [
      "%%matlab\n",
      "\n",
      "clear all\n",
      "close all\n",
      "\n",
      "% some random points\n",
      "data1 = normrnd(5,1,100,1);\n",
      "data2 = normrnd(6,1,100,1);\n",
      "\n",
      "% a simple box plot with two boxes\n",
      "box1 = struct('y', data1, ...\n",
      "\t'type', 'box');\n",
      "box2 = struct('y', data2, ...\n",
      "\t'type', 'box');\n",
      "\n",
      "% Work that Plotly magic!\n",
      "response = plotly({box1, box2});\n",
      "display(response.url)\n"
     ],
     "language": "python",
     "metadata": {},
     "outputs": [
      {
       "metadata": {},
       "output_type": "display_data",
       "text": [
        "https://plot.ly/~MATLAB-demos/11\r\n"
       ]
      }
     ],
     "prompt_number": 13
    },
    {
     "cell_type": "markdown",
     "metadata": {},
     "source": [
      "Visualize:"
     ]
    },
    {
     "cell_type": "code",
     "collapsed": false,
     "input": [
      "show_plot('https://plot.ly/~MATLAB-demos/11')"
     ],
     "language": "python",
     "metadata": {},
     "outputs": [
      {
       "html": [
        "<iframe height=\"550\" id=\"igraph\" scrolling=\"no\" seamless=\"seamless\" src=\"https://plot.ly/~MATLAB-demos/11/700/500\" width=\"750\"></iframe>"
       ],
       "metadata": {},
       "output_type": "pyout",
       "prompt_number": 14,
       "text": [
        "<IPython.core.display.HTML at 0x646ef28>"
       ]
      }
     ],
     "prompt_number": 14
    },
    {
     "cell_type": "markdown",
     "metadata": {},
     "source": [
      "HISTOGRAM PLOT: simple syntax (with wrapper)"
     ]
    },
    {
     "cell_type": "code",
     "collapsed": false,
     "input": [
      "%%matlab\n",
      "\n",
      "clear all\n",
      "close all\n",
      "\n",
      "% some random points\n",
      "x = normrnd(5,1,100,1);\n",
      "\n",
      "% a simple histogram\n",
      "figure\n",
      "hist(x)\n",
      "\n",
      "% Work that Plotly magic!\n",
      "response = fig2plotly(get(gcf), 'name', 'Simple Histogram');\n"
     ],
     "language": "python",
     "metadata": {},
     "outputs": [
      {
       "metadata": {},
       "output_type": "display_data",
       "png": "[encoded data removed]"
      }
     ],
     "prompt_number": 15
    },
    {
     "cell_type": "code",
     "collapsed": false,
     "input": [
      "show_plot('https://plot.ly/~MATLAB-demos/12')"
     ],
     "language": "python",
     "metadata": {},
     "outputs": [
      {
       "html": [
        "<iframe height=\"550\" id=\"igraph\" scrolling=\"no\" seamless=\"seamless\" src=\"https://plot.ly/~MATLAB-demos/12/700/500\" width=\"750\"></iframe>"
       ],
       "metadata": {},
       "output_type": "pyout",
       "prompt_number": 16,
       "text": [
        "<IPython.core.display.HTML at 0x646e9b0>"
       ]
      }
     ],
     "prompt_number": 16
    },
    {
     "cell_type": "markdown",
     "metadata": {},
     "source": [
      "HISTOGRAM PLOT: full syntax (with API)"
     ]
    },
    {
     "cell_type": "code",
     "collapsed": false,
     "input": [
      "%%matlab\n",
      "\n",
      "clear all\n",
      "close all\n",
      "\n",
      "% some random points\n",
      "x = normrnd(5,1,100,1);\n",
      "\n",
      "% a simple histogram\n",
      "data = struct('x', x, ...\n",
      "\t'type', 'histogramx');\n",
      "\n",
      "% Work that Plotly magic!\n",
      "response = plotly({data});\n",
      "display(response.url)"
     ],
     "language": "python",
     "metadata": {},
     "outputs": [
      {
       "metadata": {},
       "output_type": "display_data",
       "text": [
        "https://plot.ly/~MATLAB-demos/13\r\n"
       ]
      }
     ],
     "prompt_number": 17
    },
    {
     "cell_type": "code",
     "collapsed": false,
     "input": [
      "show_plot('https://plot.ly/~MATLAB-demos/13')"
     ],
     "language": "python",
     "metadata": {},
     "outputs": [
      {
       "html": [
        "<iframe height=\"550\" id=\"igraph\" scrolling=\"no\" seamless=\"seamless\" src=\"https://plot.ly/~MATLAB-demos/13/700/500\" width=\"750\"></iframe>"
       ],
       "metadata": {},
       "output_type": "pyout",
       "prompt_number": 18,
       "text": [
        "<IPython.core.display.HTML at 0x601ecf8>"
       ]
      }
     ],
     "prompt_number": 18
    },
    {
     "cell_type": "markdown",
     "metadata": {},
     "source": [
      "HEATMAP PLOT: simple syntax (with wrapper)"
     ]
    },
    {
     "cell_type": "code",
     "collapsed": false,
     "input": [
      "%%matlab\n",
      "\n",
      "clear all\n",
      "close all\n",
      "\n",
      "% some random points\n",
      "z = rand(50)*4+10;\n",
      "\n",
      "% a simple heatmap\n",
      "colormap('hot');   % set colormap\n",
      "imagesc(z);        % draw image and scale colormap to values range\n",
      "colorbar;          % show color scale\n",
      "\n",
      "% Work that Plotly magic!\n",
      "response = fig2plotly(get(gcf), 'name', 'Simple Heatmap');"
     ],
     "language": "python",
     "metadata": {},
     "outputs": [
      {
       "metadata": {},
       "output_type": "display_data",
       "png": "[encoded data removed]"
      }
     ],
     "prompt_number": 20
    },
    {
     "cell_type": "code",
     "collapsed": false,
     "input": [
      "show_plot('https://plot.ly/~MATLAB-demos/14')"
     ],
     "language": "python",
     "metadata": {},
     "outputs": [
      {
       "html": [
        "<iframe height=\"550\" id=\"igraph\" scrolling=\"no\" seamless=\"seamless\" src=\"https://plot.ly/~MATLAB-demos/14/700/500\" width=\"750\"></iframe>"
       ],
       "metadata": {},
       "output_type": "pyout",
       "prompt_number": 22,
       "text": [
        "<IPython.core.display.HTML at 0x646eba8>"
       ]
      }
     ],
     "prompt_number": 22
    },
    {
     "cell_type": "markdown",
     "metadata": {},
     "source": [
      "HEATMAP PLOT: full syntax (with API)"
     ]
    },
    {
     "cell_type": "code",
     "collapsed": false,
     "input": [
      "%%matlab\n",
      "\n",
      "clear all\n",
      "close all\n",
      "\n",
      "% some random points\n",
      "z = rand(50)*4+10;\n",
      "\n",
      "% a simple heatmap\n",
      "data = struct('z', z, ...\n",
      "\t    'type', 'heatmap')\n",
      "\n",
      "% Work that Plotly magic!\n",
      "response = plotly({data});\n",
      "display(response.url)"
     ],
     "language": "python",
     "metadata": {},
     "outputs": [
      {
       "metadata": {},
       "output_type": "display_data",
       "text": [
        "\r\n",
        "data = \r\n",
        "\r\n",
        "       z: [50x50 double]\r\n",
        "    type: 'heatmap'\r\n",
        "\r\n",
        "https://plot.ly/~MATLAB-demos/15\r\n"
       ]
      }
     ],
     "prompt_number": 23
    },
    {
     "cell_type": "code",
     "collapsed": false,
     "input": [
      "show_plot('https://plot.ly/~MATLAB-demos/15')"
     ],
     "language": "python",
     "metadata": {},
     "outputs": [
      {
       "html": [
        "<iframe height=\"550\" id=\"igraph\" scrolling=\"no\" seamless=\"seamless\" src=\"https://plot.ly/~MATLAB-demos/15/700/500\" width=\"750\"></iframe>"
       ],
       "metadata": {},
       "output_type": "pyout",
       "prompt_number": 24,
       "text": [
        "<IPython.core.display.HTML at 0x647b240>"
       ]
      }
     ],
     "prompt_number": 24
    },
    {
     "cell_type": "code",
     "collapsed": false,
     "input": [],
     "language": "python",
     "metadata": {},
     "outputs": []
    }
   ],
   "metadata": {}
  }
 ]
}