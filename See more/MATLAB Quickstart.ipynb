{
 "metadata": {
  "name": "MATLAB Quickstart"
 },
 "nbformat": 3,
 "nbformat_minor": 0,
 "worksheets": [
  {
   "cells": [
    {
     "cell_type": "markdown",
     "metadata": {},
     "source": "# Quickstart with Plotly\n\n1 - Download and unzip the latest MATLAB-Plotly library here: [https://github.com/plotly/MATLAB-api/releases/latest](https://github.com/plotly/MATLAB-api/releases/latest)  \n2 - Place the folder somewhere permanent on your computer  \n3 - Start MATLAB and enter:  \n```\n>> path =  '/Users/chris/plotlygithub/MATLAB-api'; % Fill in with your path\n>> addpath(genpath(path));\n```"
    },
    {
     "cell_type": "code",
     "collapsed": false,
     "input": "import pymatbridge as pymat\nip = get_ipython()\npymat.load_ipython_extension(ip, \n    matlab='\"/Applications/MATLAB_R2013a_Student.app/bin/matlab\"')",
     "language": "python",
     "metadata": {},
     "outputs": [
      {
       "output_type": "stream",
       "stream": "stdout",
       "text": "Starting MATLAB on http://localhost:60830\n visit http://localhost:60830/exit.m to shut down same\n"
      },
      {
       "output_type": "stream",
       "stream": "stdout",
       "text": "."
      },
      {
       "output_type": "stream",
       "stream": "stdout",
       "text": "."
      },
      {
       "output_type": "stream",
       "stream": "stdout",
       "text": "."
      },
      {
       "output_type": "stream",
       "stream": "stdout",
       "text": "."
      },
      {
       "output_type": "stream",
       "stream": "stdout",
       "text": "."
      },
      {
       "output_type": "stream",
       "stream": "stdout",
       "text": "."
      },
      {
       "output_type": "stream",
       "stream": "stdout",
       "text": "."
      },
      {
       "output_type": "stream",
       "stream": "stdout",
       "text": "."
      },
      {
       "output_type": "stream",
       "stream": "stdout",
       "text": "."
      },
      {
       "output_type": "stream",
       "stream": "stdout",
       "text": "."
      },
      {
       "output_type": "stream",
       "stream": "stdout",
       "text": "."
      },
      {
       "output_type": "stream",
       "stream": "stdout",
       "text": "."
      },
      {
       "output_type": "stream",
       "stream": "stdout",
       "text": "."
      },
      {
       "output_type": "stream",
       "stream": "stdout",
       "text": "."
      },
      {
       "output_type": "stream",
       "stream": "stdout",
       "text": "."
      },
      {
       "output_type": "stream",
       "stream": "stdout",
       "text": "."
      },
      {
       "output_type": "stream",
       "stream": "stdout",
       "text": "."
      },
      {
       "output_type": "stream",
       "stream": "stdout",
       "text": "MATLAB started and connected!\n"
      }
     ],
     "prompt_number": 1
    },
    {
     "cell_type": "code",
     "collapsed": false,
     "input": "from IPython.display import HTML\n\ndef show_plot(url, width=700, height=500):\n    s = '<iframe height=\"%s\" id=\"igraph\" scrolling=\"no\" seamless=\"seamless\" src=\"%s\" width=\"%s\"></iframe>' %\\\n    (height+50, \"/\".join(map(str,[url, width, height])), width+50)\n    return HTML(s)",
     "language": "python",
     "metadata": {},
     "outputs": [],
     "prompt_number": 11
    },
    {
     "cell_type": "markdown",
     "metadata": {},
     "source": "Enter your plotly creds ([Sign up here](https://plot.ly/ssu) and [view your API key here](https://plot.ly/api/key))"
    },
    {
     "cell_type": "code",
     "collapsed": false,
     "input": "%%matlab\npath =  '/Users/chris/plotlygithub/MATLAB-api'; % Fill in with your path\naddpath(genpath(path));\napi_key = '1ch7o7hdu7';\nusername = 'ChrisP';\nsignin(username, api_key);\n",
     "language": "python",
     "metadata": {},
     "outputs": [],
     "prompt_number": 3
    },
    {
     "cell_type": "markdown",
     "metadata": {},
     "source": "# Let's graph the Lotka-Volterra equations"
    },
    {
     "cell_type": "markdown",
     "metadata": {},
     "source": "### First, we'll define and numerically solve the differential equation"
    },
    {
     "cell_type": "code",
     "collapsed": false,
     "input": "%%matlab\n\n% Define the Lotka-Volterra equation\nlotka = @(t,y)  diag([1 - .01*y(2), -1 + .02*y(1)])*y;\n\n% Define initial conditions.\nt0 = 0;\ntfinal = 15;\ny0 = [20 20]';\n% Simulate the differential equation.\ntfinal = tfinal*(1+eps);\n[t,y] = ode23('lotka',[t0 tfinal],y0);",
     "language": "python",
     "metadata": {},
     "outputs": [],
     "prompt_number": 8
    },
    {
     "cell_type": "markdown",
     "metadata": {},
     "source": "### Now, let's graph it with plotly"
    },
    {
     "cell_type": "code",
     "collapsed": false,
     "input": "%%matlab\ndisp(plotly(t, y(:,1), t, y(:,2)))",
     "language": "python",
     "metadata": {},
     "outputs": [
      {
       "metadata": {},
       "output_type": "display_data",
       "text": "         url: 'https://plot.ly/~ChrisP/102'\n     message: [1x0 char]\n     warning: [1x0 char]\n    filename: 'plot from API (12)'\n       error: [1x0 char]\n\n"
      }
     ],
     "prompt_number": 10
    },
    {
     "cell_type": "code",
     "collapsed": false,
     "input": "show_plot('https://plot.ly/~ChrisP/102')",
     "language": "python",
     "metadata": {},
     "outputs": [
      {
       "html": "<iframe height=\"550\" id=\"igraph\" scrolling=\"no\" seamless=\"seamless\" src=\"https://plot.ly/~ChrisP/102/700/500\" width=\"750\"></iframe>",
       "metadata": {},
       "output_type": "pyout",
       "prompt_number": 12,
       "text": "<IPython.core.display.HTML at 0x105b6e710>"
      }
     ],
     "prompt_number": 12
    },
    {
     "cell_type": "markdown",
     "metadata": {},
     "source": "### Plotly graphs are interactive. Hover over the points to view the text, click-and-drag to zoom, shift-click-and-drag to pan."
    },
    {
     "cell_type": "markdown",
     "metadata": {},
     "source": "The `plotly` command saves the graph in your plotly account and returns a [unique url](https://plot.ly/~ChrisP/102) where you can view the graph.\n\n### Since your graph is online\n\nyou can can share it with that [unique url](https://plot.ly/~IPython.Demo/1085), or [embed](https://plot.ly/api/python/docs/iframes) your interactive graph in a web page.\n\n### You can also edit the graph in the plotly web-app: No additional code is required to create a publication-quality graph\n\nI edited the graph we just made inside the plotly web-app. All of the options available to customize your graph in the web-app are exposed through the API.\n\nCheck out my new version here: [https://plot.ly/~cparmer2/640](https://plot.ly/~cparmer2/640). Below, I embed it in our notebook:"
    },
    {
     "cell_type": "code",
     "collapsed": false,
     "input": "show_plot(\"https://plot.ly/~cparmer2/640\", width=1000, height=650)",
     "language": "python",
     "metadata": {},
     "outputs": [
      {
       "html": "<iframe height=\"700\" id=\"igraph\" scrolling=\"no\" seamless=\"seamless\" src=\"https://plot.ly/~cparmer2/640/1000/650\" width=\"1050\"></iframe>",
       "metadata": {},
       "output_type": "pyout",
       "prompt_number": 13,
       "text": "<IPython.core.display.HTML at 0x105b6eb10>"
      }
     ],
     "prompt_number": 13
    },
    {
     "cell_type": "markdown",
     "metadata": {},
     "source": "### In plotly, the data and the graph are always together, you can view the underlying data in every plotly graph.\nThe graph that we just made can be viewed here: [https://plot.ly/~cparmer2/640](https://plot.ly/~cparmer2/640) and that graph's data lives here: [https://plot.ly/640/~cparmer2/data](https://plot.ly/640/~cparmer2/data)."
    },
    {
     "cell_type": "markdown",
     "metadata": {},
     "source": "### Let's look at another example. This time, we'll style our graph entirely with code\n\nEach `trace` or `series` in a plotly graph is described by a MATLAB `struct`. We group several of them together in a MATLAB `cell array`:"
    },
    {
     "cell_type": "code",
     "collapsed": false,
     "input": "%%matlab\n\n% Create a set of values for the damping factor\nzeta = [0.01 .02 0.05 0.1 .2 .5 1 ];\n\n% Create a range of frequency values equally spaced logarithmically\nw = logspace(-1, 1, 1000);\n\n% Define a color for each damping factor\ncolors = {'#eff3ff' '#c6dbef' '#9ecae1' '#6baed6' '#4292c6' '#2171b5' '#084594'};\n\n% Create PLOTLY data structs\ndata = cell(1,7);\n\n% Produce gain vs. frequency for each of the seven damping factors\nfor i = 1:7\n    a = w.^2 - 1;\n    b = 2*w*zeta(i);\n    gain = sqrt(1./(a.^2 + b.^2));\n    \n    \n    data{i} = struct(...\n      'x', w, ...\n      'y', gain, ...\n      'type', 'scatter', ...\n      'name', ['damping: ' num2str(zeta(i))], ...\n      'mode', 'lines', ...\n      'line', struct('color',colors{i},...\n        'width',3) ...\n  );\n    \nend",
     "language": "python",
     "metadata": {},
     "outputs": [],
     "prompt_number": 18
    },
    {
     "cell_type": "markdown",
     "metadata": {},
     "source": "The rest of the graph, like the axes style and the titles are also described as structs:"
    },
    {
     "cell_type": "code",
     "collapsed": false,
     "input": "%%matlab\n% set axis styles\naxesstyle_x = struct( ...\n    'type' , 'log', ...\n    'range' , [-1, 1], ...\n    'title' , 'Frequency' ...\n);\naxesstyle_y = struct( ...\n    'type' , 'log', ...\n    'range' , [-2, 2], ...\n    'title' , 'Gain' ...\n);\n\n% set layout style\nlayout = struct( ...\n    'title', 'Gain VS Frequency', ...\n    'xaxis' , axesstyle_x, ...\n    'yaxis' , axesstyle_y...\n);",
     "language": "python",
     "metadata": {},
     "outputs": [],
     "prompt_number": 23
    },
    {
     "cell_type": "markdown",
     "metadata": {},
     "source": "We make our graph by calling `plotly` with the data `cell array` as the first argument, and the `layout` struct as the last argument:"
    },
    {
     "cell_type": "code",
     "collapsed": false,
     "input": "%%matlab\nresponse = plotly(data, struct('layout', layout));\nurl = response.url\nfilename = response.filename",
     "language": "python",
     "metadata": {},
     "outputs": [
      {
       "metadata": {},
       "output_type": "display_data",
       "text": "\nurl =\n\nhttps://plot.ly/~ChrisP/105\n\n\nfilename =\n\nplot from API (15)\n\n"
      }
     ],
     "prompt_number": 24
    },
    {
     "cell_type": "code",
     "collapsed": false,
     "input": "show_plot(\"https://plot.ly/~ChrisP/104\", width=1000, height=650)",
     "language": "python",
     "metadata": {},
     "outputs": [
      {
       "html": "<iframe height=\"700\" id=\"igraph\" scrolling=\"no\" seamless=\"seamless\" src=\"https://plot.ly/~ChrisP/104/1000/650\" width=\"1050\"></iframe>",
       "metadata": {},
       "output_type": "pyout",
       "prompt_number": 25,
       "text": "<IPython.core.display.HTML at 0x105b6eb90>"
      }
     ],
     "prompt_number": 25
    },
    {
     "cell_type": "markdown",
     "metadata": {},
     "source": "Usage, Your Data Rights, and Private Graphs\n-------------------------------------------\n\nWhen you make a graph on plotly, you retain the rights to your content (see our terms [here](https://plot.ly/tou)). You also control whether your graphs are public or private. Public plotting is free; for a lot of private use, you can get a Premium or Organizational plan (see http://plot.ly/plans).\n\nBy default, anyone can view the graphs at the unique URL. To make the graphs private, so that only you can see them when your logged in, set `world_readable` to `False`:"
    },
    {
     "cell_type": "code",
     "collapsed": false,
     "input": "%%matlab\nt = linspace(0, 2*pi, 100);\nx = 16.*sin(t).^3;\ny = 13.*cos(t)-5*cos(2*t)-2*cos(3*t)-cos(4*t);\n\ndata = struct();\ndata.x = x;\ndata.y = y;\ndata.line = struct('color', 'red', 'width', 6);\n\nlayout = struct();\naxes = struct();\naxes.ticks = '';\naxes.showline = false;\naxes.zeroline = false;\nlayout.xaxis = axes;\nlayout.yaxis = axes;\n\nplotly({data}, struct('layout', layout, 'filename', 'matlab public hearts', 'world_readable', true))",
     "language": "python",
     "metadata": {},
     "outputs": [
      {
       "metadata": {},
       "output_type": "display_data",
       "text": "\nans = \n\n         url: 'https://plot.ly/~ChrisP/106'\n     message: [1x0 char]\n     warning: [1x0 char]\n    filename: 'matlab public hearts'\n       error: [1x0 char]\n\n"
      }
     ],
     "prompt_number": 27
    },
    {
     "cell_type": "code",
     "collapsed": false,
     "input": "show_plot(\"https://plot.ly/~ChrisP/106\", width=1000, height=650)",
     "language": "python",
     "metadata": {},
     "outputs": [
      {
       "html": "<iframe height=\"700\" id=\"igraph\" scrolling=\"no\" seamless=\"seamless\" src=\"https://plot.ly/~ChrisP/106/1000/650\" width=\"1050\"></iframe>",
       "metadata": {},
       "output_type": "pyout",
       "prompt_number": 28,
       "text": "<IPython.core.display.HTML at 0x105bae090>"
      }
     ],
     "prompt_number": 28
    },
    {
     "cell_type": "markdown",
     "metadata": {},
     "source": "And the same graph, but with a private setting:"
    },
    {
     "cell_type": "code",
     "collapsed": false,
     "input": "%%matlab\nplotly({data}, struct('layout', layout, 'filename', 'matlab private hearts', 'world_readable', false))",
     "language": "python",
     "metadata": {},
     "outputs": [
      {
       "metadata": {},
       "output_type": "display_data",
       "text": "\nans = \n\n         url: 'https://plot.ly/~ChrisP/107'\n     message: [1x0 char]\n     warning: [1x0 char]\n    filename: 'matlab private hearts'\n       error: [1x0 char]\n\n"
      }
     ],
     "prompt_number": 30
    },
    {
     "cell_type": "code",
     "collapsed": false,
     "input": "show_plot(\"https://plot.ly/~ChrisP/107\", width=1000, height=650)",
     "language": "python",
     "metadata": {},
     "outputs": [
      {
       "html": "<iframe height=\"700\" id=\"igraph\" scrolling=\"no\" seamless=\"seamless\" src=\"https://plot.ly/~ChrisP/107/1000/650\" width=\"1050\"></iframe>",
       "metadata": {},
       "output_type": "pyout",
       "prompt_number": 31,
       "text": "<IPython.core.display.HTML at 0x105bae250>"
      }
     ],
     "prompt_number": 31
    },
    {
     "cell_type": "markdown",
     "metadata": {},
     "source": "$\\LaTeX$, Subplots, Heatmaps\n----------------------------"
    },
    {
     "cell_type": "code",
     "collapsed": false,
     "input": "%%matlab\nx = linspace(-7,7,100);\n\nline_style = struct('color', '#7FDBFF', 'dash', 'dot');\ndata = cell(1,6);\ndata{1}.x = x;\ndata{1}.y = x;\ndata{1}.line = line_style;\nfor i = 1:4\n    data{i+1}.x = x;\n    data{i+1}.y = data{i}.y + (-1)^(i) * x.^(i*2+1)/factorial(i*2+1);\n    data{i+1}.line = line_style;\nend\ndata{6}.x = x; \ndata{6}.y = sin(x);\ndata{6}.line = struct('color', '#0074D9');\n\nlayout = struct();\nlayout.yaxis = struct();\nlayout.xaxis = struct();\n\nlayout.yaxis.range = [-4.5, 4.5]; \nlayout.yaxis.zeroline = false;\nlayout.yaxis.ticks = '';\nlayout.yaxis.showline = false;\n\nlayout.xaxis.showgrid = false;\nlayout.xaxis.showline = false;\nlayout.xaxis.zeroline = false;\nlayout.xaxis.ticks = '';\n\nlayout.showlegend = false;\nlayout.title = '$\\\\sin(x)=\\\\sum\\\\limits_{k=0}^{\\\\infty}\\\\dfrac{(-1)^k x^{1+2k}}{(1+2k)!}$';\nplotly(data, struct('layout', layout, 'filename','MATLAB LaTeX', 'fileopt', 'overwrite'))",
     "language": "python",
     "metadata": {},
     "outputs": [
      {
       "metadata": {},
       "output_type": "display_data",
       "text": "\nans = \n\n         url: 'https://plot.ly/~ChrisP/109'\n     message: [1x0 char]\n     warning: [1x0 char]\n    filename: 'MATLAB LaTeX'\n       error: [1x0 char]\n\n"
      }
     ],
     "prompt_number": 61
    },
    {
     "cell_type": "code",
     "collapsed": false,
     "input": "show_plot(\"https://plot.ly/~ChrisP/109\", width=1000, height=650)",
     "language": "python",
     "metadata": {},
     "outputs": [
      {
       "html": "<iframe height=\"700\" id=\"igraph\" scrolling=\"no\" seamless=\"seamless\" src=\"https://plot.ly/~ChrisP/109/1000/650\" width=\"1050\"></iframe>",
       "metadata": {},
       "output_type": "pyout",
       "prompt_number": 62,
       "text": "<IPython.core.display.HTML at 0x105bae210>"
      }
     ],
     "prompt_number": 62
    },
    {
     "cell_type": "markdown",
     "metadata": {},
     "source": "### Resources   \n- [Plotly Documentation](https://plot.ly/API)\n- [Plotly GitHub](https://github.com/plotly)\n- [@plotlygraphs](http://twitter.com/plotlygraphs)\n- [Plotly Facebook](https://facebook.com/plotly)\n- [The Plotly Team](https://plot.ly/team)\n- <chris@plot.ly>"
    },
    {
     "cell_type": "markdown",
     "metadata": {},
     "source": "*Hearts*  \nTeam Plotly  \nMontr\u00e9al | SF | Boston"
    }
   ],
   "metadata": {}
  }
 ]
}