{
 "metadata": {
  "language": "Julia",
  "name": "Plotly iJulia Notebook - Multiple Axes, Subplots and Insets"
 },
 "nbformat": 3,
 "nbformat_minor": 0,
 "worksheets": [
  {
   "cells": [
    {
     "cell_type": "code",
     "collapsed": false,
     "input": "using Plotly\nPlotly.signin(\"demos\",\"tj6mr52zgp\")",
     "language": "python",
     "metadata": {},
     "outputs": [
      {
       "metadata": {},
       "output_type": "pyout",
       "prompt_number": 1,
       "text": "PlotlyAccount(\"demos\",\"tj6mr52zgp\")"
      }
     ],
     "prompt_number": 1
    },
    {
     "cell_type": "code",
     "collapsed": false,
     "input": "data = [\n   [\n   \"x\"=>[1,2,3],\n   \"y\"=>[40,50,60],\n   \"name\"=>\"yaxis data\"\n   ],\n   [\n   \"x\"=>[2,3,4],\n   \"y\"=>[4,5,6],\n   \"yaxis\"=>\"y2\", # this will reference the yaxis2 object in the layout object\n   \"name\"=> \"yaxis2 data\"\n   ]   \n];\nlayout = [\n   \"yaxis\"=>[\n      \"title\"=> \"yaxis title\", # optional\n   ],\n   \"yaxis2\"=>[\n      \"title\"=> \"yaxis2 title\", # optional\n      \"titlefont\"=>[\n         \"color\"=>\"rgb(148, 103, 189)\"\n      ],\n      \"tickfont\"=>[\n         \"color\"=>\"rgb(148, 103, 189)\"\n      ],\n      \"overlaying\"=>\"y\",\n      \"side\"=>\"right\",\n   ], \n   \"title\"=> \"Double Y Axis Example\",\n]\n\n\nresponse = Plotly.plot([data], [\"layout\" => layout])\nurl = response[\"url\"]\nfilename = response[\"filename\"]\n\ns = string(\"<iframe height='750' id='igraph' scrolling='no' seamless='seamless' src='\",\n            response[\"url\"],\n            \"/700/700' width='750'></iframe>\")\ndisplay(\"text/html\", s)",
     "language": "python",
     "metadata": {},
     "outputs": [
      {
       "html": "<iframe height='750' id='igraph' scrolling='no' seamless='seamless' src='http://plot.ly/~demos/774/700/700' width='750'></iframe>",
       "metadata": {},
       "output_type": "display_data"
      }
     ],
     "prompt_number": 2
    },
    {
     "cell_type": "code",
     "collapsed": false,
     "input": "c = [\n      \"#1f77b4\", # muted blue\n      \"#ff7f0e\", # safety orange\n      \"#2ca02c\", # cooked asparagus green\n      \"#d62728\", # brick red\n      \"#9467bd\", # muted purple\n      \"#8c564b\", # chestnut brown\n      \"#e377c2\", # raspberry yogurt pink\n      \"#7f7f7f\", # middle gray\n      \"#bcbd22\", # curry yellow-green\n      \"#17becf\"]; #blue-teal\n\ndata = [\n    [\n    \"x\"=>[1,2,3],\n    \"y\"=>[4,5,6],\n    \"name\"=>\"yaxis1 data\"\n   ],\n   [\n      \"x\"=>[2,3,4],\n      \"y\"=>[40,50,60],\n      \"name\"=>\"yaxis2 data\",\n      \"yaxis\"=>\"y2\" # this references the \"yaxis2\" object in layout\n   ],\n   [\n      \"x\"=>[3,4,5],\n      \"y\"=>[400,500,600],\n      \"name\"=>\"yaxis3 data\",\n      \"yaxis\"=>\"y3\"\n    ],\n    [\n    \"x\"=>[4,5,6],\n    \"y\"=>[40000,50000,60000],\n    \"name\"=>\"yaxis4 data\",\n    \"yaxis\"=>\"y4\"    \n   ],\n    [\n    \"x\"=>[5,6,7],\n    \"y\"=>[400000,500000,600000],\n    \"name\"=>\"yaxis5 data\",\n    \"yaxis\"=>\"y5\"    \n   ],\n    [\n    \"x\"=>[6,7,8],\n    \"y\"=>[4000000,5000000,6000000],\n    \"name\"=>\"yaxis6 data\",\n    \"yaxis\"=>\"y6\"    \n   ],\n]\n\nlayout = [\n    \"width\"=>800,\n    \"xaxis\"=>[\n        \"domain\"=>[0.3,0.7]\n    ],\n   \"yaxis\"=>[\n      \"title\"=> \"yaxis title\",\n      \"titlefont\"=>[\n         \"color\"=>c[1]\n      ],\n      \"tickfont\"=>[\n         \"color\"=>c[1]\n      ],\n   ],\n   \"yaxis2\"=>[\n      \"overlaying\"=>\"y\",\n      \"side\"=>\"left\",\n      \"anchor\"=>\"free\",\n      \"position\"=>0.15,\n      \n      \"title\"=> \"yaxis2 title\",\n      \"titlefont\"=>[\n         \"color\"=>c[2]\n      ],\n      \"tickfont\"=>[\n         \"color\"=>c[2]\n      ],\n   ],\n   \"yaxis3\"=>[\n      \"overlaying\"=>\"y\",\n      \"side\"=>\"left\",\n      \"anchor\"=>\"free\",\n      \"position\"=>0,\n      \n      \"title\"=> \"yaxis3 title\",\n      \"titlefont\"=>[\n         \"color\"=>c[3]\n      ],\n      \"tickfont\"=>[\n         \"color\"=>c[3]\n      ],\n   ],\n\n   \"yaxis4\"=>[     \n      \"overlaying\"=>\"y\",\n      \"side\"=>\"right\",\n      \"anchor\"=>\"x\",\n      \n      \"title\"=> \"yaxis4 title\",\n      \"titlefont\"=>[\n         \"color\"=>c[4]\n      ],\n      \"tickfont\"=>[\n         \"color\"=>c[4]\n      ],      \n   ],\n\n   \"yaxis5\"=>[     \n      \"overlaying\"=>\"y\",\n      \"side\"=>\"right\",\n      \"anchor\"=>\"free\",\n      \"position\"=>0.85,\n\n      \"title\"=> \"yaxis5 title\",\n      \"titlefont\"=>[\n         \"color\"=>c[5]\n      ],\n      \"tickfont\"=>[\n         \"color\"=>c[5]\n      ],      \n   ],\n\n   \"yaxis6\"=>[     \n      \"overlaying\"=>\"y\",\n      \"side\"=>\"right\",\n      \"anchor\"=>\"free\",\n      \"position\"=>1.0,\n\n      \"title\"=> \"yaxis6 title\",\n      \"titlefont\"=>[\n         \"color\"=>c[6]\n      ],\n      \"tickfont\"=>[\n         \"color\"=>c[6]\n      ],      \n    ],\n    \"title\"=> \"multiple y-axes example\"\n]\n\n\n\nresponse = Plotly.plot([data], [\"layout\" => layout])\nurl = response[\"url\"]\nfilename = response[\"filename\"]\n\ns = string(\"<iframe height='750' id='igraph' scrolling='no' seamless='seamless' src='\",\n            response[\"url\"],\n            \"/700/700' width='750'></iframe>\")\ndisplay(\"text/html\", s)",
     "language": "python",
     "metadata": {},
     "outputs": [
      {
       "html": "<iframe height='750' id='igraph' scrolling='no' seamless='seamless' src='http://plot.ly/~demos/775/700/700' width='750'></iframe>",
       "metadata": {},
       "output_type": "display_data"
      }
     ],
     "prompt_number": 3
    },
    {
     "cell_type": "code",
     "collapsed": false,
     "input": "data = [\n    [\n    \"x\"=>[1,2,3],\n    \"y\"=>[4,5,6],\n   ],\n   [\n      \"x\"=>[20,30,40],\n      \"y\"=>[50,60,70],\n      \"xaxis\"=>\"x2\",\n      \"yaxis\"=>\"y2\"\n   ]\n]\n\nlayout = [\n    \"xaxis\"=>[\n        \"domain\"=>[0,0.45] # i.e. let the first x-axis span the first 45% of the plot width\n    ],\n    \"xaxis2\"=>[\n        \"domain\"=>[0.55,1] # i.e. let the second x-axis span the latter 45% of the plot width\n    ],\n    \"yaxis2\"=>[\n        \"anchor\"=>\"x2\" # i.e. bind the second y-axis to the start of the second x-axis\n    ]\n]\n\nresponse = Plotly.plot([data], [\"layout\" => layout])\nurl = response[\"url\"]\nfilename = response[\"filename\"]\n\ns = string(\"<iframe height='750' id='igraph' scrolling='no' seamless='seamless' src='\",\n            response[\"url\"],\n            \"/700/700' width='750'></iframe>\")\ndisplay(\"text/html\", s)",
     "language": "python",
     "metadata": {},
     "outputs": [
      {
       "html": "<iframe height='750' id='igraph' scrolling='no' seamless='seamless' src='http://plot.ly/~demos/776/700/700' width='750'></iframe>",
       "metadata": {},
       "output_type": "display_data"
      }
     ],
     "prompt_number": 4
    },
    {
     "cell_type": "code",
     "collapsed": false,
     "input": "data = [\n    [\n    \"x\"=>[1,2,3],\n    \"y\"=>[4,5,6],\n   ],\n   [\n      \"x\"=>[20,30,40],\n      \"y\"=>[50,60,70],\n      \"xaxis\"=>\"x2\",\n      \"yaxis\"=>\"y2\"\n   ]\n]\n\nlayout = [\n    \"xaxis\"=>[\n        \"domain\"=>[0,0.7] # i.e. let the first x-axis span the first 70% of the plot width\n    ],\n    \"xaxis2\"=>[\n        \"domain\"=>[0.8,1] # i.e. let the second x-axis span the latter 20% of the plot width\n    ],\n    \"yaxis2\"=>[\n        \"anchor\"=>\"x2\" # i.e. bind the second y-axis to the start of the second x-axis\n    ]\n]\n\nresponse = Plotly.plot([data], [\"layout\" => layout])\nurl = response[\"url\"]\nfilename = response[\"filename\"]\n\ns = string(\"<iframe height='750' id='igraph' scrolling='no' seamless='seamless' src='\",\n            response[\"url\"],\n            \"/700/700' width='750'></iframe>\")\ndisplay(\"text/html\", s)",
     "language": "python",
     "metadata": {},
     "outputs": [
      {
       "html": "<iframe height='750' id='igraph' scrolling='no' seamless='seamless' src='http://plot.ly/~demos/777/700/700' width='750'></iframe>",
       "metadata": {},
       "output_type": "display_data"
      }
     ],
     "prompt_number": 5
    },
    {
     "cell_type": "code",
     "collapsed": false,
     "input": "data = [\n    [\n    \"x\"=>[1,2,3],\n    \"y\"=>[4,5,6],\n   ],\n   [\n      \"x\"=>[20,30,40],\n      \"y\"=>[50,60,70],\n      \"xaxis\"=>\"x2\",\n      \"yaxis\"=>\"y2\"\n   ],\n   [\n      \"x\"=>[300,400,500],\n      \"y\"=>[600,700,800],\n      \"xaxis\"=>\"x3\",\n      \"yaxis\"=>\"y3\"\n   ],\n   [\n      \"x\"=>[4000,5000,6000],\n      \"y\"=>[7000,8000,9000],\n      \"xaxis\"=>\"x4\",\n      \"yaxis\"=>\"y4\"\n   ] \n]\n\nlayout = [\n    \"xaxis\"=>[\n        \"domain\"=>[0,0.45] # let the first x-axis span the first 45% of the plot width\n    ],\n    \"yaxis\"=>[\n        \"domain\"=>[0,0.45] # # and let the first y-axis span the first 45% of the plot height\n    ],\n    \"xaxis2\"=>[\n        \"domain\"=>[0.55,1] # and let the second x-axis span the latter 45% of the plot width\n    ],\n    \"yaxis2\"=>[\n        \"domain\"=>[0,0.45], # and let the second y-axis span the first 45% of the plot height\n        \"anchor\"=>\"x2\" # bind the horizontal position of the second y-axis to the start of the second x-axis\n    ],\n    \"xaxis3\"=>[\n        \"domain\"=>[0,0.45],\n        \"anchor\"=>\"y3\" # bind the vertical position of this axis to the start of yaxis3\n    ],\n    \"yaxis3\"=>[\n        \"domain\"=>[0.55,1],\n    ],\n    \"xaxis4\"=>[\n        \"domain\"=>[0.55,1],\n        \"anchor\"=>\"y4\", # bind the vertical position of this axis to the start of yaxis4\n    ],\n    \"yaxis4\"=>[\n        \"domain\"=>[0.55,1],\n        \"anchor\"=>\"x4\" # bind the horizontal position of this axis to the start of xaxis4\n    ]    \n]\n\nresponse = Plotly.plot([data], [\"layout\" => layout])\nurl = response[\"url\"]\nfilename = response[\"filename\"]\n\ns = string(\"<iframe height='750' id='igraph' scrolling='no' seamless='seamless' src='\",\n            response[\"url\"],\n            \"/700/700' width='750'></iframe>\")\ndisplay(\"text/html\", s)",
     "language": "python",
     "metadata": {},
     "outputs": [
      {
       "html": "<iframe height='750' id='igraph' scrolling='no' seamless='seamless' src='http://plot.ly/~demos/778/700/700' width='750'></iframe>",
       "metadata": {},
       "output_type": "display_data"
      }
     ],
     "prompt_number": 6
    },
    {
     "cell_type": "code",
     "collapsed": false,
     "input": "data = [\n    [\n    \"x\"=>[1,2,3],\n    \"y\"=>[2,3,4],\n   ],\n   [\n      \"x\"=>[20,30,40],\n      \"y\"=>[5,5,5],\n      \"xaxis\"=>\"x2\",\n      \"yaxis\"=>\"y\"\n   ],\n   [\n      \"x\"=>[2,3,4],\n      \"y\"=>[600,700,800],\n      \"xaxis\"=>\"x\",\n      \"yaxis\"=>\"y3\"\n   ],\n   [\n      \"x\"=>[4000,5000,6000],\n      \"y\"=>[7000,8000,9000],\n      \"xaxis\"=>\"x4\",\n      \"yaxis\"=>\"y4\"\n   ] \n]\n\nlayout = [\n    \"xaxis\"=>[\n        \"domain\"=>[0,0.45] # let the first x-axis span the first 45% of the plot width\n    ],\n    \"yaxis\"=>[\n        \"domain\"=>[0,0.45] # and let the first y-axis span the first 45% of the plot height\n    ],\n    \"xaxis2\"=>[\n        \"domain\"=>[0.55,1] # and let the second x-axis span the latter 45% of the plot width\n    ],\n    \"yaxis3\"=>[\n        \"domain\"=>[0.55,1],\n    ],\n    \"xaxis4\"=>[\n        \"domain\"=>[0.55,1],\n        \"anchor\"=>\"y4\", # bind the vertical position of this axis to the start of yaxis4\n    ],\n    \"yaxis4\"=>[\n        \"domain\"=>[0.55,1],\n        \"anchor\"=>\"x4\" # bind the horizontal position of this axis to the start of xaxis4\n    ]    \n]\n\nresponse = Plotly.plot([data], [\"layout\" => layout])\nurl = response[\"url\"]\nfilename = response[\"filename\"]\n\ns = string(\"<iframe height='750' id='igraph' scrolling='no' seamless='seamless' src='\",\n            response[\"url\"],\n            \"/700/700' width='750'></iframe>\")\ndisplay(\"text/html\", s)",
     "language": "python",
     "metadata": {},
     "outputs": [
      {
       "html": "<iframe height='750' id='igraph' scrolling='no' seamless='seamless' src='http://plot.ly/~demos/779/700/700' width='750'></iframe>",
       "metadata": {},
       "output_type": "display_data"
      }
     ],
     "prompt_number": 7
    },
    {
     "cell_type": "code",
     "collapsed": false,
     "input": "data = [\n    [\"x\"=> [0,1,2], \"y\"=> [10,11,12]],\n    [\"x\"=> [2,3,4], \"y\"=> [100,110,120], \"yaxis\"=> \"y2\", \"xaxis\"=> \"x2\"],\n    [\"x\"=> [3,4,5], \"y\"=> [1000,1100,1200], \"yaxis\"=> \"y3\", \"xaxis\"=> \"x3\"]\n]\n\nlayout=[\n    \"yaxis\"=> [\"domain\"=> [0,0.8/3.]],\n    \"yaxis2\"=> [\"domain\"=>[0.8/3+0.1,2*0.8/3+0.1]],\n    \"yaxis3\"=> [\"domain\"=>[2*0.8/3+0.2,1]],\n    \"xaxis2\"=> [\"anchor\"=>\"y2\"],\n    \"xaxis3\"=> [\"anchor\"=>\"y3\"],\n    \"legend\"=> [\"traceorder\"=> \"reversed\"]\n]\n    \n\nresponse = Plotly.plot([data], [\"layout\" => layout])\nurl = response[\"url\"]\nfilename = response[\"filename\"]\n\ns = string(\"<iframe height='750' id='igraph' scrolling='no' seamless='seamless' src='\",\n            response[\"url\"],\n            \"/700/700' width='750'></iframe>\")\ndisplay(\"text/html\", s)",
     "language": "python",
     "metadata": {},
     "outputs": [
      {
       "html": "<iframe height='750' id='igraph' scrolling='no' seamless='seamless' src='http://plot.ly/~demos/780/700/700' width='750'></iframe>",
       "metadata": {},
       "output_type": "display_data"
      }
     ],
     "prompt_number": 8
    },
    {
     "cell_type": "code",
     "collapsed": false,
     "input": "data = [\n    [\"x\"=> [0,1,2], \"y\"=> [10,11,12]],\n    [\"x\"=> [2,3,4], \"y\"=> [100,110,120], \"yaxis\"=> \"y2\"],\n    [\"x\"=> [3,4,5], \"y\"=> [1000,1100,1200], \"yaxis\"=> \"y3\"]\n]\n\nlayout=[\n    \"yaxis\"=> [\"domain\"=> [0,1./3.]],\n    \"yaxis2\"=> [\"domain\"=>[1./3,2./3.]],\n    \"yaxis3\"=> [\"domain\"=>[2./3.,1]],\n    \"legend\"=> [\"traceorder\"=> \"reversed\"]\n]\n\nresponse = Plotly.plot([data], [\"layout\" => layout])\nurl = response[\"url\"]\nfilename = response[\"filename\"]\n\ns = string(\"<iframe height='750' id='igraph' scrolling='no' seamless='seamless' src='\",\n            response[\"url\"],\n            \"/700/700' width='750'></iframe>\")\ndisplay(\"text/html\", s)",
     "language": "python",
     "metadata": {},
     "outputs": [
      {
       "html": "<iframe height='750' id='igraph' scrolling='no' seamless='seamless' src='http://plot.ly/~demos/781/700/700' width='750'></iframe>",
       "metadata": {},
       "output_type": "display_data"
      }
     ],
     "prompt_number": 9
    },
    {
     "cell_type": "code",
     "collapsed": false,
     "input": "data = [\n    [\n    \"x\"=>[1,2,3],\n    \"y\"=>[4,3,2],\n   ],\n   [\n      \"x\"=>[20,30,40],\n      \"y\"=>[30,40,50],\n      \"xaxis\"=>\"x2\",\n      \"yaxis\"=>\"y2\"\n   ]\n]\nlayout = [\n    \"xaxis2\"=> [\n        \"domain\"=> [0.6, 0.95],\n        \"anchor\"=> \"y2\"\n    ],\n    \"yaxis2\"=>[\n        \"domain\"=> [0.6, 0.95],\n        \"anchor\"=> \"x2\"\n    ]\n]\n\nresponse = Plotly.plot([data], [\"layout\" => layout])\nurl = response[\"url\"]\nfilename = response[\"filename\"]\n\ns = string(\"<iframe height='750' id='igraph' scrolling='no' seamless='seamless' src='\",\n            response[\"url\"],\n            \"/700/700' width='750'></iframe>\")\ndisplay(\"text/html\", s)",
     "language": "python",
     "metadata": {},
     "outputs": [
      {
       "html": "<iframe height='750' id='igraph' scrolling='no' seamless='seamless' src='http://plot.ly/~demos/782/700/700' width='750'></iframe>",
       "metadata": {},
       "output_type": "display_data"
      }
     ],
     "prompt_number": 10
    },
    {
     "cell_type": "code",
     "collapsed": false,
     "input": "",
     "language": "python",
     "metadata": {},
     "outputs": []
    }
   ],
   "metadata": {}
  }
 ]
}
