{
 "metadata": {
  "name": ""
 },
 "nbformat": 3,
 "nbformat_minor": 0,
 "worksheets": [
  {
   "cells": [
    {
     "cell_type": "code",
     "collapsed": false,
     "input": [
      "# install plotly with the command (in your terminal): pip install plotly\n",
      "import plotly \n",
      "p = plotly.plotly('IPython.Demo','1fw3zw2o13') # Demo account"
     ],
     "language": "python",
     "metadata": {},
     "outputs": [],
     "prompt_number": 1
    },
    {
     "cell_type": "code",
     "collapsed": false,
     "input": [
      "x = [1, 2, 3, 4];\n",
      "y1 = [2, 2, 2, 2];\n",
      "y2 = [10, 20, 30, 40];\n",
      "y3 = [400, 300, 200, 100];\n",
      "\n",
      "data = [\n",
      "    {'x': x, 'y': y1 },\n",
      "    {'x': x, 'y': y2, 'yaxis': 'y2'},\n",
      "    {'x': x, 'y': y3, 'yaxis': 'y3'}\n",
      "]\n",
      "layout = {\n",
      "    'title': 'Multiple Axes with Plotly | An alternative to twinx for more than 2 axes',\n",
      "    'xaxis': {'domain': [0, 0.8]},\n",
      "    'yaxis': { 'titlefont': {'color': '#1f77b4'}, 'tickfont': {'color': '#1f77b4'}}, \n",
      "    'yaxis2': {'side': 'right', 'anchor': 'x', 'overlaying': 'y',\n",
      "               'titlefont': {'color': '#ff7f0e'}, 'tickfont': {'color': '#ff7f0e'}},\n",
      "    'yaxis3': {'side': 'right', 'anchor': 'free', 'position': 1.0, 'overlaying': 'y',\n",
      "               'titlefont': {'color': '#2ca02c'}, 'tickfont': {'color': '#2ca02c'}}\n",
      "}\n",
      "    \n",
      "p.iplot(data, layout=layout)"
     ],
     "language": "python",
     "metadata": {},
     "outputs": [
      {
       "output_type": "stream",
       "stream": "stdout",
       "text": [
        "\n",
        "\n",
        "\n"
       ]
      },
      {
       "html": [
        "<iframe height=\"650\" id=\"igraph\" scrolling=\"no\" seamless=\"seamless\" src=\"https://plot.ly/~IPython.Demo/260/600/600\" width=\"650\"></iframe>"
       ],
       "metadata": {},
       "output_type": "pyout",
       "prompt_number": 14,
       "text": [
        "<IPython.core.display.HTML at 0x104b8be10>"
       ]
      }
     ],
     "prompt_number": 14
    },
    {
     "cell_type": "code",
     "collapsed": false,
     "input": [],
     "language": "python",
     "metadata": {},
     "outputs": []
    }
   ],
   "metadata": {}
  }
 ]
}