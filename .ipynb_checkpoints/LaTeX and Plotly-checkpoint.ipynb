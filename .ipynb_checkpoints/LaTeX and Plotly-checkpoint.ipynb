{
 "metadata": {
  "name": ""
 },
 "nbformat": 3,
 "nbformat_minor": 0,
 "worksheets": [
  {
   "cells": [
    {
     "cell_type": "code",
     "collapsed": false,
     "input": [
      "# install plotly with the command (in your terminal): pip install plotly\n",
      "import plotly  \n",
      "p = plotly.plotly('IPython.Demo','1fw3zw2o13') # Demo account"
     ],
     "language": "python",
     "metadata": {},
     "outputs": [],
     "prompt_number": 1
    },
    {
     "cell_type": "code",
     "collapsed": false,
     "input": [
      "import numpy as np"
     ],
     "language": "python",
     "metadata": {},
     "outputs": [],
     "prompt_number": 2
    },
    {
     "cell_type": "code",
     "collapsed": false,
     "input": [
      "x = np.linspace(0,np.pi,100)\n",
      "y1 = x;\n",
      "y2 = y1-x**3/6.\n",
      "y3 = y2+x**5/120.\n",
      "y4 = np.sin(x)\n",
      "\n",
      "p.iplot([{'x': x, 'y': y1, 'name': '$x$'},\n",
      "         {'x': x, 'y': y2, 'name': '$x-\\\\frac{x^3}{6}$'},\n",
      "         {'x': x, 'y': y3, 'name': '$x-\\\\frac{x^3}{6}+\\\\frac{x^5}{120}$'},\n",
      "         {'x': x, 'y': y4, 'name': '$x-\\\\frac{x^3}{6}+\\\\frac{x^5}{120}+\\\\cdots = \\\\sin(x)$'}\n",
      "         ], layout={'title': 'Taylor Series of $\\\\sin(x)$'})"
     ],
     "language": "python",
     "metadata": {},
     "outputs": [
      {
       "output_type": "stream",
       "stream": "stdout",
       "text": [
        "\n",
        "\n",
        "\n"
       ]
      },
      {
       "html": [
        "<iframe height=\"650\" id=\"igraph\" scrolling=\"no\" seamless=\"seamless\" src=\"https://plot.ly/~IPython.Demo/309/600/600\" width=\"650\"></iframe>"
       ],
       "metadata": {},
       "output_type": "pyout",
       "prompt_number": 6,
       "text": [
        "<IPython.core.display.HTML at 0x102456f10>"
       ]
      }
     ],
     "prompt_number": 6
    },
    {
     "cell_type": "code",
     "collapsed": false,
     "input": [],
     "language": "python",
     "metadata": {},
     "outputs": []
    }
   ],
   "metadata": {}
  }
 ]
}